{
 "cells": [
  {
   "cell_type": "code",
   "execution_count": 1,
   "id": "8a40422b-8596-4fe7-ad4d-55e12f997d88",
   "metadata": {},
   "outputs": [],
   "source": [
    "import tensorflow as tf\n",
    "import numpy as np\n",
    "import matplotlib.pyplot as plt"
   ]
  },
  {
   "cell_type": "markdown",
   "id": "b819918f-c069-46a1-bd72-77ec106fa42e",
   "metadata": {},
   "source": [
    "### Evaluating a model\n",
    "\n",
    "by visualizing\n",
    "* the data\n",
    "* the model\n",
    "* the training\n",
    "* the predictions"
   ]
  },
  {
   "cell_type": "code",
   "execution_count": 2,
   "id": "3314684a-c51d-40b8-ac12-bc2257824f90",
   "metadata": {},
   "outputs": [],
   "source": [
    "# Make a bigger dataset\n",
    "X =  tf.range(-100, 100, 4)\n",
    "# Make lables\n",
    "y = X + 10"
   ]
  },
  {
   "cell_type": "code",
   "execution_count": 3,
   "id": "b1201857-322a-4a69-8fa2-2b9cbda5d88a",
   "metadata": {},
   "outputs": [
    {
     "data": {
      "text/plain": [
       "<matplotlib.collections.PathCollection at 0x2631eb9eca0>"
      ]
     },
     "execution_count": 3,
     "metadata": {},
     "output_type": "execute_result"
    },
    {
     "data": {
      "image/png": "[encoded data removed]",
      "text/plain": [
       "<Figure size 432x288 with 1 Axes>"
      ]
     },
     "metadata": {
      "needs_background": "light"
     },
     "output_type": "display_data"
    }
   ],
   "source": [
    "plt.scatter(X,y)"
   ]
  },
  {
   "cell_type": "markdown",
   "id": "63c42fd3-ab83-4f8a-bdb1-b707d10556ef",
   "metadata": {},
   "source": [
    "#### split data into a train (70% -80%), (validation (10% to 15%) can be dropped) and a test (10% - 15%) set"
   ]
  },
  {
   "cell_type": "code",
   "execution_count": 4,
   "id": "ad6c81e3-2bfe-4840-8b1e-3ba0d6d17819",
   "metadata": {},
   "outputs": [
    {
     "data": {
      "text/plain": [
       "50"
      ]
     },
     "execution_count": 4,
     "metadata": {},
     "output_type": "execute_result"
    }
   ],
   "source": [
    "# check the length of the dataset\n",
    "len(X)"
   ]
  },
  {
   "cell_type": "code",
   "execution_count": 5,
   "id": "0fbcaf9a-5520-4056-8537-0f983cc067a1",
   "metadata": {},
   "outputs": [],
   "source": [
    "# split the data in train and test sets\n",
    "X_train = X[:40]\n",
    "y_train = y[:40]\n",
    "X_test = X[40:]\n",
    "y_test = y[40:]"
   ]
  },
  {
   "cell_type": "code",
   "execution_count": 6,
   "id": "9716e847-3c03-4307-9a99-3f16c01f7805",
   "metadata": {},
   "outputs": [
    {
     "data": {
      "text/plain": [
       "(40, 10, 40, 10)"
      ]
     },
     "execution_count": 6,
     "metadata": {},
     "output_type": "execute_result"
    }
   ],
   "source": [
    "len(X_train), len(X_test), len(y_train), len(y_test)"
   ]
  },
  {
   "cell_type": "code",
   "execution_count": 7,
   "id": "888261da-39e9-4cca-b8ad-431a075707b5",
   "metadata": {},
   "outputs": [
    {
     "data": {
      "image/png": "[encoded data removed]",
      "text/plain": [
       "<Figure size 720x504 with 1 Axes>"
      ]
     },
     "metadata": {
      "needs_background": "light"
     },
     "output_type": "display_data"
    }
   ],
   "source": [
    "###visualizing the data\n",
    "plt.figure(figsize=(10,7))\n",
    "plt.scatter(X_train, y_train, color='b', label='training data')\n",
    "plt.scatter(X_test, y_test, color='g', label = 'testing data')\n",
    "plt.legend();"
   ]
  },
  {
   "cell_type": "code",
   "execution_count": null,
   "id": "95670e7b-ff4b-46c6-8e3b-387210772949",
   "metadata": {},
   "outputs": [],
   "source": []
  },
  {
   "cell_type": "markdown",
   "id": "0dd2b56b-99a6-417b-8c5b-784ecd1a8917",
   "metadata": {},
   "source": [
    "Visualizing the model"
   ]
  },
  {
   "cell_type": "code",
   "execution_count": 8,
   "id": "0593ebe0-41f3-43a7-9ae9-42814cd5757f",
   "metadata": {},
   "outputs": [],
   "source": [
    "# Let's create a model which builds automatically by defining the input_shape argument in the first layer"
   ]
  },
  {
   "cell_type": "code",
   "execution_count": 9,
   "id": "42f7fa29-50c2-4f82-9d01-b52f410e8315",
   "metadata": {},
   "outputs": [],
   "source": [
    "tf.random.set_seed(42)\n",
    "model = tf.keras.Sequential([\n",
    "    tf.keras.layers.Dense(10, input_shape=[1], name='input_layer'),\n",
    "    tf.keras.layers.Dense(1, name = 'output_layer') # input shape: one input for one output\n",
    "], name='model_001')\n",
    "\n",
    "model.compile(loss=tf.keras.losses.mae,\n",
    "             optimizer = tf.keras.optimizers.SGD(),\n",
    "             metrics = ['mae'])"
   ]
  },
  {
   "cell_type": "code",
   "execution_count": 10,
   "id": "53b6453c-5682-472e-9fa3-d39b6168a5b8",
   "metadata": {},
   "outputs": [
    {
     "name": "stdout",
     "output_type": "stream",
     "text": [
      "Model: \"model_001\"\n",
      "_________________________________________________________________\n",
      "Layer (type)                 Output Shape              Param #   \n",
      "=================================================================\n",
      "input_layer (Dense)          (None, 10)                20        \n",
      "_________________________________________________________________\n",
      "output_layer (Dense)         (None, 1)                 11        \n",
      "=================================================================\n",
      "Total params: 31\n",
      "Trainable params: 31\n",
      "Non-trainable params: 0\n",
      "_________________________________________________________________\n"
     ]
    }
   ],
   "source": [
    "model.summary()"
   ]
  },
  {
   "cell_type": "markdown",
   "id": "d92f68e1-ee93-4f9e-a2c7-ee834dc0a80a",
   "metadata": {},
   "source": [
    "* Total params - total number parameters in the model\n",
    "* trainable parameters - these can be updated during training\n",
    "* non-trainable parametes - these can't be updated during training (see transfer learning)\n",
    "\n",
    "(see MIT's introduction to deep learning)"
   ]
  },
  {
   "cell_type": "code",
   "execution_count": 11,
   "id": "bfe06b9f-30ad-41ea-99d6-2e19368f70f2",
   "metadata": {},
   "outputs": [
    {
     "data": {
      "text/plain": [
       "<tensorflow.python.keras.callbacks.History at 0x2631eecb610>"
      ]
     },
     "execution_count": 11,
     "metadata": {},
     "output_type": "execute_result"
    }
   ],
   "source": [
    "model.fit(X_train, y_train, epochs = 100, verbose=0)"
   ]
  },
  {
   "cell_type": "code",
   "execution_count": 12,
   "id": "d5ac0720-f37f-46e2-9ead-35c4b9e0ea8c",
   "metadata": {},
   "outputs": [
    {
     "name": "stdout",
     "output_type": "stream",
     "text": [
      "Model: \"model_001\"\n",
      "_________________________________________________________________\n",
      "Layer (type)                 Output Shape              Param #   \n",
      "=================================================================\n",
      "input_layer (Dense)          (None, 10)                20        \n",
      "_________________________________________________________________\n",
      "output_layer (Dense)         (None, 1)                 11        \n",
      "=================================================================\n",
      "Total params: 31\n",
      "Trainable params: 31\n",
      "Non-trainable params: 0\n",
      "_________________________________________________________________\n"
     ]
    }
   ],
   "source": [
    "model.summary()"
   ]
  },
  {
   "cell_type": "code",
   "execution_count": 13,
   "id": "11332f9a-19e3-4017-8d20-85631bc34dab",
   "metadata": {},
   "outputs": [],
   "source": [
    "from tensorflow.keras.utils import plot_model"
   ]
  },
  {
   "cell_type": "code",
   "execution_count": 14,
   "id": "b83af259-89e8-4e13-b130-3eff6eb9db15",
   "metadata": {},
   "outputs": [
    {
     "data": {
      "image/png": "[encoded data removed]",
      "text/plain": [
       "<IPython.core.display.Image object>"
      ]
     },
     "execution_count": 14,
     "metadata": {},
     "output_type": "execute_result"
    }
   ],
   "source": [
    "plot_model(model, show_shapes=True)"
   ]
  },
  {
   "cell_type": "markdown",
   "id": "a302275b-dce8-4a7c-aec5-8ebae10c956d",
   "metadata": {},
   "source": [
    "### Visualizing our model's prediction"
   ]
  },
  {
   "cell_type": "code",
   "execution_count": 15,
   "id": "9c1727b0-e652-471a-8edf-f650992a8c89",
   "metadata": {},
   "outputs": [],
   "source": [
    "y_pred = model.predict(X_test)"
   ]
  },
  {
   "cell_type": "code",
   "execution_count": 16,
   "id": "e29d0cde-594b-4203-b9f1-0b7d70d6e8dc",
   "metadata": {},
   "outputs": [
    {
     "data": {
      "text/plain": [
       "<matplotlib.legend.Legend at 0x26320446d90>"
      ]
     },
     "execution_count": 16,
     "metadata": {},
     "output_type": "execute_result"
    },
    {
     "data": {
      "image/png": "[encoded data removed]",
      "text/plain": [
       "<Figure size 720x504 with 1 Axes>"
      ]
     },
     "metadata": {
      "needs_background": "light"
     },
     "output_type": "display_data"
    }
   ],
   "source": [
    "plt.figure(figsize=(10,7))\n",
    "\n",
    "plt.scatter(X_test, y_test, c='g', marker ='*', label = 'real data' )\n",
    "plt.scatter(X_test, y_pred, c='r', marker ='o', label = 'predicted data')\n",
    "plt.legend()"
   ]
  },
  {
   "cell_type": "code",
   "execution_count": 17,
   "id": "4ccb4a32-11b4-4d0b-b961-9d8240e9507d",
   "metadata": {},
   "outputs": [],
   "source": [
    "def plot_prediction(train_data = X_train,\n",
    "                   train_labels = y_train,\n",
    "                   test_data = X_test,\n",
    "                   test_labels = y_test,\n",
    "                   predictions = y_pred):\n",
    "    '''plots training data, test data and compares to ground truth\n",
    "    '''\n",
    "    plt.figure(figsize=(10,7))\n",
    "    plt.scatter(train_data, train_labels, c='b',marker ='.', label='training data')\n",
    "    plt.scatter(test_data, test_labels, c='g', marker='x' ,label ='testing data')\n",
    "    plt.scatter(X_test, y_pred, c='r', marker ='o', label = 'predicted data')\n",
    "    plt.legend()\n",
    "    print('MAE: ' + str(tf.metrics.mean_absolute_error(y_test, tf.squeeze(tf.constant(y_pred))).numpy()))\n",
    "    print('MSE: ' + str(tf.metrics.mean_squared_error(y_test, tf.squeeze(tf.constant(y_pred))).numpy()))"
   ]
  },
  {
   "cell_type": "code",
   "execution_count": 18,
   "id": "93364a97-4997-4b36-aa7e-76a8916f3ff7",
   "metadata": {},
   "outputs": [
    {
     "name": "stdout",
     "output_type": "stream",
     "text": [
      "MAE: 3.19694\n",
      "MSE: 13.070127\n"
     ]
    },
    {
     "data": {
      "image/png": "[encoded data removed]",
      "text/plain": [
       "<Figure size 720x504 with 1 Axes>"
      ]
     },
     "metadata": {
      "needs_background": "light"
     },
     "output_type": "display_data"
    }
   ],
   "source": [
    "plot_prediction(train_data = X_train,\n",
    "                   train_labels = y_train,\n",
    "                   test_data = X_test,\n",
    "                   test_labels = y_test,\n",
    "                   predictions = y_pred) # arguments are optional, since they are set as default"
   ]
  },
  {
   "cell_type": "markdown",
   "id": "f33c5cf9-28a3-4622-aa84-86ab2f4a765f",
   "metadata": {},
   "source": [
    "### Regression evaluation metrics\n",
    "\n",
    "* MAE - mean absolute error\n",
    "* MSE - mean square error (bias towards outliers)"
   ]
  },
  {
   "cell_type": "code",
   "execution_count": 19,
   "id": "d53feff0-2aa6-4a33-bd37-30f6706c7877",
   "metadata": {},
   "outputs": [
    {
     "name": "stdout",
     "output_type": "stream",
     "text": [
      "1/1 [==============================] - 0s 1000us/step - loss: 3.1969 - mae: 3.1969\n"
     ]
    },
    {
     "data": {
      "text/plain": [
       "[3.196941375732422, 3.196941375732422]"
      ]
     },
     "execution_count": 19,
     "metadata": {},
     "output_type": "execute_result"
    }
   ],
   "source": [
    "# Evaluate the model on the test set\n",
    "\n",
    "model.evaluate(X_test, y_test)"
   ]
  },
  {
   "cell_type": "code",
   "execution_count": 20,
   "id": "b59ed414-918b-4cfe-938b-857f90257ffd",
   "metadata": {},
   "outputs": [
    {
     "data": {
      "text/plain": [
       "<tf.Tensor: shape=(10,), dtype=float32, numpy=\n",
       "array([17.558252 , 14.1160555, 11.708944 , 10.336931 , 10.       ,\n",
       "       10.698161 , 12.447113 , 15.332995 , 19.253971 , 23.84169  ],\n",
       "      dtype=float32)>"
      ]
     },
     "execution_count": 20,
     "metadata": {},
     "output_type": "execute_result"
    }
   ],
   "source": [
    "# calculate mean absolute error\n",
    "mae = tf.metrics.mean_absolute_error(y_test, y_pred)\n",
    "mae"
   ]
  },
  {
   "cell_type": "code",
   "execution_count": 21,
   "id": "ff71f5e4-af86-455c-a38c-6a8b1ff37036",
   "metadata": {},
   "outputs": [
    {
     "data": {
      "text/plain": [
       "<tf.Tensor: shape=(10, 1), dtype=float32, numpy=\n",
       "array([[ 70.552185],\n",
       "       [ 75.13991 ],\n",
       "       [ 79.72764 ],\n",
       "       [ 84.315346],\n",
       "       [ 88.90308 ],\n",
       "       [ 93.49081 ],\n",
       "       [ 98.07852 ],\n",
       "       [102.666245],\n",
       "       [107.253975],\n",
       "       [111.84169 ]], dtype=float32)>"
      ]
     },
     "execution_count": 21,
     "metadata": {},
     "output_type": "execute_result"
    }
   ],
   "source": [
    "tf.constant(y_pred)"
   ]
  },
  {
   "cell_type": "code",
   "execution_count": 22,
   "id": "61c11bad-ff84-4438-ba95-6595a3727475",
   "metadata": {},
   "outputs": [
    {
     "data": {
      "text/plain": [
       "<tf.Tensor: shape=(10,), dtype=float32, numpy=\n",
       "array([17.558252 , 14.1160555, 11.708944 , 10.336931 , 10.       ,\n",
       "       10.698161 , 12.447113 , 15.332995 , 19.253971 , 23.84169  ],\n",
       "      dtype=float32)>"
      ]
     },
     "execution_count": 22,
     "metadata": {},
     "output_type": "execute_result"
    }
   ],
   "source": [
    "mae = tf.metrics.mean_absolute_error(y_test, y_pred)\n",
    "mae"
   ]
  },
  {
   "cell_type": "code",
   "execution_count": 23,
   "id": "1ebe8159-b456-4574-aa31-d5a2ec82b59b",
   "metadata": {},
   "outputs": [
    {
     "data": {
      "text/plain": [
       "<tf.Tensor: shape=(10,), dtype=int32, numpy=array([ 70,  74,  78,  82,  86,  90,  94,  98, 102, 106])>"
      ]
     },
     "execution_count": 23,
     "metadata": {},
     "output_type": "execute_result"
    }
   ],
   "source": [
    "y_test"
   ]
  },
  {
   "cell_type": "markdown",
   "id": "c6325fb6-d9d6-4562-966f-e2a0640f9c0a",
   "metadata": {},
   "source": [
    "**tensors have to have the same shape!**"
   ]
  },
  {
   "cell_type": "code",
   "execution_count": 24,
   "id": "a97c7abe-844c-46a0-8b1e-4018aa383d2b",
   "metadata": {},
   "outputs": [],
   "source": [
    "y_pred = tf.squeeze(y_pred)"
   ]
  },
  {
   "cell_type": "code",
   "execution_count": 25,
   "id": "972e1bb0-481a-40e1-bfda-87e5679c0c63",
   "metadata": {},
   "outputs": [
    {
     "data": {
      "text/plain": [
       "<tf.Tensor: shape=(), dtype=float32, numpy=3.19694>"
      ]
     },
     "execution_count": 25,
     "metadata": {},
     "output_type": "execute_result"
    }
   ],
   "source": [
    "mae = tf.metrics.mean_absolute_error(y_test, y_pred)\n",
    "mae"
   ]
  },
  {
   "cell_type": "code",
   "execution_count": 26,
   "id": "aed8bb28-7364-434b-b566-5e768b995643",
   "metadata": {},
   "outputs": [
    {
     "data": {
      "text/plain": [
       "<tf.Tensor: shape=(), dtype=float32, numpy=13.070127>"
      ]
     },
     "execution_count": 26,
     "metadata": {},
     "output_type": "execute_result"
    }
   ],
   "source": [
    "mse = tf.metrics.mean_squared_error(y_test, y_pred)\n",
    "mse"
   ]
  },
  {
   "cell_type": "code",
   "execution_count": 27,
   "id": "033de551-bfa9-49ee-b102-a7e8717acc0d",
   "metadata": {},
   "outputs": [
    {
     "data": {
      "text/plain": [
       "<tf.Tensor: shape=(), dtype=float32, numpy=2.7069669>"
      ]
     },
     "execution_count": 27,
     "metadata": {},
     "output_type": "execute_result"
    }
   ],
   "source": [
    "h = tf.keras.losses.Huber(delta = 1)\n",
    "h(y_test, y_pred)"
   ]
  },
  {
   "cell_type": "code",
   "execution_count": null,
   "id": "eda825e8-9064-480f-93b6-e89734a8412e",
   "metadata": {},
   "outputs": [],
   "source": []
  }
 ],
 "metadata": {
  "kernelspec": {
   "display_name": "Python 3 (ipykernel)",
   "language": "python",
   "name": "python3"
  },
  "language_info": {
   "codemirror_mode": {
    "name": "ipython",
    "version": 3
   },
   "file_extension": ".py",
   "mimetype": "text/x-python",
   "name": "python",
   "nbconvert_exporter": "python",
   "pygments_lexer": "ipython3",
   "version": "3.8.12"
  }
 },
 "nbformat": 4,
 "nbformat_minor": 5
}
