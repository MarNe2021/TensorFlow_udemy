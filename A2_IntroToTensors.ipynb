{
 "cells": [
  {
   "cell_type": "markdown",
   "id": "a73e3cfe-89dd-427a-bed8-e808efa5e797",
   "metadata": {},
   "source": [
    "# Introduction to Tensors\n",
    "\n",
    "https://www.tensorflow.org/guide/basics"
   ]
  },
  {
   "cell_type": "markdown",
   "id": "1a01e0f8-0be6-4dc2-8c00-b4776628a91b",
   "metadata": {},
   "source": [
    "### **Chapter 1**\n",
    "\n",
    "What Tensors are"
   ]
  },
  {
   "cell_type": "code",
   "execution_count": 1,
   "id": "7688d4b1-0315-4252-93c0-2067d9900351",
   "metadata": {},
   "outputs": [],
   "source": [
    "import tensorflow as tf"
   ]
  },
  {
   "cell_type": "code",
   "execution_count": 2,
   "id": "7316b4aa-0546-41d9-98a7-dd31a496fa71",
   "metadata": {},
   "outputs": [
    {
     "name": "stdout",
     "output_type": "stream",
     "text": [
      "2.3.0\n"
     ]
    }
   ],
   "source": [
    "print(tf.__version__)"
   ]
  },
  {
   "cell_type": "code",
   "execution_count": 3,
   "id": "25c731ea-80fb-4c18-a169-0f4d35740e1b",
   "metadata": {},
   "outputs": [
    {
     "data": {
      "text/plain": [
       "<tf.Tensor: shape=(), dtype=int32, numpy=7>"
      ]
     },
     "execution_count": 3,
     "metadata": {},
     "output_type": "execute_result"
    }
   ],
   "source": [
    "# creating tensors withtf.constant()\n",
    "scalar = tf.constant(7)\n",
    "scalar"
   ]
  },
  {
   "cell_type": "code",
   "execution_count": 4,
   "id": "da7310b2-9bbf-407e-80b0-7adbea66f126",
   "metadata": {},
   "outputs": [
    {
     "data": {
      "text/plain": [
       "0"
      ]
     },
     "execution_count": 4,
     "metadata": {},
     "output_type": "execute_result"
    }
   ],
   "source": [
    "#Check the number of dimensions of a tensor (ndim)\n",
    "scalar.ndim"
   ]
  },
  {
   "cell_type": "code",
   "execution_count": 5,
   "id": "54c4e016-5e2f-441f-89dd-b97d90727490",
   "metadata": {},
   "outputs": [
    {
     "data": {
      "text/plain": [
       "<tf.Tensor: shape=(2,), dtype=int32, numpy=array([10, 10])>"
      ]
     },
     "execution_count": 5,
     "metadata": {},
     "output_type": "execute_result"
    }
   ],
   "source": [
    "#Create a Vector\n",
    "vector = tf.constant([10,10])\n",
    "vector"
   ]
  },
  {
   "cell_type": "code",
   "execution_count": 6,
   "id": "a9cb1d1c-d3fc-43a3-9591-b300a9b5d7ae",
   "metadata": {},
   "outputs": [
    {
     "data": {
      "text/plain": [
       "1"
      ]
     },
     "execution_count": 6,
     "metadata": {},
     "output_type": "execute_result"
    }
   ],
   "source": [
    "vector.ndim"
   ]
  },
  {
   "cell_type": "code",
   "execution_count": 7,
   "id": "b4927c20-a77a-4dae-9b34-13dba2b6b89b",
   "metadata": {},
   "outputs": [
    {
     "data": {
      "text/plain": [
       "<tf.Tensor: shape=(2, 2), dtype=int32, numpy=\n",
       "array([[10,  7],\n",
       "       [ 7, 10]])>"
      ]
     },
     "execution_count": 7,
     "metadata": {},
     "output_type": "execute_result"
    }
   ],
   "source": [
    "#Create a matrix\n",
    "matrix = tf.constant([[10,7],[7,10]])\n",
    "matrix"
   ]
  },
  {
   "cell_type": "code",
   "execution_count": 8,
   "id": "51f0b26f-288c-4cc2-8500-4e5f9fa1fe17",
   "metadata": {},
   "outputs": [
    {
     "data": {
      "text/plain": [
       "2"
      ]
     },
     "execution_count": 8,
     "metadata": {},
     "output_type": "execute_result"
    }
   ],
   "source": [
    "matrix.ndim"
   ]
  },
  {
   "cell_type": "code",
   "execution_count": 9,
   "id": "36d9a431-4650-4c79-9d0f-e2667ec61b6e",
   "metadata": {},
   "outputs": [
    {
     "data": {
      "text/plain": [
       "<tf.Tensor: shape=(4, 3), dtype=float32, numpy=\n",
       "array([[ 12.3 ,  13.9 ,   2.7 ],\n",
       "       [-32.8 ,  65.2 ,  -1.09],\n",
       "       [  9.8 ,  -7.2 ,   0.07],\n",
       "       [  9.  ,   0.34, -45.9 ]], dtype=float32)>"
      ]
     },
     "execution_count": 9,
     "metadata": {},
     "output_type": "execute_result"
    }
   ],
   "source": [
    "#Create a matrix with specified datatype\n",
    "matrix2 = tf.constant([[12.3,13.9,2.7], \n",
    "                        [-32.8, 65.2, -1.09],\n",
    "                        [9.8,-7.2,0.07],\n",
    "                        [9.,0.34,-45.9]], dtype=tf.float32)\n",
    "matrix2"
   ]
  },
  {
   "cell_type": "code",
   "execution_count": 10,
   "id": "e88f0ca5-c0c3-455c-a29b-2c7769c971bf",
   "metadata": {},
   "outputs": [
    {
     "data": {
      "text/plain": [
       "2"
      ]
     },
     "execution_count": 10,
     "metadata": {},
     "output_type": "execute_result"
    }
   ],
   "source": [
    "matrix2.ndim"
   ]
  },
  {
   "cell_type": "code",
   "execution_count": 11,
   "id": "688d796f-06d7-4ecb-8af3-f442485741f1",
   "metadata": {},
   "outputs": [
    {
     "data": {
      "text/plain": [
       "<tf.Tensor: shape=(3, 2, 4), dtype=int32, numpy=\n",
       "array([[[ 1,  2,  3, 10],\n",
       "        [ 4,  5,  6, 20]],\n",
       "\n",
       "       [[ 8, -2,  4, 30],\n",
       "        [ 5, -3,  2, 40]],\n",
       "\n",
       "       [[12,  3,  4, 50],\n",
       "        [ 5,  1,  4, 60]]])>"
      ]
     },
     "execution_count": 11,
     "metadata": {},
     "output_type": "execute_result"
    }
   ],
   "source": [
    "# Create a tensor\n",
    "tensor = tf.constant([[[1,2,3,10],\n",
    "                        [4,5,6,20]],\n",
    "                      [[8,-2,4,30],\n",
    "                        [5,-3,2,40]],\n",
    "                        [[12,3,4,50],\n",
    "                        [5,1,4,60]]])\n",
    "tensor"
   ]
  },
  {
   "cell_type": "code",
   "execution_count": 12,
   "id": "2226f4f2-53ac-4724-82bf-e4ab8e3b7432",
   "metadata": {},
   "outputs": [
    {
     "data": {
      "text/plain": [
       "3"
      ]
     },
     "execution_count": 12,
     "metadata": {},
     "output_type": "execute_result"
    }
   ],
   "source": [
    "tensor.ndim"
   ]
  },
  {
   "cell_type": "markdown",
   "id": "c54fd0cb-c28a-4e1f-bc26-eb103a0ae867",
   "metadata": {},
   "source": [
    "**Summary:**\n",
    "\n",
    "* **Scalar:** is a single number <br>\n",
    "* **Vectro:** is a number with direction (speed and direction)<br>\n",
    "* **Matrix:** is a 2-d array of numbers<br>\n",
    "* **Tensor:** is a n-d array of numbers (n = 0 to ...)"
   ]
  },
  {
   "cell_type": "markdown",
   "id": "5869c7cc-677b-4120-9881-e20bdd183c56",
   "metadata": {},
   "source": [
    "### **Chapter 2**\n",
    "\n",
    "Creating tensors with TensorFlow"
   ]
  },
  {
   "cell_type": "code",
   "execution_count": 13,
   "id": "24e0a45b-f6fb-446a-8dd4-77a882e7bf28",
   "metadata": {},
   "outputs": [
    {
     "data": {
      "text/plain": [
       "(<tf.Variable 'Variable:0' shape=(2,) dtype=int32, numpy=array([10, 10])>,\n",
       " <tf.Tensor: shape=(2,), dtype=int32, numpy=array([10, 10])>)"
      ]
     },
     "execution_count": 13,
     "metadata": {},
     "output_type": "execute_result"
    }
   ],
   "source": [
    "#Create the same tensors with tf.variable()\n",
    "changeable_vector = tf.Variable([10,10])\n",
    "unchangeable_vector = tf.constant([10,10])\n",
    "changeable_vector, unchangeable_vector"
   ]
  },
  {
   "cell_type": "code",
   "execution_count": 14,
   "id": "d4284608-f101-4d01-9722-77205c2b81b2",
   "metadata": {},
   "outputs": [
    {
     "data": {
      "text/plain": [
       "<tf.Variable 'Variable:0' shape=(2,) dtype=int32, numpy=array([ 7, 10])>"
      ]
     },
     "execution_count": 14,
     "metadata": {},
     "output_type": "execute_result"
    }
   ],
   "source": [
    "changeable_vector[0].assign(7)\n",
    "changeable_vector"
   ]
  },
  {
   "cell_type": "code",
   "execution_count": 15,
   "id": "18bd6ae2-4fcc-4cd9-a45c-e01eb5082097",
   "metadata": {},
   "outputs": [],
   "source": [
    "#unchangeable_vector[0].assign(7) #AttributeError: 'tensorflow.python.framework.ops.EagerTensor' object has no attribute 'assign'"
   ]
  },
  {
   "cell_type": "markdown",
   "id": "dab9bda1-6095-4cbf-986a-7299f1d2fd1d",
   "metadata": {},
   "source": [
    "a default tensor created with tf.constant() is a inmutable array of numbers, which all are from the same data type"
   ]
  },
  {
   "cell_type": "markdown",
   "id": "2d6d4090-c221-498c-8fad-cd485d1342db",
   "metadata": {},
   "source": [
    "**randomized tensors:** <br>\n",
    "https://www.tensorflow.org/api_docs/python/tf/random/set_seed"
   ]
  },
  {
   "cell_type": "code",
   "execution_count": 16,
   "id": "0e1f8f01-b1e9-4dab-848e-e37886871930",
   "metadata": {},
   "outputs": [
    {
     "data": {
      "text/plain": [
       "array([-0.7565803 , -0.06854702], dtype=float32)"
      ]
     },
     "execution_count": 16,
     "metadata": {},
     "output_type": "execute_result"
    }
   ],
   "source": [
    "random_0 = tf.random.Generator.from_seed(42)\n",
    "random_0 = random_0.normal(shape=[2])\n",
    "random_0.numpy()"
   ]
  },
  {
   "cell_type": "code",
   "execution_count": 17,
   "id": "10be6c4d-f476-481e-a931-68bd365a541f",
   "metadata": {},
   "outputs": [],
   "source": [
    "#random_0[0].assign(7) 'tensorflow.python.framework.ops.EagerTensor' object has no attribute 'assign'"
   ]
  },
  {
   "cell_type": "code",
   "execution_count": 18,
   "id": "cc863f7e-3a90-469b-8faf-c5ab3d011827",
   "metadata": {},
   "outputs": [
    {
     "data": {
      "text/plain": [
       "<tf.Tensor: shape=(3, 2), dtype=float32, numpy=\n",
       "array([[-0.7565803 , -0.06854702],\n",
       "       [ 0.07595026, -1.2573844 ],\n",
       "       [-0.23193763, -1.8107855 ]], dtype=float32)>"
      ]
     },
     "execution_count": 18,
     "metadata": {},
     "output_type": "execute_result"
    }
   ],
   "source": [
    "random_1 = tf.random.Generator.from_seed(42)\n",
    "random_1 = random_1.normal(shape=(3,2))\n",
    "random_1"
   ]
  },
  {
   "cell_type": "code",
   "execution_count": 19,
   "id": "3c8ae17a-032b-4733-b201-c0660260fdee",
   "metadata": {},
   "outputs": [
    {
     "data": {
      "text/plain": [
       "<tf.Tensor: shape=(3, 2), dtype=float32, numpy=\n",
       "array([[-0.7565803 , -0.06854702],\n",
       "       [ 0.07595026, -1.2573844 ],\n",
       "       [-0.23193763, -1.8107855 ]], dtype=float32)>"
      ]
     },
     "execution_count": 19,
     "metadata": {},
     "output_type": "execute_result"
    }
   ],
   "source": [
    "random_2 = tf.random.Generator.from_seed(42)\n",
    "random_2 = random_2.normal(shape=(3,2))\n",
    "random_2"
   ]
  },
  {
   "cell_type": "code",
   "execution_count": 20,
   "id": "cf636f1c-b7f2-4e49-a315-44b8233b6662",
   "metadata": {},
   "outputs": [
    {
     "data": {
      "text/plain": [
       "<tf.Tensor: shape=(3, 4, 2, 1), dtype=float32, numpy=\n",
       "array([[[[ 9.878943 ],\n",
       "         [12.080649 ]],\n",
       "\n",
       "        [[12.543041 ],\n",
       "         [ 8.27637  ]],\n",
       "\n",
       "        [[11.557799 ],\n",
       "         [ 6.5054865]],\n",
       "\n",
       "        [[12.619639 ],\n",
       "         [10.668043 ]]],\n",
       "\n",
       "\n",
       "       [[[ 9.888542 ],\n",
       "         [10.470679 ]],\n",
       "\n",
       "        [[12.773848 ],\n",
       "         [11.552384 ]],\n",
       "\n",
       "        [[11.172706 ],\n",
       "         [13.59988  ]],\n",
       "\n",
       "        [[ 8.932477 ],\n",
       "         [16.15747  ]]],\n",
       "\n",
       "\n",
       "       [[[17.699837 ],\n",
       "         [10.871848 ]],\n",
       "\n",
       "        [[ 4.8085303],\n",
       "         [15.468291 ]],\n",
       "\n",
       "        [[12.019577 ],\n",
       "         [10.266182 ]],\n",
       "\n",
       "        [[10.328244 ],\n",
       "         [ 6.078731 ]]]], dtype=float32)>"
      ]
     },
     "execution_count": 20,
     "metadata": {},
     "output_type": "execute_result"
    }
   ],
   "source": [
    "random_3 = tf.random.Generator.from_seed(42)\n",
    "random_3 = random_3.normal(shape=(3,4,2,1), mean=12.3, stddev=3.2, dtype=tf.dtypes.float32)\n",
    "random_3"
   ]
  },
  {
   "cell_type": "code",
   "execution_count": 21,
   "id": "11d07461-8b4b-4c0e-9149-89bf71c4cabf",
   "metadata": {},
   "outputs": [
    {
     "name": "stdout",
     "output_type": "stream",
     "text": [
      "tf.Tensor([0.28488898], shape=(1,), dtype=float32)\n",
      "tf.Tensor([0.76416767], shape=(1,), dtype=float32)\n",
      "tf.Tensor([0.51159513], shape=(1,), dtype=float32)\n"
     ]
    }
   ],
   "source": [
    "# creates new values every time the cell is run\n",
    "\n",
    "print(tf.random.uniform([1])) #tf.Tensor([0.9236865], shape=(1,), dtype=float32)\n",
    "print(tf.random.uniform([1])) #tf.Tensor([0.88400424], shape=(1,), dtype=float32)\n",
    "print(tf.random.uniform([1])) #tf.Tensor([0.32772207], shape=(1,), dtype=float32)"
   ]
  },
  {
   "cell_type": "code",
   "execution_count": 22,
   "id": "5c6d8299-b29c-45b3-aad1-80f8f7239bf8",
   "metadata": {},
   "outputs": [
    {
     "name": "stdout",
     "output_type": "stream",
     "text": [
      "tf.Tensor([0.95227146], shape=(1,), dtype=float32)\n",
      "tf.Tensor([0.8960779], shape=(1,), dtype=float32)\n",
      "tf.Tensor([0.70954347], shape=(1,), dtype=float32)\n"
     ]
    }
   ],
   "source": [
    "# creates new values every time the cell is run but always the same\n",
    "\n",
    "print(tf.random.uniform([1], seed= 42)) \n",
    "print(tf.random.uniform([1], seed= 42)) \n",
    "print(tf.random.uniform([1], seed= 42)) \n",
    "\n",
    "\n",
    "# first execution\n",
    "# tf.Tensor([0.95227146], shape=(1,), dtype=float32)\n",
    "# tf.Tensor([0.8960779], shape=(1,), dtype=float32)\n",
    "# tf.Tensor([0.70954347], shape=(1,), dtype=float32)\n",
    "\n",
    "\n",
    "# second execution\n",
    "# tf.Tensor([0.18126988], shape=(1,), dtype=float32)\n",
    "# tf.Tensor([0.06347668], shape=(1,), dtype=float32)\n",
    "# tf.Tensor([0.81274223], shape=(1,), dtype=float32)\n",
    "\n",
    "# third execution\n",
    "# tf.Tensor([0.15116918], shape=(1,), dtype=float32)\n",
    "# tf.Tensor([0.5001906], shape=(1,), dtype=float32)\n",
    "# tf.Tensor([0.88570464], shape=(1,), dtype=float32)"
   ]
  },
  {
   "cell_type": "markdown",
   "id": "91c243f2-6440-4da5-aed4-b640947ac927",
   "metadata": {},
   "source": [
    "generating pseudo random numbers is important to rerun experiments, because it gives control which parameters a fixed and which are changed <br>\n",
    "for this global random state is created with tf.random.set_seet(*integer*)"
   ]
  },
  {
   "cell_type": "code",
   "execution_count": 23,
   "id": "c5cc7194-dd1e-40d7-9d78-4c24a0c407d4",
   "metadata": {},
   "outputs": [
    {
     "name": "stdout",
     "output_type": "stream",
     "text": [
      "tf.Tensor([0.6645621], shape=(1,), dtype=float32)\n",
      "tf.Tensor([0.68789124], shape=(1,), dtype=float32)\n",
      "tf.Tensor([0.7413678], shape=(1,), dtype=float32)\n"
     ]
    }
   ],
   "source": [
    "tf.random.set_seed(42)\n",
    "print(tf.random.uniform([1])) #tf.Tensor([0.6645621], shape=(1,), dtype=float32)\n",
    "print(tf.random.uniform([1])) #tf.Tensor([0.68789124], shape=(1,), dtype=float32)\n",
    "print(tf.random.uniform([1])) #tf.Tensor([0.7413678], shape=(1,), dtype=float32)"
   ]
  },
  {
   "cell_type": "code",
   "execution_count": 24,
   "id": "3ba95168-7de0-41f8-a639-2163c300d41b",
   "metadata": {},
   "outputs": [
    {
     "name": "stdout",
     "output_type": "stream",
     "text": [
      "tf.Tensor([0.6645621], shape=(1,), dtype=float32)\n",
      "tf.Tensor([0.68789124], shape=(1,), dtype=float32)\n",
      "tf.Tensor([0.7413678], shape=(1,), dtype=float32)\n"
     ]
    }
   ],
   "source": [
    "tf.random.set_seed(42)\n",
    "print(tf.random.uniform([1])) #tf.Tensor([0.6645621], shape=(1,), dtype=float32)\n",
    "print(tf.random.uniform([1])) #tf.Tensor([0.68789124], shape=(1,), dtype=float32)\n",
    "print(tf.random.uniform([1])) #tf.Tensor([0.7413678], shape=(1,), dtype=float32)"
   ]
  },
  {
   "cell_type": "code",
   "execution_count": 25,
   "id": "74b2c03d-2c93-4f4e-9e34-62a2332049e9",
   "metadata": {},
   "outputs": [
    {
     "name": "stdout",
     "output_type": "stream",
     "text": [
      "tf.Tensor([0.4163028], shape=(1,), dtype=float32)\n",
      "tf.Tensor([0.0332247], shape=(1,), dtype=float32)\n",
      "tf.Tensor([0.16061568], shape=(1,), dtype=float32)\n"
     ]
    }
   ],
   "source": [
    "tf.random.set_seed(42)\n",
    "print(tf.random.uniform([1], seed= 42)) #tf.Tensor([0.4163028], shape=(1,), dtype=float32)\n",
    "print(tf.random.uniform([1], seed= 42)) #tf.Tensor([0.0332247], shape=(1,), dtype=float32)\n",
    "print(tf.random.uniform([1], seed= 42)) #tf.Tensor([0.16061568], shape=(1,), dtype=float32)"
   ]
  },
  {
   "cell_type": "markdown",
   "id": "1e7fd991-369e-4829-922b-05c2cf2dec0b",
   "metadata": {},
   "source": [
    "**Summary:** <br>\n",
    "Creating tensors with tf.constant or with <br>\n",
    " aTensor = tf.random.Generator.from_seed(42) and aTensor = aTensor.normal(shape=(3,2)) <br>\n",
    " .normal specifies the stochastic distribution <br>\n",
    " * Global seed (tf.random.set.seed()) produces the same values whenever the cell is rerun!\n",
    " * Operational seed (or unset seed) produces new values whenever the cell is rerun!"
   ]
  },
  {
   "cell_type": "markdown",
   "id": "f960dc90-3560-40ea-b657-5ce3481e8894",
   "metadata": {},
   "source": [
    "### **Chapter 3**\n",
    "\n",
    "shuffling the order of tensor elements along the first axis ( = the rows of a matrix) is valuable for shuffling data"
   ]
  },
  {
   "cell_type": "code",
   "execution_count": 26,
   "id": "adcd1a23-7399-46af-81b3-c1e7858f37fb",
   "metadata": {},
   "outputs": [
    {
     "data": {
      "text/plain": [
       "<tf.Tensor: shape=(3, 2), dtype=int32, numpy=\n",
       "array([[10,  7],\n",
       "       [ 2,  3],\n",
       "       [ 5,  6]])>"
      ]
     },
     "execution_count": 26,
     "metadata": {},
     "output_type": "execute_result"
    }
   ],
   "source": [
    "not_shuffled = tf.constant([[10,7],\n",
    "                            [2,3],\n",
    "                              [5,6]])\n",
    "not_shuffled"
   ]
  },
  {
   "cell_type": "code",
   "execution_count": 27,
   "id": "93584949-06d4-4748-8522-c62ca90052a7",
   "metadata": {},
   "outputs": [
    {
     "data": {
      "text/plain": [
       "<tf.Tensor: shape=(3, 2), dtype=int32, numpy=\n",
       "array([[ 2,  3],\n",
       "       [ 5,  6],\n",
       "       [10,  7]])>"
      ]
     },
     "execution_count": 27,
     "metadata": {},
     "output_type": "execute_result"
    }
   ],
   "source": [
    "shuffled = tf.random.shuffle(value=not_shuffled) #shuffles along its first dimension\n",
    "shuffled"
   ]
  },
  {
   "cell_type": "code",
   "execution_count": 28,
   "id": "1505715e-d0dc-4be0-b414-ba371479927f",
   "metadata": {},
   "outputs": [
    {
     "data": {
      "text/plain": [
       "<tf.Tensor: shape=(2, 2), dtype=int32, numpy=\n",
       "array([[10,  7],\n",
       "       [ 5,  6]])>"
      ]
     },
     "execution_count": 28,
     "metadata": {},
     "output_type": "execute_result"
    }
   ],
   "source": [
    "shuffled2 = tf.random.shuffle(value=not_shuffled[0:3:2])\n",
    "shuffled2"
   ]
  },
  {
   "cell_type": "markdown",
   "id": "5a1678b4-8275-40e0-91ab-90b0b90446de",
   "metadata": {},
   "source": [
    "### Chapter 4\n",
    "\n",
    "Creating special tesnors and getting information about tensors"
   ]
  },
  {
   "cell_type": "code",
   "execution_count": 29,
   "id": "4a6ea2f6-041b-43f2-a48a-6cda2239d20c",
   "metadata": {},
   "outputs": [
    {
     "data": {
      "text/plain": [
       "<tf.Tensor: shape=(10, 7), dtype=float32, numpy=\n",
       "array([[1., 1., 1., 1., 1., 1., 1.],\n",
       "       [1., 1., 1., 1., 1., 1., 1.],\n",
       "       [1., 1., 1., 1., 1., 1., 1.],\n",
       "       [1., 1., 1., 1., 1., 1., 1.],\n",
       "       [1., 1., 1., 1., 1., 1., 1.],\n",
       "       [1., 1., 1., 1., 1., 1., 1.],\n",
       "       [1., 1., 1., 1., 1., 1., 1.],\n",
       "       [1., 1., 1., 1., 1., 1., 1.],\n",
       "       [1., 1., 1., 1., 1., 1., 1.],\n",
       "       [1., 1., 1., 1., 1., 1., 1.]], dtype=float32)>"
      ]
     },
     "execution_count": 29,
     "metadata": {},
     "output_type": "execute_result"
    }
   ],
   "source": [
    "#create a tesnor all ones\n",
    "tf.ones([10,7])"
   ]
  },
  {
   "cell_type": "code",
   "execution_count": 30,
   "id": "d534f4ca-fcad-4665-b7d1-0918e7df1c39",
   "metadata": {},
   "outputs": [
    {
     "data": {
      "text/plain": [
       "<tf.Tensor: shape=(10, 7), dtype=float32, numpy=\n",
       "array([[0., 0., 0., 0., 0., 0., 0.],\n",
       "       [0., 0., 0., 0., 0., 0., 0.],\n",
       "       [0., 0., 0., 0., 0., 0., 0.],\n",
       "       [0., 0., 0., 0., 0., 0., 0.],\n",
       "       [0., 0., 0., 0., 0., 0., 0.],\n",
       "       [0., 0., 0., 0., 0., 0., 0.],\n",
       "       [0., 0., 0., 0., 0., 0., 0.],\n",
       "       [0., 0., 0., 0., 0., 0., 0.],\n",
       "       [0., 0., 0., 0., 0., 0., 0.],\n",
       "       [0., 0., 0., 0., 0., 0., 0.]], dtype=float32)>"
      ]
     },
     "execution_count": 30,
     "metadata": {},
     "output_type": "execute_result"
    }
   ],
   "source": [
    "#create a tensor all zeros\n",
    "tf.zeros(shape=(10,7))"
   ]
  },
  {
   "cell_type": "code",
   "execution_count": 31,
   "id": "c088de09-746f-4815-aecb-09a6863df6a5",
   "metadata": {},
   "outputs": [
    {
     "data": {
      "text/plain": [
       "array([ 1,  2,  3,  4,  5,  6,  7,  8,  9, 10, 11, 12, 13, 14, 15, 16, 17,\n",
       "       18, 19, 20, 21, 22, 23, 24])"
      ]
     },
     "execution_count": 31,
     "metadata": {},
     "output_type": "execute_result"
    }
   ],
   "source": [
    "# numpy arrays to tensors\n",
    "# the main difference between np-array and tensors is, tensors are optimized for running on GPUs\n",
    "import numpy as np\n",
    "\n",
    "numpy_A = np.arange(1,25,dtype=np.int32)\n",
    "numpy_A"
   ]
  },
  {
   "cell_type": "code",
   "execution_count": 32,
   "id": "409c27d6-9309-44db-bc24-85ea1e893da8",
   "metadata": {},
   "outputs": [
    {
     "data": {
      "text/plain": [
       "(<tf.Tensor: shape=(24,), dtype=int32, numpy=\n",
       " array([ 1,  2,  3,  4,  5,  6,  7,  8,  9, 10, 11, 12, 13, 14, 15, 16, 17,\n",
       "        18, 19, 20, 21, 22, 23, 24])>,\n",
       " <tf.Tensor: shape=(2, 3, 4), dtype=int32, numpy=\n",
       " array([[[ 1,  2,  3,  4],\n",
       "         [ 5,  6,  7,  8],\n",
       "         [ 9, 10, 11, 12]],\n",
       " \n",
       "        [[13, 14, 15, 16],\n",
       "         [17, 18, 19, 20],\n",
       "         [21, 22, 23, 24]]])>)"
      ]
     },
     "execution_count": 32,
     "metadata": {},
     "output_type": "execute_result"
    }
   ],
   "source": [
    "A = tf.constant(numpy_A)\n",
    "B = tf.constant(numpy_A, shape=(2,3,4))\n",
    "A, B"
   ]
  },
  {
   "cell_type": "code",
   "execution_count": 33,
   "id": "81d6c3f9-24e8-49ee-8b36-6c592e5d8223",
   "metadata": {},
   "outputs": [
    {
     "data": {
      "text/plain": [
       "array([[[ 1,  2,  3,  4],\n",
       "        [ 5,  6,  7,  8],\n",
       "        [ 9, 10, 11, 12]],\n",
       "\n",
       "       [[13, 14, 15, 16],\n",
       "        [17, 18, 19, 20],\n",
       "        [21, 22, 23, 24]]])"
      ]
     },
     "execution_count": 33,
     "metadata": {},
     "output_type": "execute_result"
    }
   ],
   "source": [
    "numpy_A.reshape((2,3,4))"
   ]
  },
  {
   "cell_type": "code",
   "execution_count": 34,
   "id": "8c94e9ab-112d-4cf9-a326-82fdeaea847d",
   "metadata": {},
   "outputs": [],
   "source": [
    "#Getting information from tensors\n",
    "\n",
    "# Shape\n",
    "# Rank\n",
    "# Axis or dimension\n",
    "# size"
   ]
  },
  {
   "cell_type": "code",
   "execution_count": 35,
   "id": "9c346cd1-a746-4277-92b8-87e3124ee9fb",
   "metadata": {},
   "outputs": [
    {
     "data": {
      "text/plain": [
       "<tf.Tensor: shape=(2, 3, 4, 5), dtype=float32, numpy=\n",
       "array([[[[0., 0., 0., 0., 0.],\n",
       "         [0., 0., 0., 0., 0.],\n",
       "         [0., 0., 0., 0., 0.],\n",
       "         [0., 0., 0., 0., 0.]],\n",
       "\n",
       "        [[0., 0., 0., 0., 0.],\n",
       "         [0., 0., 0., 0., 0.],\n",
       "         [0., 0., 0., 0., 0.],\n",
       "         [0., 0., 0., 0., 0.]],\n",
       "\n",
       "        [[0., 0., 0., 0., 0.],\n",
       "         [0., 0., 0., 0., 0.],\n",
       "         [0., 0., 0., 0., 0.],\n",
       "         [0., 0., 0., 0., 0.]]],\n",
       "\n",
       "\n",
       "       [[[0., 0., 0., 0., 0.],\n",
       "         [0., 0., 0., 0., 0.],\n",
       "         [0., 0., 0., 0., 0.],\n",
       "         [0., 0., 0., 0., 0.]],\n",
       "\n",
       "        [[0., 0., 0., 0., 0.],\n",
       "         [0., 0., 0., 0., 0.],\n",
       "         [0., 0., 0., 0., 0.],\n",
       "         [0., 0., 0., 0., 0.]],\n",
       "\n",
       "        [[0., 0., 0., 0., 0.],\n",
       "         [0., 0., 0., 0., 0.],\n",
       "         [0., 0., 0., 0., 0.],\n",
       "         [0., 0., 0., 0., 0.]]]], dtype=float32)>"
      ]
     },
     "execution_count": 35,
     "metadata": {},
     "output_type": "execute_result"
    }
   ],
   "source": [
    "rank_4_tensors = tf.zeros(shape=(2,3,4,5))\n",
    "rank_4_tensors"
   ]
  },
  {
   "cell_type": "code",
   "execution_count": 36,
   "id": "99f05572-67d3-4148-891d-cd532d05a6af",
   "metadata": {},
   "outputs": [
    {
     "data": {
      "text/plain": [
       "<tf.Tensor: shape=(3, 4, 5), dtype=float32, numpy=\n",
       "array([[[0., 0., 0., 0., 0.],\n",
       "        [0., 0., 0., 0., 0.],\n",
       "        [0., 0., 0., 0., 0.],\n",
       "        [0., 0., 0., 0., 0.]],\n",
       "\n",
       "       [[0., 0., 0., 0., 0.],\n",
       "        [0., 0., 0., 0., 0.],\n",
       "        [0., 0., 0., 0., 0.],\n",
       "        [0., 0., 0., 0., 0.]],\n",
       "\n",
       "       [[0., 0., 0., 0., 0.],\n",
       "        [0., 0., 0., 0., 0.],\n",
       "        [0., 0., 0., 0., 0.],\n",
       "        [0., 0., 0., 0., 0.]]], dtype=float32)>"
      ]
     },
     "execution_count": 36,
     "metadata": {},
     "output_type": "execute_result"
    }
   ],
   "source": [
    "rank_4_tensors[0]"
   ]
  },
  {
   "cell_type": "code",
   "execution_count": 37,
   "id": "e55e77a8-82e9-4939-b42e-d306fae6505b",
   "metadata": {},
   "outputs": [
    {
     "data": {
      "text/plain": [
       "<tf.Tensor: shape=(3, 4, 5), dtype=float32, numpy=\n",
       "array([[[0., 0., 0., 0., 0.],\n",
       "        [0., 0., 0., 0., 0.],\n",
       "        [0., 0., 0., 0., 0.],\n",
       "        [0., 0., 0., 0., 0.]],\n",
       "\n",
       "       [[0., 0., 0., 0., 0.],\n",
       "        [0., 0., 0., 0., 0.],\n",
       "        [0., 0., 0., 0., 0.],\n",
       "        [0., 0., 0., 0., 0.]],\n",
       "\n",
       "       [[0., 0., 0., 0., 0.],\n",
       "        [0., 0., 0., 0., 0.],\n",
       "        [0., 0., 0., 0., 0.],\n",
       "        [0., 0., 0., 0., 0.]]], dtype=float32)>"
      ]
     },
     "execution_count": 37,
     "metadata": {},
     "output_type": "execute_result"
    }
   ],
   "source": [
    "rank_4_tensors[1]"
   ]
  },
  {
   "cell_type": "code",
   "execution_count": 38,
   "id": "9a3f6963-1587-423d-921e-9c6147569322",
   "metadata": {},
   "outputs": [
    {
     "data": {
      "text/plain": [
       "(TensorShape([2, 3, 4, 5]),\n",
       " 4,\n",
       " <tf.Tensor: shape=(), dtype=int32, numpy=120>,\n",
       " <tf.Tensor: shape=(), dtype=int32, numpy=4>)"
      ]
     },
     "execution_count": 38,
     "metadata": {},
     "output_type": "execute_result"
    }
   ],
   "source": [
    "rank_4_tensors.shape, rank_4_tensors.ndim, tf.size(rank_4_tensors), tf.rank(rank_4_tensors)"
   ]
  },
  {
   "cell_type": "code",
   "execution_count": 39,
   "id": "ec928bed-665b-4d60-87a5-af8a5ac7e99b",
   "metadata": {},
   "outputs": [
    {
     "name": "stdout",
     "output_type": "stream",
     "text": [
      "Datatype of every element:  <dtype: 'float32'>\n",
      "Number of dimensions ( .ndim):  4\n",
      "Shape of a tensor ( .shape):  (2, 3, 4, 5)\n",
      "Elements along the first axis ():  2\n",
      "Elements along the last axis ():  5\n",
      "Number of dimension (tf.rank()):  4\n",
      "Size of a tensor (tf.size()):  120\n",
      "Size of a tensor (tf.size()):  tf.Tensor(120, shape=(), dtype=int32)\n"
     ]
    }
   ],
   "source": [
    "# Get various attributes of a´´our tensors\n",
    "print('Datatype of every element: ', rank_4_tensors.dtype)\n",
    "print('Number of dimensions ( .ndim): ', rank_4_tensors.ndim)\n",
    "print('Shape of a tensor ( .shape): ', rank_4_tensors.shape)\n",
    "print('Elements along the first axis (): ', rank_4_tensors.shape[0])\n",
    "print('Elements along the last axis (): ', rank_4_tensors.shape[-1])\n",
    "print('Number of dimension (tf.rank()): ', tf.rank(rank_4_tensors).numpy())\n",
    "print('Size of a tensor (tf.size()): ', tf.size(rank_4_tensors).numpy()) # .numpy() formats the output in a more readable way\n",
    "print('Size of a tensor (tf.size()): ', tf.size(rank_4_tensors))"
   ]
  },
  {
   "cell_type": "markdown",
   "id": "94d1a095-8500-4563-9999-dfc5ef8cf590",
   "metadata": {},
   "source": [
    "### Chapter 5\n",
    "\n",
    "indexing elements of a tensor is similar to python lists"
   ]
  },
  {
   "cell_type": "code",
   "execution_count": 40,
   "id": "a3eb27c7-fa5d-4dff-97d3-584330723825",
   "metadata": {},
   "outputs": [
    {
     "name": "stdout",
     "output_type": "stream",
     "text": [
      "[[[[1]]]]\n",
      "----------------\n",
      "[[[[ 1]]]\n",
      "\n",
      "\n",
      " [[[61]]]]\n",
      "----------------\n",
      "[[[[ 1]]\n",
      "\n",
      "  [[21]]]]\n",
      "----------------\n",
      "[[[[1]\n",
      "   [6]]]]\n",
      "----------------\n",
      "[[[[1 2]]]]\n"
     ]
    }
   ],
   "source": [
    "\n",
    "r4tensor = tf.constant(np.arange(1,121), shape=(2,3,4,5))\n",
    "print(r4tensor[:1, :1, :1, :1].numpy())\n",
    "print('----------------')\n",
    "print(r4tensor[:2, :1, :1, :1].numpy())\n",
    "print('----------------')\n",
    "print(r4tensor[:1, :2, :1, :1].numpy())\n",
    "print('----------------')\n",
    "print(r4tensor[:1, :1, :2, :1].numpy())\n",
    "print('----------------')\n",
    "print(r4tensor[:1, :1, :1, :2].numpy())"
   ]
  },
  {
   "cell_type": "code",
   "execution_count": 41,
   "id": "142af7f7-5646-43d6-9451-1ddf4977a230",
   "metadata": {},
   "outputs": [
    {
     "name": "stdout",
     "output_type": "stream",
     "text": [
      "[[[[1 2 3 4 5]]]]\n",
      "[1 2 3 4 5]\n"
     ]
    }
   ],
   "source": [
    "# get the first element from each dimension from each index except the final one\n",
    "print(r4tensor[:1, :1, :1, :].numpy())\n",
    "print(r4tensor[0,0,0,:].numpy())"
   ]
  },
  {
   "cell_type": "code",
   "execution_count": 42,
   "id": "e50a8493-95bd-4c79-9f80-1c93bfda9ac0",
   "metadata": {},
   "outputs": [
    {
     "name": "stdout",
     "output_type": "stream",
     "text": [
      "[[[[ 1]\n",
      "   [ 6]\n",
      "   [11]\n",
      "   [16]]]]\n",
      "[ 1  6 11 16]\n"
     ]
    }
   ],
   "source": [
    "# get the first element from each dimension from each index except the second last one\n",
    "print(r4tensor[:1, :1, :, :1].numpy())\n",
    "print(r4tensor[0,0,:,0].numpy())"
   ]
  },
  {
   "cell_type": "code",
   "execution_count": 43,
   "id": "54f59015-7438-4078-8fec-7426ea6b1810",
   "metadata": {},
   "outputs": [
    {
     "data": {
      "text/plain": [
       "(TensorShape([2, 2]), 2)"
      ]
     },
     "execution_count": 43,
     "metadata": {},
     "output_type": "execute_result"
    }
   ],
   "source": [
    "# Create a rank 2 tensor\n",
    "r2tensor = tf.constant([[10,7],\n",
    "                      [8,9]])\n",
    "r2tensor.shape, r2tensor.ndim"
   ]
  },
  {
   "cell_type": "code",
   "execution_count": 44,
   "id": "cbc39dca-a01b-4b71-9ccf-c82c9617cf32",
   "metadata": {},
   "outputs": [
    {
     "name": "stdout",
     "output_type": "stream",
     "text": [
      "[[7]\n",
      " [9]]\n",
      "[7 9]\n"
     ]
    }
   ],
   "source": [
    "# Get the last item or each row\n",
    "print(r2tensor[:, -1:].numpy())\n",
    "print(r2tensor[:,-1].numpy())"
   ]
  },
  {
   "cell_type": "code",
   "execution_count": 45,
   "id": "25f6e408-5421-4ab0-90cd-32546347dc02",
   "metadata": {},
   "outputs": [
    {
     "data": {
      "text/plain": [
       "<tf.Tensor: shape=(2, 2, 1), dtype=int32, numpy=\n",
       "array([[[10],\n",
       "        [ 7]],\n",
       "\n",
       "       [[ 8],\n",
       "        [ 9]]])>"
      ]
     },
     "execution_count": 45,
     "metadata": {},
     "output_type": "execute_result"
    }
   ],
   "source": [
    "# Add in extra dimension\n",
    "r3tensor = r2tensor[..., tf.newaxis] # =  r2tensor[:,: , tf.newaxis]\n",
    "r3tensor"
   ]
  },
  {
   "cell_type": "code",
   "execution_count": 46,
   "id": "63445dc7-b2e6-45a4-b6bc-6777958cce0a",
   "metadata": {},
   "outputs": [
    {
     "data": {
      "text/plain": [
       "<tf.Tensor: shape=(2, 2, 1), dtype=int32, numpy=\n",
       "array([[[10],\n",
       "        [ 7]],\n",
       "\n",
       "       [[ 8],\n",
       "        [ 9]]])>"
      ]
     },
     "execution_count": 46,
     "metadata": {},
     "output_type": "execute_result"
    }
   ],
   "source": [
    "tf.expand_dims(r2tensor, axis = -1)"
   ]
  },
  {
   "cell_type": "code",
   "execution_count": 47,
   "id": "3b6a43df-e9b8-495e-bb77-78aa745cf867",
   "metadata": {},
   "outputs": [
    {
     "data": {
      "text/plain": [
       "<tf.Tensor: shape=(1, 2, 2), dtype=int32, numpy=\n",
       "array([[[10,  7],\n",
       "        [ 8,  9]]])>"
      ]
     },
     "execution_count": 47,
     "metadata": {},
     "output_type": "execute_result"
    }
   ],
   "source": [
    "tf.expand_dims(r2tensor, axis = 0)"
   ]
  },
  {
   "cell_type": "code",
   "execution_count": 48,
   "id": "06b72f72-dbf6-4723-ac63-0a05c46ba2a1",
   "metadata": {},
   "outputs": [
    {
     "data": {
      "text/plain": [
       "<tf.Tensor: shape=(2, 1, 2), dtype=int32, numpy=\n",
       "array([[[10,  7]],\n",
       "\n",
       "       [[ 8,  9]]])>"
      ]
     },
     "execution_count": 48,
     "metadata": {},
     "output_type": "execute_result"
    }
   ],
   "source": [
    "tf.expand_dims(r2tensor, axis = 1)"
   ]
  },
  {
   "cell_type": "code",
   "execution_count": 49,
   "id": "9fa6490c-f0b7-4a11-91f8-1c49278e8443",
   "metadata": {},
   "outputs": [
    {
     "data": {
      "text/plain": [
       "<tf.Tensor: shape=(2, 2, 1), dtype=int32, numpy=\n",
       "array([[[10],\n",
       "        [ 7]],\n",
       "\n",
       "       [[ 8],\n",
       "        [ 9]]])>"
      ]
     },
     "execution_count": 49,
     "metadata": {},
     "output_type": "execute_result"
    }
   ],
   "source": [
    "tf.expand_dims(r2tensor, axis = 2) # =-1"
   ]
  },
  {
   "cell_type": "markdown",
   "id": "a211eb07-8e06-4592-91ed-5737555b187b",
   "metadata": {},
   "source": [
    "### Chapter 6\n",
    "\n",
    "Basic operations: <br>\n",
    "* scalar multiplikation, addition, subtraction, division (aka elementwise)\n",
    "     * using normal operation notation (* , + , -, /) or tf.math.multiply , .add,  ....\n",
    "* matrix multiplication\n",
    "     * with tf.linalg.matmul(tesn1, tens2) or (with limitations) @ (Python)\n"
   ]
  },
  {
   "cell_type": "code",
   "execution_count": 50,
   "id": "80609705-5f8d-44cc-93e4-efa616beec66",
   "metadata": {},
   "outputs": [
    {
     "data": {
      "text/plain": [
       "<tf.Tensor: shape=(2, 2), dtype=int32, numpy=\n",
       "array([[30, 27],\n",
       "       [22, 23]])>"
      ]
     },
     "execution_count": 50,
     "metadata": {},
     "output_type": "execute_result"
    }
   ],
   "source": [
    "tensor = tf.constant([[10,7],\n",
    "                      [2,3]])\n",
    "tensor + 20"
   ]
  },
  {
   "cell_type": "code",
   "execution_count": 51,
   "id": "5261149f-47ee-48c1-9362-0a1ba32aa1b2",
   "metadata": {},
   "outputs": [
    {
     "data": {
      "text/plain": [
       "<tf.Tensor: shape=(2, 2), dtype=int32, numpy=\n",
       "array([[10,  7],\n",
       "       [ 2,  3]])>"
      ]
     },
     "execution_count": 51,
     "metadata": {},
     "output_type": "execute_result"
    }
   ],
   "source": [
    "tensor"
   ]
  },
  {
   "cell_type": "code",
   "execution_count": 52,
   "id": "85a13e72-0af5-4ecc-91c9-2b6d1133e26a",
   "metadata": {},
   "outputs": [
    {
     "data": {
      "text/plain": [
       "<tf.Tensor: shape=(2, 2), dtype=int32, numpy=\n",
       "array([[100,  70],\n",
       "       [ 20,  30]])>"
      ]
     },
     "execution_count": 52,
     "metadata": {},
     "output_type": "execute_result"
    }
   ],
   "source": [
    "tensor *10"
   ]
  },
  {
   "cell_type": "code",
   "execution_count": 53,
   "id": "d15d549d-0bf4-4530-96ba-49a1862e0011",
   "metadata": {},
   "outputs": [
    {
     "data": {
      "text/plain": [
       "<tf.Tensor: shape=(2, 2), dtype=int32, numpy=\n",
       "array([[ 0, -3],\n",
       "       [-8, -7]])>"
      ]
     },
     "execution_count": 53,
     "metadata": {},
     "output_type": "execute_result"
    }
   ],
   "source": [
    "tensor -10"
   ]
  },
  {
   "cell_type": "code",
   "execution_count": 54,
   "id": "a5c44644-b046-42f1-b907-a9fffc45c142",
   "metadata": {},
   "outputs": [
    {
     "data": {
      "text/plain": [
       "<tf.Tensor: shape=(2, 2), dtype=float64, numpy=\n",
       "array([[1.66666667, 1.16666667],\n",
       "       [0.33333333, 0.5       ]])>"
      ]
     },
     "execution_count": 54,
     "metadata": {},
     "output_type": "execute_result"
    }
   ],
   "source": [
    "tensor /6"
   ]
  },
  {
   "cell_type": "markdown",
   "id": "0606558e-0dd4-4f0e-87d7-84735a03dea4",
   "metadata": {},
   "source": [
    "*** using the tensorflow library ***\n"
   ]
  },
  {
   "cell_type": "code",
   "execution_count": 55,
   "id": "19bc15e2-f8fe-4052-b4bb-4d4b94fb19f2",
   "metadata": {},
   "outputs": [
    {
     "data": {
      "text/plain": [
       "<tf.Tensor: shape=(2, 2), dtype=int32, numpy=\n",
       "array([[100,  70],\n",
       "       [ 20,  30]])>"
      ]
     },
     "execution_count": 55,
     "metadata": {},
     "output_type": "execute_result"
    }
   ],
   "source": [
    "tf.math.multiply(tensor, 10)"
   ]
  },
  {
   "cell_type": "code",
   "execution_count": 56,
   "id": "799eed74-b7dc-4c33-8b6e-1f9bf3674c94",
   "metadata": {},
   "outputs": [
    {
     "data": {
      "text/plain": [
       "<tf.Tensor: shape=(2, 2), dtype=int32, numpy=\n",
       "array([[100,  70],\n",
       "       [ 20,  30]])>"
      ]
     },
     "execution_count": 56,
     "metadata": {},
     "output_type": "execute_result"
    }
   ],
   "source": [
    "tf.math.multiply(tensor, 10)"
   ]
  },
  {
   "cell_type": "markdown",
   "id": "825e9024-dca6-40ff-bf9b-14350a964c27",
   "metadata": {},
   "source": [
    "**matrix multiplikation**"
   ]
  },
  {
   "cell_type": "code",
   "execution_count": 57,
   "id": "339a80fd-02c3-417a-943c-03007a3ed78e",
   "metadata": {},
   "outputs": [],
   "source": [
    "t1 = tf.constant([[10,7],\n",
    "                  [4,5]])\n",
    "t2 = tf.constant([[2,3],\n",
    "                  [11,6]])"
   ]
  },
  {
   "cell_type": "code",
   "execution_count": 58,
   "id": "3d640186-a2d9-4a5c-9bc9-f0cc0b7d48ab",
   "metadata": {},
   "outputs": [
    {
     "data": {
      "text/plain": [
       "<tf.Tensor: shape=(2, 2), dtype=int32, numpy=\n",
       "array([[20, 21],\n",
       "       [44, 30]])>"
      ]
     },
     "execution_count": 58,
     "metadata": {},
     "output_type": "execute_result"
    }
   ],
   "source": [
    "t1 * t2 # elementwise"
   ]
  },
  {
   "cell_type": "code",
   "execution_count": 59,
   "id": "0bdb0a39-cbcf-48b8-ba94-ae32c12decd9",
   "metadata": {},
   "outputs": [
    {
     "data": {
      "text/plain": [
       "<tf.Tensor: shape=(2, 2), dtype=int32, numpy=\n",
       "array([[97, 72],\n",
       "       [63, 42]])>"
      ]
     },
     "execution_count": 59,
     "metadata": {},
     "output_type": "execute_result"
    }
   ],
   "source": [
    "tf.linalg.matmul(t1,t2) # matrix multiplication"
   ]
  },
  {
   "cell_type": "code",
   "execution_count": 60,
   "id": "f242934c-929c-4da2-b6e2-1dacb8e763bb",
   "metadata": {},
   "outputs": [
    {
     "data": {
      "text/plain": [
       "<tf.Tensor: shape=(2, 2), dtype=int32, numpy=\n",
       "array([[97, 72],\n",
       "       [63, 42]])>"
      ]
     },
     "execution_count": 60,
     "metadata": {},
     "output_type": "execute_result"
    }
   ],
   "source": [
    "t1 @ t2 # matrix multiplication with python"
   ]
  },
  {
   "cell_type": "code",
   "execution_count": 61,
   "id": "fb4b6364-08b2-4f60-a898-65e5256fc45b",
   "metadata": {},
   "outputs": [],
   "source": [
    "t3 = tf.constant([\n",
    "                [\n",
    "                [10,7],\n",
    "                [1,2]\n",
    "                ],\n",
    "                [\n",
    "                [3,4],\n",
    "                [6,7]\n",
    "                ]\n",
    "                ])\n",
    "t4 = tf.constant([\n",
    "                [\n",
    "                [2,4],\n",
    "                [-1,7]\n",
    "                ],\n",
    "                [\n",
    "                [5,-2],\n",
    "                [9,2]\n",
    "                ]\n",
    "                ])"
   ]
  },
  {
   "cell_type": "code",
   "execution_count": 62,
   "id": "9d12f6b4-3e0b-407e-9f11-8948592afc89",
   "metadata": {},
   "outputs": [
    {
     "data": {
      "text/plain": [
       "(TensorShape([2, 2, 2]), TensorShape([2, 2, 2]))"
      ]
     },
     "execution_count": 62,
     "metadata": {},
     "output_type": "execute_result"
    }
   ],
   "source": [
    "t3.shape, t4.shape"
   ]
  },
  {
   "cell_type": "code",
   "execution_count": 63,
   "id": "f946b393-9d8a-4366-8915-ae8232bd12d3",
   "metadata": {},
   "outputs": [
    {
     "data": {
      "text/plain": [
       "<tf.Tensor: shape=(2, 2, 2), dtype=int32, numpy=\n",
       "array([[[20, 28],\n",
       "        [-1, 14]],\n",
       "\n",
       "       [[15, -8],\n",
       "        [54, 14]]])>"
      ]
     },
     "execution_count": 63,
     "metadata": {},
     "output_type": "execute_result"
    }
   ],
   "source": [
    "t3*t4"
   ]
  },
  {
   "cell_type": "code",
   "execution_count": 64,
   "id": "825409eb-adc8-488c-8579-53b3c2d2ac66",
   "metadata": {},
   "outputs": [
    {
     "data": {
      "text/plain": [
       "<tf.Tensor: shape=(2, 2, 2), dtype=int32, numpy=\n",
       "array([[[13, 89],\n",
       "        [ 0, 18]],\n",
       "\n",
       "       [[51,  2],\n",
       "        [93,  2]]])>"
      ]
     },
     "execution_count": 64,
     "metadata": {},
     "output_type": "execute_result"
    }
   ],
   "source": [
    "tf.linalg.matmul(t3,t4)"
   ]
  },
  {
   "cell_type": "code",
   "execution_count": 65,
   "id": "5d940e97-a059-4cdf-8ab2-6a5179be942a",
   "metadata": {},
   "outputs": [
    {
     "data": {
      "text/plain": [
       "<tf.Tensor: shape=(2, 2), dtype=int32, numpy=\n",
       "array([[13, 89],\n",
       "       [ 0, 18]])>"
      ]
     },
     "execution_count": 65,
     "metadata": {},
     "output_type": "execute_result"
    }
   ],
   "source": [
    "tf.linalg.matmul(t3,t4)[0]"
   ]
  },
  {
   "cell_type": "code",
   "execution_count": 66,
   "id": "257735b5-bbae-4f74-bf50-5f64aba131ce",
   "metadata": {},
   "outputs": [
    {
     "data": {
      "text/plain": [
       "<tf.Tensor: shape=(2, 2), dtype=int32, numpy=\n",
       "array([[51,  2],\n",
       "       [93,  2]])>"
      ]
     },
     "execution_count": 66,
     "metadata": {},
     "output_type": "execute_result"
    }
   ],
   "source": [
    "tf.linalg.matmul(t3,t4)[1]"
   ]
  },
  {
   "cell_type": "code",
   "execution_count": 67,
   "id": "a0d9b608-7124-4eb0-a7d5-28e85ddb8b80",
   "metadata": {},
   "outputs": [
    {
     "data": {
      "text/plain": [
       "array([51,  2])"
      ]
     },
     "execution_count": 67,
     "metadata": {},
     "output_type": "execute_result"
    }
   ],
   "source": [
    "tf.linalg.matmul(t3,t4)[1][0].numpy()"
   ]
  },
  {
   "cell_type": "code",
   "execution_count": 68,
   "id": "a2423ddf-4bf7-48c1-be0e-46b80cabed67",
   "metadata": {},
   "outputs": [
    {
     "data": {
      "text/plain": [
       "2"
      ]
     },
     "execution_count": 68,
     "metadata": {},
     "output_type": "execute_result"
    }
   ],
   "source": [
    "tf.linalg.matmul(t3,t4)[1][0][1].numpy()"
   ]
  },
  {
   "cell_type": "code",
   "execution_count": 69,
   "id": "ccf1b094-70cd-4fe2-ad35-33cabded3ca2",
   "metadata": {},
   "outputs": [
    {
     "data": {
      "text/plain": [
       "array([[[2]]])"
      ]
     },
     "execution_count": 69,
     "metadata": {},
     "output_type": "execute_result"
    }
   ],
   "source": [
    "tf.linalg.matmul(t3,t4)[1:2,:1,1:2].numpy()"
   ]
  },
  {
   "cell_type": "code",
   "execution_count": 70,
   "id": "226d88c5-97b4-42a7-86dc-b3f58e8ab1bb",
   "metadata": {},
   "outputs": [
    {
     "data": {
      "text/plain": [
       "2"
      ]
     },
     "execution_count": 70,
     "metadata": {},
     "output_type": "execute_result"
    }
   ],
   "source": [
    "tf.linalg.matmul(t3,t4)[1,0,1].numpy()"
   ]
  },
  {
   "cell_type": "code",
   "execution_count": 71,
   "id": "25a357ba-3e12-4b90-aacb-c941a11215c0",
   "metadata": {},
   "outputs": [],
   "source": [
    "tf.random.set_seed(42)\n",
    "t5 = tf.random.uniform(shape=(2,2,3)) \n",
    "t6 = tf.random.uniform(shape=(2,3,2)) "
   ]
  },
  {
   "cell_type": "code",
   "execution_count": 72,
   "id": "83fbae96-f3e1-456b-9f2a-11f5980403a0",
   "metadata": {},
   "outputs": [],
   "source": [
    "#t5 * t6  doesn't work due to dimension mismatch"
   ]
  },
  {
   "cell_type": "code",
   "execution_count": 73,
   "id": "a9fb2aac-a5cf-435a-9c60-472ae077199b",
   "metadata": {},
   "outputs": [
    {
     "data": {
      "text/plain": [
       "<tf.Tensor: shape=(2, 2, 2), dtype=float32, numpy=\n",
       "array([[[1.1257328 , 0.74815416],\n",
       "        [0.85145205, 0.84463745]],\n",
       "\n",
       "       [[1.0646195 , 1.1898088 ],\n",
       "        [0.50868213, 0.840804  ]]], dtype=float32)>"
      ]
     },
     "execution_count": 73,
     "metadata": {},
     "output_type": "execute_result"
    }
   ],
   "source": [
    "tf.linalg.matmul(t5, t6)"
   ]
  },
  {
   "cell_type": "code",
   "execution_count": 74,
   "id": "8946c496-b3e7-4f42-8380-dcfd86df9e80",
   "metadata": {},
   "outputs": [
    {
     "data": {
      "text/plain": [
       "<tf.Tensor: shape=(2, 3), dtype=int32, numpy=\n",
       "array([[4, 5, 6],\n",
       "       [7, 8, 9]])>"
      ]
     },
     "execution_count": 74,
     "metadata": {},
     "output_type": "execute_result"
    }
   ],
   "source": [
    "t7 = tf.constant([[4,5,6],[7,8,9]])\n",
    "t7"
   ]
  },
  {
   "cell_type": "code",
   "execution_count": 75,
   "id": "299dfb0b-10ec-461c-b75d-f0d134ebfa09",
   "metadata": {},
   "outputs": [],
   "source": [
    "t8= tf.transpose(t7)"
   ]
  },
  {
   "cell_type": "code",
   "execution_count": 76,
   "id": "6f98b70c-ab45-4f8b-8678-00a6b0fcec0f",
   "metadata": {},
   "outputs": [
    {
     "data": {
      "text/plain": [
       "<tf.Tensor: shape=(2, 2), dtype=int32, numpy=\n",
       "array([[ 77, 122],\n",
       "       [122, 194]])>"
      ]
     },
     "execution_count": 76,
     "metadata": {},
     "output_type": "execute_result"
    }
   ],
   "source": [
    "tf.matmul(t7,t8)"
   ]
  },
  {
   "cell_type": "code",
   "execution_count": 77,
   "id": "8aa0e675-f283-4e52-9a5c-bd35362520a5",
   "metadata": {},
   "outputs": [
    {
     "data": {
      "text/plain": [
       "<tf.Tensor: shape=(3, 3), dtype=int32, numpy=\n",
       "array([[ 65,  76,  87],\n",
       "       [ 76,  89, 102],\n",
       "       [ 87, 102, 117]])>"
      ]
     },
     "execution_count": 77,
     "metadata": {},
     "output_type": "execute_result"
    }
   ],
   "source": [
    "tf.matmul(t8,t7)"
   ]
  },
  {
   "cell_type": "code",
   "execution_count": 78,
   "id": "c3367349-47d1-48e2-ae0f-6c6d698f76c6",
   "metadata": {},
   "outputs": [
    {
     "data": {
      "text/plain": [
       "<tf.Tensor: shape=(2, 2, 3), dtype=int32, numpy=\n",
       "array([[[ 2,  3, 10],\n",
       "        [ 3,  4, 20]],\n",
       "\n",
       "       [[ 5,  6, 30],\n",
       "        [ 7,  8, 40]]])>"
      ]
     },
     "execution_count": 78,
     "metadata": {},
     "output_type": "execute_result"
    }
   ],
   "source": [
    "t9 = tf.constant([\n",
    "                [[2,3,10],[3,4,20]],\n",
    "                [[5,6,30],[7,8,40]]\n",
    "                ])\n",
    "t9"
   ]
  },
  {
   "cell_type": "code",
   "execution_count": 79,
   "id": "195cfd25-90f3-40db-8c1f-6d40c12c6e81",
   "metadata": {},
   "outputs": [
    {
     "data": {
      "text/plain": [
       "<tf.Tensor: shape=(3, 2, 2), dtype=int32, numpy=\n",
       "array([[[ 2,  5],\n",
       "        [ 3,  7]],\n",
       "\n",
       "       [[ 3,  6],\n",
       "        [ 4,  8]],\n",
       "\n",
       "       [[10, 30],\n",
       "        [20, 40]]])>"
      ]
     },
     "execution_count": 79,
     "metadata": {},
     "output_type": "execute_result"
    }
   ],
   "source": [
    "tf.transpose(t9)"
   ]
  },
  {
   "cell_type": "markdown",
   "id": "fa08c25c-ab29-4682-88c3-77ab517d6a6b",
   "metadata": {},
   "source": [
    "### Chapter 7\n",
    "\n",
    "tensor.dot <br>\n",
    "similar to matrix multiplication but gives additional control over axes"
   ]
  },
  {
   "cell_type": "code",
   "execution_count": 80,
   "id": "21e0c4d4-98de-477c-a2b0-448c89ef15f0",
   "metadata": {},
   "outputs": [
    {
     "data": {
      "text/plain": [
       "(<tf.Tensor: shape=(2, 2), dtype=int32, numpy=\n",
       " array([[10,  7],\n",
       "        [ 4,  5]])>,\n",
       " <tf.Tensor: shape=(2, 2), dtype=int32, numpy=\n",
       " array([[ 2,  3],\n",
       "        [11,  6]])>)"
      ]
     },
     "execution_count": 80,
     "metadata": {},
     "output_type": "execute_result"
    }
   ],
   "source": [
    "t1, t2"
   ]
  },
  {
   "cell_type": "code",
   "execution_count": 81,
   "id": "a8d4410e-098a-4474-97bc-6ec53c370322",
   "metadata": {},
   "outputs": [
    {
     "data": {
      "text/plain": [
       "<tf.Tensor: shape=(2, 2, 2, 2), dtype=int32, numpy=\n",
       "array([[[[ 20,  30],\n",
       "         [110,  60]],\n",
       "\n",
       "        [[ 14,  21],\n",
       "         [ 77,  42]]],\n",
       "\n",
       "\n",
       "       [[[  8,  12],\n",
       "         [ 44,  24]],\n",
       "\n",
       "        [[ 10,  15],\n",
       "         [ 55,  30]]]])>"
      ]
     },
     "execution_count": 81,
     "metadata": {},
     "output_type": "execute_result"
    }
   ],
   "source": [
    "newt = tf.tensordot(t1,t2,axes=0) # creates a new 4dim tensor. Every entry of t1 is scalar-multiplied with t2, where newt[:,:,:,:] = newt[(shape of t1), (shape of t2)]\n",
    "newt"
   ]
  },
  {
   "cell_type": "code",
   "execution_count": 82,
   "id": "6fbc13f1-2ef4-412a-bf7b-1d6c7e7e57d7",
   "metadata": {},
   "outputs": [
    {
     "data": {
      "text/plain": [
       "<tf.Tensor: shape=(2, 2), dtype=int32, numpy=\n",
       "array([[ 20,  30],\n",
       "       [110,  60]])>"
      ]
     },
     "execution_count": 82,
     "metadata": {},
     "output_type": "execute_result"
    }
   ],
   "source": [
    "newt[0,0,:,:] #t1[0,0] * t2"
   ]
  },
  {
   "cell_type": "code",
   "execution_count": 83,
   "id": "c7f36414-0a37-4683-97c0-93f78e4b94ba",
   "metadata": {},
   "outputs": [
    {
     "data": {
      "text/plain": [
       "<tf.Tensor: shape=(2, 2), dtype=int32, numpy=\n",
       "array([[14, 21],\n",
       "       [77, 42]])>"
      ]
     },
     "execution_count": 83,
     "metadata": {},
     "output_type": "execute_result"
    }
   ],
   "source": [
    "newt[0,1,:,:] #t1[1,0] * t2"
   ]
  },
  {
   "cell_type": "code",
   "execution_count": 84,
   "id": "6040a0c7-c156-4ff4-a827-726b42d6c604",
   "metadata": {},
   "outputs": [
    {
     "data": {
      "text/plain": [
       "<tf.Tensor: shape=(2, 2), dtype=int32, numpy=\n",
       "array([[ 8, 12],\n",
       "       [44, 24]])>"
      ]
     },
     "execution_count": 84,
     "metadata": {},
     "output_type": "execute_result"
    }
   ],
   "source": [
    "newt[1,0,:,:] #t1[0,1] * t2"
   ]
  },
  {
   "cell_type": "code",
   "execution_count": 85,
   "id": "1b2df38c-36db-407a-9b23-8d8e24a9f97e",
   "metadata": {},
   "outputs": [
    {
     "data": {
      "text/plain": [
       "<tf.Tensor: shape=(2, 2), dtype=int32, numpy=\n",
       "array([[10, 15],\n",
       "       [55, 30]])>"
      ]
     },
     "execution_count": 85,
     "metadata": {},
     "output_type": "execute_result"
    }
   ],
   "source": [
    "newt[1,1,:,:] #t1[1,1] * t2"
   ]
  },
  {
   "cell_type": "code",
   "execution_count": 86,
   "id": "7f1728b2-ea0e-41f3-96c8-933013fe5489",
   "metadata": {},
   "outputs": [
    {
     "data": {
      "text/plain": [
       "<tf.Tensor: shape=(2, 2), dtype=int32, numpy=\n",
       "array([[97, 72],\n",
       "       [63, 42]])>"
      ]
     },
     "execution_count": 86,
     "metadata": {},
     "output_type": "execute_result"
    }
   ],
   "source": [
    "tf.tensordot(t1,t2,axes=1) # similar to matmul"
   ]
  },
  {
   "cell_type": "code",
   "execution_count": 87,
   "id": "e6b9b790-257c-40f8-be49-0b872fbf58d0",
   "metadata": {},
   "outputs": [
    {
     "name": "stdout",
     "output_type": "stream",
     "text": [
      "(2, 2, 3)\n",
      "(3, 2, 2)\n",
      "(2, 2, 2, 2)\n"
     ]
    }
   ],
   "source": [
    "print(t9.shape)\n",
    "print(tf.transpose(t9).shape)\n",
    "print(tf.tensordot(t9,tf.transpose(t9), axes=1).shape)"
   ]
  },
  {
   "cell_type": "code",
   "execution_count": 88,
   "id": "2ef08117-aff5-414c-b6bc-fe885ed9b252",
   "metadata": {},
   "outputs": [
    {
     "name": "stdout",
     "output_type": "stream",
     "text": [
      "(2, 2, 3)\n",
      "(3, 2, 2)\n",
      "(2, 2, 3, 3, 2, 2)\n"
     ]
    }
   ],
   "source": [
    "print(t9.shape)\n",
    "print(tf.transpose(t9).shape)\n",
    "print(tf.tensordot(t9,tf.transpose(t9), axes=0).shape)"
   ]
  },
  {
   "cell_type": "code",
   "execution_count": 89,
   "id": "f9d22388-f261-41c9-a701-ed50eef46211",
   "metadata": {},
   "outputs": [],
   "source": [
    "#tf.matmul(t9,tf.transpose(t9)) dimension mismatch"
   ]
  },
  {
   "cell_type": "code",
   "execution_count": 90,
   "id": "31ba2f71-7176-4e8d-9c7e-a8a1c1e4243c",
   "metadata": {},
   "outputs": [],
   "source": [
    "v1 = tf.constant([1,2])\n",
    "v2 = tf.constant([[3],[4]])"
   ]
  },
  {
   "cell_type": "code",
   "execution_count": 91,
   "id": "90914908-c020-4206-a49f-afe1b15531d5",
   "metadata": {},
   "outputs": [
    {
     "data": {
      "text/plain": [
       "<tf.Tensor: shape=(2, 2, 1), dtype=int32, numpy=\n",
       "array([[[3],\n",
       "        [4]],\n",
       "\n",
       "       [[6],\n",
       "        [8]]])>"
      ]
     },
     "execution_count": 91,
     "metadata": {},
     "output_type": "execute_result"
    }
   ],
   "source": [
    "tf.tensordot(v1,v2, axes=0)"
   ]
  },
  {
   "cell_type": "code",
   "execution_count": 92,
   "id": "4acf4859-d601-4314-9c5e-0edc151516ef",
   "metadata": {},
   "outputs": [
    {
     "data": {
      "text/plain": [
       "<tf.Tensor: shape=(1,), dtype=int32, numpy=array([11])>"
      ]
     },
     "execution_count": 92,
     "metadata": {},
     "output_type": "execute_result"
    }
   ],
   "source": [
    "tf.tensordot(v1,v2, axes=1)"
   ]
  },
  {
   "cell_type": "code",
   "execution_count": 93,
   "id": "b8317fb7-390c-4fd0-a3fe-eab41662b5ff",
   "metadata": {},
   "outputs": [
    {
     "data": {
      "text/plain": [
       "<tf.Tensor: shape=(2, 1, 2), dtype=int32, numpy=\n",
       "array([[[3, 6]],\n",
       "\n",
       "       [[4, 8]]])>"
      ]
     },
     "execution_count": 93,
     "metadata": {},
     "output_type": "execute_result"
    }
   ],
   "source": [
    "tf.tensordot(v2,v1, axes=0)"
   ]
  },
  {
   "cell_type": "code",
   "execution_count": 94,
   "id": "217296ea-9800-4854-8715-974ff8cce14c",
   "metadata": {},
   "outputs": [
    {
     "name": "stdout",
     "output_type": "stream",
     "text": [
      "(8, 9, 10, 11)\n",
      "(1, 2, 3, 4, 5, 6, 7)\n",
      "(8, 9, 10, 11, 1, 2, 3, 4, 5, 6, 7)\n",
      "(1, 2, 3, 4, 5, 6, 7, 8, 9, 10, 11)\n",
      "7920 = 7920\n",
      "5040 = 5040\n",
      "39916800\n",
      "39916800\n"
     ]
    }
   ],
   "source": [
    "tf.random.set_seed(101)\n",
    "t20 = tf.random.uniform(shape=(8,9,10,11))\n",
    "t21 = tf.random.normal(shape=(1,2,3,4,5,6,7))\n",
    "print(t20.shape)\n",
    "print(t21.shape)\n",
    "print(tf.tensordot(t20,t21, axes=0).shape)\n",
    "print(tf.tensordot(t21,t20, axes=0).shape)\n",
    "print(str(tf.size(t20).numpy()) + \" = \" + str(int(np.math.factorial(11) / np.math.factorial(7))))\n",
    "print(str(tf.size(t21).numpy()) + \" = \" + str(np.math.factorial(7)))\n",
    "print(tf.size(tf.tensordot(t20,t21, axes=0)).numpy())\n",
    "print(tf.size(tf.tensordot(t21,t20, axes=0)).numpy())\n",
    "# axes = 1 requires fitting dimensions!!!\n",
    "#print(tf.tensordot(t20,t21, axes=1).shape)\n",
    "#print(tf.tensordot(t21,t20, axes=1).shape)"
   ]
  },
  {
   "cell_type": "code",
   "execution_count": null,
   "id": "4a5b32f3-77fa-4ca3-b63c-b32393b29002",
   "metadata": {},
   "outputs": [],
   "source": []
  },
  {
   "cell_type": "markdown",
   "id": "a2ab54b5-5ce4-4c80-b06f-f76aad8b7243",
   "metadata": {},
   "source": [
    "### Chapter 9\n",
    "\n",
    "tesnors with user defined data types"
   ]
  },
  {
   "cell_type": "code",
   "execution_count": 95,
   "id": "3d68d81c-d76d-4d3f-a3f5-4122af305347",
   "metadata": {},
   "outputs": [],
   "source": [
    "# Create tensor with default dtype =float32"
   ]
  },
  {
   "cell_type": "code",
   "execution_count": 96,
   "id": "2c68fd1a-485a-40cf-9bd5-1e944aa8dae1",
   "metadata": {},
   "outputs": [
    {
     "data": {
      "text/plain": [
       "tf.float32"
      ]
     },
     "execution_count": 96,
     "metadata": {},
     "output_type": "execute_result"
    }
   ],
   "source": [
    "b = tf.constant([1.7,2.3])\n",
    "b.dtype"
   ]
  },
  {
   "cell_type": "code",
   "execution_count": 97,
   "id": "f7dfc31e-8df2-42fe-a84a-6b70ece6730e",
   "metadata": {},
   "outputs": [
    {
     "data": {
      "text/plain": [
       "tf.int32"
      ]
     },
     "execution_count": 97,
     "metadata": {},
     "output_type": "execute_result"
    }
   ],
   "source": [
    "c = tf.constant([1,2])\n",
    "c.dtype"
   ]
  },
  {
   "cell_type": "code",
   "execution_count": 98,
   "id": "39a4068f-fec1-449d-b021-ca3c6f37b8b6",
   "metadata": {},
   "outputs": [
    {
     "data": {
      "text/plain": [
       "tf.float16"
      ]
     },
     "execution_count": 98,
     "metadata": {},
     "output_type": "execute_result"
    }
   ],
   "source": [
    "b = tf.cast(b, dtype= tf.float16)\n",
    "b.dtype"
   ]
  },
  {
   "cell_type": "code",
   "execution_count": 99,
   "id": "cb9ea80b-a28e-45c2-a92e-91937ee76cd4",
   "metadata": {},
   "outputs": [
    {
     "data": {
      "text/plain": [
       "<tf.Tensor: shape=(2,), dtype=float64, numpy=array([1., 2.])>"
      ]
     },
     "execution_count": 99,
     "metadata": {},
     "output_type": "execute_result"
    }
   ],
   "source": [
    "c = tf.cast(c, dtype=tf.float64)\n",
    "c"
   ]
  },
  {
   "cell_type": "markdown",
   "id": "746ca155-bcf6-4436-a401-128484bcc3e7",
   "metadata": {},
   "source": [
    "### Chapter 10\n",
    "\n",
    "aggregating tensors (certain functions to return information about a tensor)\n",
    "* tf.abs(t) (absolute value)\n",
    "* t.shape\n",
    "* tf.size(t) ( a product of all dimensions)\n",
    "* tf.reduce_min/max/mean/std(t)"
   ]
  },
  {
   "cell_type": "code",
   "execution_count": 100,
   "id": "3eda45de-f1a8-410b-9ecf-8b6ede1fc051",
   "metadata": {},
   "outputs": [],
   "source": [
    "# Aggregating tensors"
   ]
  },
  {
   "cell_type": "code",
   "execution_count": 101,
   "id": "47b6a2b8-dd73-4d1c-89a9-bd6000693c76",
   "metadata": {},
   "outputs": [
    {
     "data": {
      "text/plain": [
       "<tf.Tensor: shape=(2,), dtype=int32, numpy=array([ -7, -10])>"
      ]
     },
     "execution_count": 101,
     "metadata": {},
     "output_type": "execute_result"
    }
   ],
   "source": [
    "a = tf.constant([-7,-10])\n",
    "a"
   ]
  },
  {
   "cell_type": "code",
   "execution_count": 102,
   "id": "01e6d7cb-f477-4470-940b-b00b143da900",
   "metadata": {},
   "outputs": [
    {
     "data": {
      "text/plain": [
       "<tf.Tensor: shape=(2,), dtype=int32, numpy=array([ 7, 10])>"
      ]
     },
     "execution_count": 102,
     "metadata": {},
     "output_type": "execute_result"
    }
   ],
   "source": [
    "#geting absolute values\n",
    "tf.abs(a)"
   ]
  },
  {
   "cell_type": "code",
   "execution_count": 103,
   "id": "0cf9b416-4c5d-4ed4-9b40-80f7923d4a03",
   "metadata": {},
   "outputs": [
    {
     "data": {
      "text/plain": [
       "(TensorShape([50]), <tf.Tensor: shape=(), dtype=int32, numpy=50>)"
      ]
     },
     "execution_count": 103,
     "metadata": {},
     "output_type": "execute_result"
    }
   ],
   "source": [
    "# random tensor\n",
    "e = tf.constant(np.random.randint(0,100, size =50))\n",
    "e.shape, tf.size(e)\n"
   ]
  },
  {
   "cell_type": "code",
   "execution_count": 104,
   "id": "2558bbe7-9c2e-46a7-b68c-eb3a2caaf37a",
   "metadata": {},
   "outputs": [
    {
     "data": {
      "text/plain": [
       "5"
      ]
     },
     "execution_count": 104,
     "metadata": {},
     "output_type": "execute_result"
    }
   ],
   "source": [
    "tf.reduce_min(e).numpy()"
   ]
  },
  {
   "cell_type": "code",
   "execution_count": 105,
   "id": "e7f7b54c-c8a8-47e2-b949-0de2c447f0f5",
   "metadata": {},
   "outputs": [
    {
     "data": {
      "text/plain": [
       "98"
      ]
     },
     "execution_count": 105,
     "metadata": {},
     "output_type": "execute_result"
    }
   ],
   "source": [
    "tf.reduce_max(e).numpy()"
   ]
  },
  {
   "cell_type": "code",
   "execution_count": 106,
   "id": "f7bc3703-0ec0-4e38-9514-8e1e42b8245c",
   "metadata": {},
   "outputs": [
    {
     "data": {
      "text/plain": [
       "52"
      ]
     },
     "execution_count": 106,
     "metadata": {},
     "output_type": "execute_result"
    }
   ],
   "source": [
    "tf.reduce_mean(e).numpy()"
   ]
  },
  {
   "cell_type": "code",
   "execution_count": 107,
   "id": "a365b2b7-44fd-4a4d-9922-3b22db5ab66e",
   "metadata": {},
   "outputs": [
    {
     "data": {
      "text/plain": [
       "2610"
      ]
     },
     "execution_count": 107,
     "metadata": {},
     "output_type": "execute_result"
    }
   ],
   "source": [
    "tf.reduce_sum(e).numpy()"
   ]
  },
  {
   "cell_type": "code",
   "execution_count": 108,
   "id": "300c716f-02a4-43a8-921a-181e8ff027c4",
   "metadata": {},
   "outputs": [
    {
     "data": {
      "text/plain": [
       "<tf.Tensor: shape=(), dtype=float16, numpy=28.58>"
      ]
     },
     "execution_count": 108,
     "metadata": {},
     "output_type": "execute_result"
    }
   ],
   "source": [
    "tf.math.reduce_std(tf.cast(e, dtype=tf.float16))"
   ]
  },
  {
   "cell_type": "code",
   "execution_count": 109,
   "id": "84b4625e-7cc0-431e-94a6-3f4bc275767b",
   "metadata": {},
   "outputs": [
    {
     "data": {
      "text/plain": [
       "<tf.Tensor: shape=(), dtype=float16, numpy=816.5>"
      ]
     },
     "execution_count": 109,
     "metadata": {},
     "output_type": "execute_result"
    }
   ],
   "source": [
    "tf.math.reduce_variance(tf.cast(e, dtype=tf.float16))"
   ]
  },
  {
   "cell_type": "code",
   "execution_count": 110,
   "id": "bb819a1a-1cfb-4c1d-a653-705e53afa4c8",
   "metadata": {},
   "outputs": [
    {
     "data": {
      "text/plain": [
       "<tf.Tensor: shape=(), dtype=float16, numpy=816.5>"
      ]
     },
     "execution_count": 110,
     "metadata": {},
     "output_type": "execute_result"
    }
   ],
   "source": [
    "tf.math.reduce_std(tf.cast(e, dtype=tf.float16))**2\n"
   ]
  },
  {
   "cell_type": "markdown",
   "id": "48f4c158-0c5e-4413-861d-a1189eacb242",
   "metadata": {},
   "source": [
    "### Finding the positional minimum and maximum "
   ]
  },
  {
   "cell_type": "code",
   "execution_count": 111,
   "id": "6ffb64d8-4258-4d1c-8d79-7cffa4070bc9",
   "metadata": {},
   "outputs": [
    {
     "data": {
      "text/plain": [
       "<tf.Tensor: shape=(50,), dtype=float32, numpy=\n",
       "array([0.6645621 , 0.44100678, 0.3528825 , 0.46448255, 0.03366041,\n",
       "       0.68467236, 0.74011743, 0.8724445 , 0.22632635, 0.22319686,\n",
       "       0.3103881 , 0.7223358 , 0.13318717, 0.5480639 , 0.5746088 ,\n",
       "       0.8996835 , 0.00946367, 0.5212307 , 0.6345445 , 0.1993283 ,\n",
       "       0.72942245, 0.54583454, 0.10756552, 0.6767061 , 0.6602763 ,\n",
       "       0.33695042, 0.60141766, 0.21062577, 0.8527372 , 0.44062173,\n",
       "       0.9485276 , 0.23752594, 0.81179297, 0.5263394 , 0.494308  ,\n",
       "       0.21612847, 0.8457197 , 0.8718841 , 0.3083862 , 0.6868038 ,\n",
       "       0.23764038, 0.7817228 , 0.9671384 , 0.06870162, 0.79873943,\n",
       "       0.66028714, 0.5871513 , 0.16461694, 0.7381023 , 0.32054043],\n",
       "      dtype=float32)>"
      ]
     },
     "execution_count": 111,
     "metadata": {},
     "output_type": "execute_result"
    }
   ],
   "source": [
    "# Create a new tensor for finding positional minimum and maximum\n",
    "tf.random.set_seed(42)\n",
    "F = tf.random.uniform(shape=[50])\n",
    "F"
   ]
  },
  {
   "cell_type": "code",
   "execution_count": 112,
   "id": "41b49b2d-e01b-4f0b-9ab4-e0385cece97e",
   "metadata": {
    "tags": []
   },
   "outputs": [
    {
     "name": "stdout",
     "output_type": "stream",
     "text": [
      "42\n",
      "0.9671384\n",
      "0.9671384\n"
     ]
    }
   ],
   "source": [
    "# find pos maximum\n",
    "print(tf.argmax(F).numpy()) # returns the index\n",
    "print(F[tf.argmax(F)].numpy())\n",
    "print(tf.reduce_max(F).numpy())"
   ]
  },
  {
   "cell_type": "code",
   "execution_count": 113,
   "id": "6c95b2ca-a605-456d-9d57-c0c0df265a96",
   "metadata": {},
   "outputs": [
    {
     "data": {
      "text/plain": [
       "True"
      ]
     },
     "execution_count": 113,
     "metadata": {},
     "output_type": "execute_result"
    }
   ],
   "source": [
    "# check for equality\n",
    "\n",
    "F[tf.argmax(F)].numpy() == tf.reduce_max(F).numpy()"
   ]
  },
  {
   "cell_type": "code",
   "execution_count": 114,
   "id": "fdaa2696-6577-41eb-85c8-8e80ca1cb681",
   "metadata": {},
   "outputs": [
    {
     "name": "stdout",
     "output_type": "stream",
     "text": [
      "16\n",
      "0.009463668\n",
      "0.009463668\n"
     ]
    }
   ],
   "source": [
    "# find pos minimum\n",
    "print(tf.argmin(F).numpy()) # returns the index\n",
    "print(F[tf.argmin(F)].numpy())\n",
    "print(tf.reduce_min(F).numpy())"
   ]
  },
  {
   "cell_type": "code",
   "execution_count": 115,
   "id": "3a072106-b035-43dc-b421-3f00d3af8896",
   "metadata": {},
   "outputs": [
    {
     "data": {
      "text/plain": [
       "<tf.Tensor: shape=(2, 4), dtype=float32, numpy=\n",
       "array([[ 1.8662778 , -1.7805147 ,  1.3079982 , -1.4673755 ],\n",
       "       [ 0.72068876,  2.2056582 , -0.15544122,  2.539635  ]],\n",
       "      dtype=float32)>"
      ]
     },
     "execution_count": 115,
     "metadata": {},
     "output_type": "execute_result"
    }
   ],
   "source": [
    "tf.random.set_seed(222)\n",
    "G = tf.random.normal(shape=(2,4))\n",
    "G"
   ]
  },
  {
   "cell_type": "code",
   "execution_count": 116,
   "id": "10693ba1-f6e0-4976-b177-bf37ee19554f",
   "metadata": {},
   "outputs": [
    {
     "name": "stdout",
     "output_type": "stream",
     "text": [
      "tf.Tensor([0 1 0 1], shape=(4,), dtype=int64)\n",
      "tf.Tensor([0 3], shape=(2,), dtype=int64)\n"
     ]
    }
   ],
   "source": [
    "print(tf.argmax(G, axis = 0))\n",
    "print(tf.argmax(G, axis = 1))\n"
   ]
  },
  {
   "cell_type": "code",
   "execution_count": 117,
   "id": "d8b20017-5535-43c2-97a4-137ac28fc601",
   "metadata": {},
   "outputs": [
    {
     "data": {
      "text/plain": [
       "<tf.Tensor: shape=(2, 2, 2), dtype=float32, numpy=\n",
       "array([[[ 1.8662778 , -1.7805147 ],\n",
       "        [ 1.3079982 , -1.4673755 ]],\n",
       "\n",
       "       [[ 0.72068876,  2.2056582 ],\n",
       "        [-0.15544122,  2.539635  ]]], dtype=float32)>"
      ]
     },
     "execution_count": 117,
     "metadata": {},
     "output_type": "execute_result"
    }
   ],
   "source": [
    "tf.random.set_seed(222)\n",
    "H = tf.random.normal(shape=(2,2,2))\n",
    "H"
   ]
  },
  {
   "cell_type": "code",
   "execution_count": 118,
   "id": "b74ca120-4c74-44e7-bfef-5ca6ab447397",
   "metadata": {},
   "outputs": [
    {
     "name": "stdout",
     "output_type": "stream",
     "text": [
      "tf.Tensor(\n",
      "[[0 1]\n",
      " [0 1]], shape=(2, 2), dtype=int64)\n",
      "[[1.8662778 2.2056582]\n",
      " [1.3079982 2.539635 ]]\n",
      "\n",
      "tf.Tensor(\n",
      "[[0 1]\n",
      " [0 1]], shape=(2, 2), dtype=int64)\n",
      "[[ 1.8662778  -1.4673755 ]\n",
      " [ 0.72068876  2.539635  ]]\n",
      "\n",
      "tf.Tensor(\n",
      "[[0 0]\n",
      " [1 1]], shape=(2, 2), dtype=int64)\n",
      "[[1.8662778 1.3079982]\n",
      " [2.2056582 2.539635 ]]\n"
     ]
    }
   ],
   "source": [
    "print(tf.argmax(H, axis = 0))\n",
    "print(tf.reduce_max(H, axis =0).numpy())\n",
    "print(\"\")\n",
    "print(tf.argmax(H, axis = 1))\n",
    "print(tf.reduce_max(H, axis =1).numpy())\n",
    "print(\"\")\n",
    "print(tf.argmax(H, axis = 2))\n",
    "print(tf.reduce_max(H, axis =2).numpy())\n"
   ]
  },
  {
   "cell_type": "code",
   "execution_count": null,
   "id": "1ded5342-fbaf-440e-a279-b4872dc4244b",
   "metadata": {},
   "outputs": [],
   "source": []
  },
  {
   "cell_type": "markdown",
   "id": "28454eb3-8f88-4f45-bf9c-631ed2917e09",
   "metadata": {},
   "source": [
    "### Squeezing a tensor (removing all single diemensions)\n"
   ]
  },
  {
   "cell_type": "code",
   "execution_count": 119,
   "id": "417deb69-74ba-44ef-8c37-2759fbacc1cc",
   "metadata": {},
   "outputs": [
    {
     "data": {
      "text/plain": [
       "<tf.Tensor: shape=(1, 1, 1, 1, 50), dtype=float32, numpy=\n",
       "array([[[[[0.6645621 , 0.44100678, 0.3528825 , 0.46448255, 0.03366041,\n",
       "           0.68467236, 0.74011743, 0.8724445 , 0.22632635, 0.22319686,\n",
       "           0.3103881 , 0.7223358 , 0.13318717, 0.5480639 , 0.5746088 ,\n",
       "           0.8996835 , 0.00946367, 0.5212307 , 0.6345445 , 0.1993283 ,\n",
       "           0.72942245, 0.54583454, 0.10756552, 0.6767061 , 0.6602763 ,\n",
       "           0.33695042, 0.60141766, 0.21062577, 0.8527372 , 0.44062173,\n",
       "           0.9485276 , 0.23752594, 0.81179297, 0.5263394 , 0.494308  ,\n",
       "           0.21612847, 0.8457197 , 0.8718841 , 0.3083862 , 0.6868038 ,\n",
       "           0.23764038, 0.7817228 , 0.9671384 , 0.06870162, 0.79873943,\n",
       "           0.66028714, 0.5871513 , 0.16461694, 0.7381023 , 0.32054043]]]]],\n",
       "      dtype=float32)>"
      ]
     },
     "execution_count": 119,
     "metadata": {},
     "output_type": "execute_result"
    }
   ],
   "source": [
    "tf.random.set_seed(42)\n",
    "L= tf.constant(tf.random.uniform(shape=[50]), shape=(1,1,1,1,50))\n",
    "L"
   ]
  },
  {
   "cell_type": "code",
   "execution_count": 120,
   "id": "ba90e857-b791-4a6d-bdb1-3ee1a272770d",
   "metadata": {},
   "outputs": [
    {
     "data": {
      "text/plain": [
       "TensorShape([1, 1, 1, 1, 50])"
      ]
     },
     "execution_count": 120,
     "metadata": {},
     "output_type": "execute_result"
    }
   ],
   "source": [
    "L.shape"
   ]
  },
  {
   "cell_type": "code",
   "execution_count": 121,
   "id": "9a2c5ed6-f2d0-42b1-aaf3-6a934ab6a846",
   "metadata": {},
   "outputs": [
    {
     "data": {
      "text/plain": [
       "(TensorShape([50]),\n",
       " <tf.Tensor: shape=(50,), dtype=float32, numpy=\n",
       " array([0.6645621 , 0.44100678, 0.3528825 , 0.46448255, 0.03366041,\n",
       "        0.68467236, 0.74011743, 0.8724445 , 0.22632635, 0.22319686,\n",
       "        0.3103881 , 0.7223358 , 0.13318717, 0.5480639 , 0.5746088 ,\n",
       "        0.8996835 , 0.00946367, 0.5212307 , 0.6345445 , 0.1993283 ,\n",
       "        0.72942245, 0.54583454, 0.10756552, 0.6767061 , 0.6602763 ,\n",
       "        0.33695042, 0.60141766, 0.21062577, 0.8527372 , 0.44062173,\n",
       "        0.9485276 , 0.23752594, 0.81179297, 0.5263394 , 0.494308  ,\n",
       "        0.21612847, 0.8457197 , 0.8718841 , 0.3083862 , 0.6868038 ,\n",
       "        0.23764038, 0.7817228 , 0.9671384 , 0.06870162, 0.79873943,\n",
       "        0.66028714, 0.5871513 , 0.16461694, 0.7381023 , 0.32054043],\n",
       "       dtype=float32)>)"
      ]
     },
     "execution_count": 121,
     "metadata": {},
     "output_type": "execute_result"
    }
   ],
   "source": [
    "L_squeezed = tf.squeeze(L)\n",
    "L_squeezed.shape, L_squeezed"
   ]
  },
  {
   "cell_type": "markdown",
   "id": "446b4b4c-7345-48c7-b668-d335e2d1be5c",
   "metadata": {},
   "source": [
    "### Chapter 11\n",
    "\n",
    "one-hot encoding allows numerical relabeling of categorical values"
   ]
  },
  {
   "cell_type": "code",
   "execution_count": 122,
   "id": "dee02840-128c-4215-8e13-9275b23e556f",
   "metadata": {},
   "outputs": [],
   "source": [
    "# Create a list of inices\n",
    "some_list = [0,1,2,3] # could be red, green, blue, purpel"
   ]
  },
  {
   "cell_type": "code",
   "execution_count": 123,
   "id": "368afd16-6b6c-4bc2-a623-75e52fef326e",
   "metadata": {},
   "outputs": [
    {
     "data": {
      "text/plain": [
       "<tf.Tensor: shape=(4, 4), dtype=float32, numpy=\n",
       "array([[1., 0., 0., 0.],\n",
       "       [0., 1., 0., 0.],\n",
       "       [0., 0., 1., 0.],\n",
       "       [0., 0., 0., 1.]], dtype=float32)>"
      ]
     },
     "execution_count": 123,
     "metadata": {},
     "output_type": "execute_result"
    }
   ],
   "source": [
    "tf.one_hot(some_list, depth =len(some_list))"
   ]
  },
  {
   "cell_type": "code",
   "execution_count": 124,
   "id": "5dd0adee-774a-4fff-909b-70281d7a4b44",
   "metadata": {},
   "outputs": [
    {
     "data": {
      "text/plain": [
       "<tf.Tensor: shape=(4, 4), dtype=string, numpy=\n",
       "array([[b'O', b' ', b' ', b' '],\n",
       "       [b' ', b'O', b' ', b' '],\n",
       "       [b' ', b' ', b'O', b' '],\n",
       "       [b' ', b' ', b' ', b'O']], dtype=object)>"
      ]
     },
     "execution_count": 124,
     "metadata": {},
     "output_type": "execute_result"
    }
   ],
   "source": [
    "# specify custom values for one_hot\n",
    "tf.one_hot(some_list, depth = len(some_list), on_value='O', off_value=' ')"
   ]
  },
  {
   "cell_type": "code",
   "execution_count": 125,
   "id": "24fed128-aae0-4cc1-a4de-ed23f7130dc0",
   "metadata": {},
   "outputs": [
    {
     "data": {
      "text/plain": [
       "<tf.Tensor: shape=(2, 3), dtype=int32, numpy=\n",
       "array([[0, 1, 2],\n",
       "       [3, 4, 5]])>"
      ]
     },
     "execution_count": 125,
     "metadata": {},
     "output_type": "execute_result"
    }
   ],
   "source": [
    "a_tensor =tf.constant([[0,1,2],[3,4,5]])\n",
    "a_tensor"
   ]
  },
  {
   "cell_type": "code",
   "execution_count": 126,
   "id": "50b8a5a3-4f36-4a48-a9ff-1ca05300a169",
   "metadata": {},
   "outputs": [
    {
     "data": {
      "text/plain": [
       "<tf.Tensor: shape=(2, 3, 6), dtype=float32, numpy=\n",
       "array([[[1., 0., 0., 0., 0., 0.],\n",
       "        [0., 1., 0., 0., 0., 0.],\n",
       "        [0., 0., 1., 0., 0., 0.]],\n",
       "\n",
       "       [[0., 0., 0., 1., 0., 0.],\n",
       "        [0., 0., 0., 0., 1., 0.],\n",
       "        [0., 0., 0., 0., 0., 1.]]], dtype=float32)>"
      ]
     },
     "execution_count": 126,
     "metadata": {},
     "output_type": "execute_result"
    }
   ],
   "source": [
    "tf.one_hot(a_tensor, depth = tf.size(a_tensor))"
   ]
  },
  {
   "cell_type": "code",
   "execution_count": 127,
   "id": "ccf7bad8-a816-4e7d-9c08-a1abf6232f32",
   "metadata": {},
   "outputs": [
    {
     "data": {
      "text/plain": [
       "<tf.Tensor: shape=(2, 3), dtype=int32, numpy=\n",
       "array([[0, 1, 2],\n",
       "       [2, 1, 0]])>"
      ]
     },
     "execution_count": 127,
     "metadata": {},
     "output_type": "execute_result"
    }
   ],
   "source": [
    "a_tensor2 =tf.constant([[0,1,2],[2,1,0]])\n",
    "a_tensor2"
   ]
  },
  {
   "cell_type": "code",
   "execution_count": 128,
   "id": "326eb751-5a38-4ee8-8839-00b0e412c712",
   "metadata": {},
   "outputs": [
    {
     "data": {
      "text/plain": [
       "<tf.Tensor: shape=(2, 3, 6), dtype=float32, numpy=\n",
       "array([[[1., 0., 0., 0., 0., 0.],\n",
       "        [0., 1., 0., 0., 0., 0.],\n",
       "        [0., 0., 1., 0., 0., 0.]],\n",
       "\n",
       "       [[0., 0., 1., 0., 0., 0.],\n",
       "        [0., 1., 0., 0., 0., 0.],\n",
       "        [1., 0., 0., 0., 0., 0.]]], dtype=float32)>"
      ]
     },
     "execution_count": 128,
     "metadata": {},
     "output_type": "execute_result"
    }
   ],
   "source": [
    "tf.one_hot(a_tensor2, depth = tf.size(a_tensor))"
   ]
  },
  {
   "cell_type": "markdown",
   "id": "ffc5cc1a-1a53-4cae-a3da-b6cd974fa852",
   "metadata": {},
   "source": [
    "### few more mathematicl operations"
   ]
  },
  {
   "cell_type": "code",
   "execution_count": 129,
   "id": "35a721d5-a4c9-45c5-aa41-6bc58127d8cc",
   "metadata": {},
   "outputs": [
    {
     "data": {
      "text/plain": [
       "<tf.Tensor: shape=(9,), dtype=int32, numpy=array([1, 2, 3, 4, 5, 6, 7, 8, 9])>"
      ]
     },
     "execution_count": 129,
     "metadata": {},
     "output_type": "execute_result"
    }
   ],
   "source": [
    "#Create a new tensor\n",
    "J = tf.range(1,10)\n",
    "J"
   ]
  },
  {
   "cell_type": "code",
   "execution_count": 130,
   "id": "64dfe556-6055-492b-9446-f5b41630ed26",
   "metadata": {},
   "outputs": [
    {
     "data": {
      "text/plain": [
       "<tf.Tensor: shape=(9,), dtype=int32, numpy=array([ 1,  4,  9, 16, 25, 36, 49, 64, 81])>"
      ]
     },
     "execution_count": 130,
     "metadata": {},
     "output_type": "execute_result"
    }
   ],
   "source": [
    "tf.square(J)"
   ]
  },
  {
   "cell_type": "code",
   "execution_count": 131,
   "id": "7384c864-42d1-4f51-9d1b-b34c8a8925b9",
   "metadata": {},
   "outputs": [
    {
     "data": {
      "text/plain": [
       "<tf.Tensor: shape=(9,), dtype=float32, numpy=\n",
       "array([1.       , 1.4142135, 1.7320508, 2.       , 2.236068 , 2.4494898,\n",
       "       2.6457512, 2.828427 , 3.       ], dtype=float32)>"
      ]
     },
     "execution_count": 131,
     "metadata": {},
     "output_type": "execute_result"
    }
   ],
   "source": [
    "# tf.sqrt requires floats\n",
    "tf.math.sqrt(tf.cast(J, dtype=tf.float32))"
   ]
  },
  {
   "cell_type": "code",
   "execution_count": 132,
   "id": "8e532edf-40ff-483a-97cc-151cfcf9c707",
   "metadata": {},
   "outputs": [
    {
     "data": {
      "text/plain": [
       "<tf.Tensor: shape=(9,), dtype=float32, numpy=\n",
       "array([0.       , 0.6931472, 1.0986123, 1.3862944, 1.609438 , 1.7917595,\n",
       "       1.9459102, 2.0794415, 2.1972246], dtype=float32)>"
      ]
     },
     "execution_count": 132,
     "metadata": {},
     "output_type": "execute_result"
    }
   ],
   "source": [
    "tf.math.log(tf.cast(J, dtype=tf.float32))"
   ]
  },
  {
   "cell_type": "code",
   "execution_count": 133,
   "id": "c77f61fa-75d6-4761-b93d-5db3553863fb",
   "metadata": {},
   "outputs": [
    {
     "data": {
      "text/plain": [
       "<tf.Tensor: shape=(9,), dtype=float32, numpy=\n",
       "array([2.7182817e+00, 7.3890562e+00, 2.0085537e+01, 5.4598152e+01,\n",
       "       1.4841316e+02, 4.0342880e+02, 1.0966332e+03, 2.9809580e+03,\n",
       "       8.1030840e+03], dtype=float32)>"
      ]
     },
     "execution_count": 133,
     "metadata": {},
     "output_type": "execute_result"
    }
   ],
   "source": [
    "tf.math.exp(tf.cast(J, dtype=tf.float32))"
   ]
  },
  {
   "cell_type": "code",
   "execution_count": 134,
   "id": "159a0eb2-5341-4e2a-8149-aaab6a82c753",
   "metadata": {},
   "outputs": [
    {
     "data": {
      "text/plain": [
       "<tf.Tensor: shape=(2, 2, 2), dtype=float32, numpy=\n",
       "array([[[ 4.3616885e-01, -1.9093795e+00],\n",
       "        [ 1.3789066e+00, -1.0405852e+00]],\n",
       "\n",
       "       [[-9.5584162e-04,  1.6947803e-01],\n",
       "        [ 9.1563100e-01,  5.5124867e-01]]], dtype=float32)>"
      ]
     },
     "execution_count": 134,
     "metadata": {},
     "output_type": "execute_result"
    }
   ],
   "source": [
    "tf.random.set_seed(2)\n",
    "t001= tf.random.normal(shape=(2,2,2))\n",
    "t001"
   ]
  },
  {
   "cell_type": "code",
   "execution_count": 135,
   "id": "13dc2e7d-a426-4ab3-9421-2f075fe7638a",
   "metadata": {},
   "outputs": [
    {
     "data": {
      "text/plain": [
       "<tf.Tensor: shape=(2, 2, 2), dtype=float32, numpy=\n",
       "array([[[-0.82972586,  0.6467783 ],\n",
       "        [ 0.32129088,  0.03978321]],\n",
       "\n",
       "       [[-6.9529185 , -1.775032  ],\n",
       "        [-0.08814184, -0.59556925]]], dtype=float32)>"
      ]
     },
     "execution_count": 135,
     "metadata": {},
     "output_type": "execute_result"
    }
   ],
   "source": [
    "tf.math.log(tf.abs(t001))"
   ]
  },
  {
   "cell_type": "markdown",
   "id": "6ae40619-45fc-425d-853b-246470a2e111",
   "metadata": {},
   "source": [
    "### Tensors and NumPy"
   ]
  },
  {
   "cell_type": "code",
   "execution_count": 136,
   "id": "6810dec1-79a2-45fc-aa06-7400499748f4",
   "metadata": {},
   "outputs": [
    {
     "data": {
      "text/plain": [
       "<tf.Tensor: shape=(2, 3), dtype=int32, numpy=\n",
       "array([[1, 2, 3],\n",
       "       [2, 3, 4]])>"
      ]
     },
     "execution_count": 136,
     "metadata": {},
     "output_type": "execute_result"
    }
   ],
   "source": [
    "# Create a tensor directly from NumPy array\n",
    "\n",
    "t002=tf.constant(np.array([[1,2,3],[2,3,4]]))\n",
    "t002"
   ]
  },
  {
   "cell_type": "code",
   "execution_count": 137,
   "id": "ba04ff86-23c9-4f04-93ad-417c473707b0",
   "metadata": {},
   "outputs": [
    {
     "data": {
      "text/plain": [
       "array([[1, 2, 3],\n",
       "       [2, 3, 4]])"
      ]
     },
     "execution_count": 137,
     "metadata": {},
     "output_type": "execute_result"
    }
   ],
   "source": [
    "np.array(t002)"
   ]
  },
  {
   "cell_type": "code",
   "execution_count": 138,
   "id": "abc6068c-95fb-470e-a8d3-eb49ffe7e4e5",
   "metadata": {},
   "outputs": [
    {
     "data": {
      "text/plain": [
       "array([[1, 2, 3],\n",
       "       [2, 3, 4]])"
      ]
     },
     "execution_count": 138,
     "metadata": {},
     "output_type": "execute_result"
    }
   ],
   "source": [
    "t002.numpy()"
   ]
  },
  {
   "cell_type": "code",
   "execution_count": 139,
   "id": "ec720367-0f29-4867-a203-49e53af040c9",
   "metadata": {},
   "outputs": [
    {
     "data": {
      "text/plain": [
       "8"
      ]
     },
     "execution_count": 139,
     "metadata": {},
     "output_type": "execute_result"
    }
   ],
   "source": [
    "t002.numpy()[1][1] + 5"
   ]
  },
  {
   "cell_type": "code",
   "execution_count": 140,
   "id": "3a71be8e-5471-4ce5-b834-701b5ca55311",
   "metadata": {},
   "outputs": [
    {
     "data": {
      "text/plain": [
       "(tf.float64, tf.float32)"
      ]
     },
     "execution_count": 140,
     "metadata": {},
     "output_type": "execute_result"
    }
   ],
   "source": [
    "numpy_K = tf.constant(np.array([3.,7.,10.]))\n",
    "tensor_K = tf.constant([3.,7.,10.])\n",
    "numpy_K.dtype, tensor_K.dtype"
   ]
  },
  {
   "cell_type": "markdown",
   "id": "8c2db4c9-24d7-4c4f-b9f8-f526d1595590",
   "metadata": {},
   "source": [
    "### Chapter 12\n",
    "\n",
    "TensorFlow on GPUs (requires NVIDIA or a heck of troubleshooting)"
   ]
  },
  {
   "cell_type": "code",
   "execution_count": 141,
   "id": "a0b7d87b-6584-47be-a523-c27cb26288fc",
   "metadata": {},
   "outputs": [
    {
     "data": {
      "text/plain": [
       "[PhysicalDevice(name='/physical_device:CPU:0', device_type='CPU')]"
      ]
     },
     "execution_count": 141,
     "metadata": {},
     "output_type": "execute_result"
    }
   ],
   "source": [
    "### Finding access to GPU\n",
    "tf.config.list_physical_devices()"
   ]
  },
  {
   "cell_type": "markdown",
   "id": "e4b5f225-b152-49b0-bd84-201e4bcfb00d",
   "metadata": {},
   "source": [
    "if there is acces to a CUDA-enabled GPU, TensorFlow will use it automatically"
   ]
  },
  {
   "cell_type": "markdown",
   "id": "6d581f9f-c87f-4732-8720-4a75c76a9518",
   "metadata": {},
   "source": [
    "### Exercise"
   ]
  },
  {
   "cell_type": "markdown",
   "id": "8f775191-181c-4a3f-bd6b-42cae50c6929",
   "metadata": {},
   "source": [
    "1. Create a vector, scalar, matrix and tensor with values of your choosing using tf.constant()"
   ]
  },
  {
   "cell_type": "code",
   "execution_count": 142,
   "id": "851456f6-6a0b-4e51-b89b-625f6b45b1f0",
   "metadata": {},
   "outputs": [
    {
     "data": {
      "text/plain": [
       "<tf.Tensor: shape=(2, 3), dtype=int32, numpy=\n",
       "array([[1, 2, 3],\n",
       "       [4, 5, 6]])>"
      ]
     },
     "execution_count": 142,
     "metadata": {},
     "output_type": "execute_result"
    }
   ],
   "source": [
    "tens01 = tf.constant([[1,2,3],[4,5,6]])\n",
    "tens01"
   ]
  },
  {
   "cell_type": "markdown",
   "id": "9be673d7-c3e0-4da4-9a58-5c93f69b113e",
   "metadata": {},
   "source": [
    "2. Find the shape, rank and size of the tensors you created in 1."
   ]
  },
  {
   "cell_type": "code",
   "execution_count": 143,
   "id": "c2e20d71-d0fc-44a5-85e3-1c5761323a04",
   "metadata": {},
   "outputs": [
    {
     "name": "stdout",
     "output_type": "stream",
     "text": [
      "(2, 3)\n",
      "2\n",
      "tf.Tensor(2, shape=(), dtype=int32)\n",
      "tf.Tensor(6, shape=(), dtype=int32)\n"
     ]
    }
   ],
   "source": [
    "print(tens01.shape)\n",
    "print(tens01.ndim)\n",
    "print(tf.rank(tens01))\n",
    "print(tf.size(tens01))\n"
   ]
  },
  {
   "cell_type": "markdown",
   "id": "16582e6f-58c0-46b6-b76f-590402f4ec9a",
   "metadata": {},
   "source": [
    "3. Create two tensors containing random values between 0 and 1 with shape [5, 300]"
   ]
  },
  {
   "cell_type": "code",
   "execution_count": 144,
   "id": "b4ce707e-f6c8-4500-b24b-57b22da8494d",
   "metadata": {},
   "outputs": [],
   "source": [
    "tf.random.set_seed(42)\n",
    "tens02 = tf.random.uniform(shape=(5,300))\n",
    "tens03 = tf.random.uniform(shape=(5,300))"
   ]
  },
  {
   "cell_type": "markdown",
   "id": "7daba53c-a384-40c8-88da-75e6406b407e",
   "metadata": {},
   "source": [
    "4. Multiply the two tensors you created in 3 using matrix multiplication."
   ]
  },
  {
   "cell_type": "code",
   "execution_count": 145,
   "id": "f6523949-72c2-4590-bbb2-c9ef05156941",
   "metadata": {},
   "outputs": [],
   "source": [
    "# tens05 = tf.linalg.matmul(tens02, tens03) dimension mismatch\n",
    "tens05 = tf.linalg.matmul(tens02, tf.transpose(tens03))"
   ]
  },
  {
   "cell_type": "markdown",
   "id": "e7cedbde-5500-4fb5-a457-f1554594e215",
   "metadata": {},
   "source": [
    "5. Multiply the two tensors you created in 3 using dot product"
   ]
  },
  {
   "cell_type": "code",
   "execution_count": 146,
   "id": "ecfec3af-9c0b-4cfb-904e-561fc43ff094",
   "metadata": {},
   "outputs": [],
   "source": [
    "tens06 = tf.tensordot(tens02, tens03, axes=0)"
   ]
  },
  {
   "cell_type": "code",
   "execution_count": 147,
   "id": "65980dc8-3895-407f-836b-d85614a59f2c",
   "metadata": {},
   "outputs": [],
   "source": [
    "#tens07 = tf.tensordot(tens02, tens03, axes =1 ) dimension mismatch"
   ]
  },
  {
   "cell_type": "markdown",
   "id": "3d964ff9-7976-496b-9a42-41367a6b43f3",
   "metadata": {},
   "source": [
    "6. Create a tensor with random values between 0 and 1 with shape [224, 224, 3]"
   ]
  },
  {
   "cell_type": "code",
   "execution_count": 148,
   "id": "ab9c55cc-c82a-4baa-8112-01ef8cf29033",
   "metadata": {},
   "outputs": [],
   "source": [
    "tf.random.set_seed(42)\n",
    "tens08 = tf.random.uniform((224,224,3))"
   ]
  },
  {
   "cell_type": "markdown",
   "id": "0708e939-f916-426d-a24c-d406c24ab19e",
   "metadata": {},
   "source": [
    "7. Find the min and max values of the tensor you created in 6."
   ]
  },
  {
   "cell_type": "code",
   "execution_count": 149,
   "id": "46d35645-8eac-4285-9d2d-5d81fab6f9a7",
   "metadata": {},
   "outputs": [
    {
     "name": "stdout",
     "output_type": "stream",
     "text": [
      "tf.Tensor(0.999998, shape=(), dtype=float32)\n",
      "tf.Tensor(3.5762787e-07, shape=(), dtype=float32)\n"
     ]
    }
   ],
   "source": [
    "print(tf.reduce_max(tens08))\n",
    "print(tf.reduce_min(tens08))"
   ]
  },
  {
   "cell_type": "markdown",
   "id": "9bdd938c-8e0b-4ba0-a339-91ff5c37c3fd",
   "metadata": {},
   "source": [
    "8. Created a tensor with random values of shape [1, 224, 224, 3] then squeeze it to change the shape to [224, 224, 3]"
   ]
  },
  {
   "cell_type": "code",
   "execution_count": 150,
   "id": "fcdef48d-ca7c-471a-a4ae-9bd060adf531",
   "metadata": {},
   "outputs": [
    {
     "name": "stdout",
     "output_type": "stream",
     "text": [
      "(1, 224, 224, 3)\n",
      "(224, 224, 3)\n"
     ]
    }
   ],
   "source": [
    "tens09 = tf.expand_dims(tens08, axis=0)\n",
    "print(tens09.shape)\n",
    "tens09 = tf.squeeze(tens09)\n",
    "print(tens09.shape)"
   ]
  },
  {
   "cell_type": "markdown",
   "id": "7c8bce6b-5ebe-4308-9b66-53a088c4b7e4",
   "metadata": {},
   "source": [
    "9. Create a tensor with shape [10] using your own choice of values, then find the index which has the maximum value"
   ]
  },
  {
   "cell_type": "code",
   "execution_count": 151,
   "id": "36f217af-a737-4107-9200-52fa26d00cea",
   "metadata": {},
   "outputs": [
    {
     "name": "stdout",
     "output_type": "stream",
     "text": [
      "tf.Tensor([1 3 4 4 1 4 2 1 5 5], shape=(10,), dtype=int32)\n",
      "(10,)\n",
      "tf.Tensor(8, shape=(), dtype=int64)\n",
      "tf.Tensor(0, shape=(), dtype=int64)\n"
     ]
    }
   ],
   "source": [
    "tf.random.set_seed(22)\n",
    "\n",
    "tens10 = tf.random.uniform(shape=[10], minval =1, maxval = 7, dtype = tf.int32)\n",
    "print(tens10)\n",
    "print(tens10.shape)\n",
    "print(tf.argmax(tens10))\n",
    "print(tf.argmin(tens10))"
   ]
  },
  {
   "cell_type": "markdown",
   "id": "e9199944-62d5-450f-bd1d-3206a0a7ddd7",
   "metadata": {},
   "source": [
    "10. One-hot encode the tensor you created in 9"
   ]
  },
  {
   "cell_type": "code",
   "execution_count": 152,
   "id": "c0bb0829-e70f-457e-b8be-57052333200f",
   "metadata": {},
   "outputs": [
    {
     "data": {
      "text/plain": [
       "<tf.Tensor: shape=(10, 5), dtype=string, numpy=\n",
       "array([[b'world ', b'hello', b'world ', b'world ', b'world '],\n",
       "       [b'world ', b'world ', b'world ', b'hello', b'world '],\n",
       "       [b'world ', b'world ', b'world ', b'world ', b'hello'],\n",
       "       [b'world ', b'world ', b'world ', b'world ', b'hello'],\n",
       "       [b'world ', b'hello', b'world ', b'world ', b'world '],\n",
       "       [b'world ', b'world ', b'world ', b'world ', b'hello'],\n",
       "       [b'world ', b'world ', b'hello', b'world ', b'world '],\n",
       "       [b'world ', b'hello', b'world ', b'world ', b'world '],\n",
       "       [b'world ', b'world ', b'world ', b'world ', b'world '],\n",
       "       [b'world ', b'world ', b'world ', b'world ', b'world ']],\n",
       "      dtype=object)>"
      ]
     },
     "execution_count": 152,
     "metadata": {},
     "output_type": "execute_result"
    }
   ],
   "source": [
    "tens11 = tf.one_hot(tens10, depth = tf.reduce_max(tens10), on_value='hello', off_value='world ')\n",
    "tens11"
   ]
  },
  {
   "cell_type": "code",
   "execution_count": null,
   "id": "b5b0053a-0127-46e5-bc02-d72a095a8976",
   "metadata": {},
   "outputs": [],
   "source": []
  },
  {
   "cell_type": "code",
   "execution_count": 222,
   "id": "6e2020d9-7280-412f-baef-43d030456694",
   "metadata": {},
   "outputs": [
    {
     "data": {
      "text/plain": [
       "<tf.Tensor: shape=(4, 6, 3), dtype=int32, numpy=\n",
       "array([[[  1,   2,   3],\n",
       "        [  4,   5,   6],\n",
       "        [  7,   8,   9],\n",
       "        [  9,   8,   7],\n",
       "        [  6,   5,   4],\n",
       "        [  3,   2,   1]],\n",
       "\n",
       "       [[ 10,  20,  30],\n",
       "        [ 40,  50,  60],\n",
       "        [ 70,  80,  90],\n",
       "        [ 90,  80,  70],\n",
       "        [ 60,  50,  40],\n",
       "        [ 30,  20,  10]],\n",
       "\n",
       "       [[ -1,  -2,  -3],\n",
       "        [ -4,  -5,  -6],\n",
       "        [ -7,  -8,  -9],\n",
       "        [ -9,  -8,  -7],\n",
       "        [ -6,  -5,  -4],\n",
       "        [ -3,  -2,  -1]],\n",
       "\n",
       "       [[-10, -20, -30],\n",
       "        [-40, -50, -60],\n",
       "        [-70, -80, -90],\n",
       "        [-90, -80, -70],\n",
       "        [-60, -50, -40],\n",
       "        [-30, -20, -10]]])>"
      ]
     },
     "execution_count": 222,
     "metadata": {},
     "output_type": "execute_result"
    }
   ],
   "source": [
    "a_tensor = tf.constant([\n",
    "    [\n",
    "        [1,2,3],[4,5,6],[7,8,9],\n",
    "        [9,8,7],[6,5,4],[3,2,1]\n",
    "    ],\n",
    "    [\n",
    "        [10,20,30],[40,50,60],[70,80,90],\n",
    "        [90,80,70],[60,50,40],[30,20,10]\n",
    "    ],\n",
    "    [\n",
    "        [-1,-2,-3],[-4,-5,-6],[-7,-8,-9],\n",
    "        [-9,-8,-7],[-6,-5,-4],[-3,-2,-1]\n",
    "    ],\n",
    "    [\n",
    "        [-10,-20,-30],[-40,-50,-60],[-70,-80,-90],\n",
    "        [-90,-80,-70],[-60,-50,-40],[-30,-20,-10]\n",
    "    ]\n",
    "    \n",
    "])\n",
    "a_tensor"
   ]
  },
  {
   "cell_type": "code",
   "execution_count": 228,
   "id": "b487c175-2b27-4f4e-be08-6e6a880e1ef4",
   "metadata": {},
   "outputs": [
    {
     "name": "stdout",
     "output_type": "stream",
     "text": [
      "sum across the most inner dimension: 6 = sum([1,2,3]), 15 = sum([4,5,6]) and so on\n"
     ]
    },
    {
     "data": {
      "text/plain": [
       "<tf.Tensor: shape=(4, 6), dtype=int32, numpy=\n",
       "array([[   6,   15,   24,   24,   15,    6],\n",
       "       [  60,  150,  240,  240,  150,   60],\n",
       "       [  -6,  -15,  -24,  -24,  -15,   -6],\n",
       "       [ -60, -150, -240, -240, -150,  -60]])>"
      ]
     },
     "execution_count": 228,
     "metadata": {},
     "output_type": "execute_result"
    }
   ],
   "source": [
    "print('sum across the most inner dimension: 6 = sum([1,2,3]), 15 = sum([4,5,6]) and so on.')\n",
    "tf.reduce_sum(a_tensor, axis=2)"
   ]
  },
  {
   "cell_type": "code",
   "execution_count": 229,
   "id": "ab27aed8-3897-43a4-ac70-9da6fc8f4f46",
   "metadata": {},
   "outputs": [
    {
     "name": "stdout",
     "output_type": "stream",
     "text": [
      "sum across the most inner dimension: 6 = sum([1,2,3]), 15 = sum([4,5,6]) and so on\n"
     ]
    },
    {
     "data": {
      "text/plain": [
       "<tf.Tensor: shape=(4, 3), dtype=int32, numpy=\n",
       "array([[  30,   30,   30],\n",
       "       [ 300,  300,  300],\n",
       "       [ -30,  -30,  -30],\n",
       "       [-300, -300, -300]])>"
      ]
     },
     "execution_count": 229,
     "metadata": {},
     "output_type": "execute_result"
    }
   ],
   "source": [
    "print('sum across the middle dimension: 30 = sum([1, 4, 7, 9, 6, 3]),and so on ')\n",
    "tf.reduce_sum(a_tensor, axis=1)\n"
   ]
  },
  {
   "cell_type": "code",
   "execution_count": 232,
   "id": "136c1fd9-562d-458f-8549-0d4d569080f6",
   "metadata": {},
   "outputs": [
    {
     "name": "stdout",
     "output_type": "stream",
     "text": [
      "sum across the outer dimension: 0 = sum([[1, 10, -1 , -10]),and so on \n"
     ]
    },
    {
     "data": {
      "text/plain": [
       "<tf.Tensor: shape=(6, 3), dtype=int32, numpy=\n",
       "array([[0, 0, 0],\n",
       "       [0, 0, 0],\n",
       "       [0, 0, 0],\n",
       "       [0, 0, 0],\n",
       "       [0, 0, 0],\n",
       "       [0, 0, 0]])>"
      ]
     },
     "execution_count": 232,
     "metadata": {},
     "output_type": "execute_result"
    }
   ],
   "source": [
    "print('sum across the outer dimension: 0 = sum([[1, 10, -1 , -10]),and so on ')\n",
    "tf.reduce_sum(a_tensor, axis=0)\n"
   ]
  },
  {
   "cell_type": "code",
   "execution_count": 233,
   "id": "cef9adc2-025a-4087-86eb-d57619ea6aad",
   "metadata": {},
   "outputs": [
    {
     "data": {
      "text/plain": [
       "<tf.Tensor: shape=(4, 1, 1), dtype=int32, numpy=\n",
       "array([[[  1]],\n",
       "\n",
       "       [[ 10]],\n",
       "\n",
       "       [[ -1]],\n",
       "\n",
       "       [[-10]]])>"
      ]
     },
     "execution_count": 233,
     "metadata": {},
     "output_type": "execute_result"
    }
   ],
   "source": [
    "print('the first entry of every element of the outer dimension (axis=0) ')\n",
    "a_tensor[:,:1,:1]"
   ]
  },
  {
   "cell_type": "code",
   "execution_count": 234,
   "id": "bc367b00-3367-4654-81b6-17421aa56a19",
   "metadata": {},
   "outputs": [
    {
     "name": "stdout",
     "output_type": "stream",
     "text": [
      "the first entry of every element of the middle dimension (axis=1) \n"
     ]
    },
    {
     "data": {
      "text/plain": [
       "<tf.Tensor: shape=(1, 6, 1), dtype=int32, numpy=\n",
       "array([[[1],\n",
       "        [4],\n",
       "        [7],\n",
       "        [9],\n",
       "        [6],\n",
       "        [3]]])>"
      ]
     },
     "execution_count": 234,
     "metadata": {},
     "output_type": "execute_result"
    }
   ],
   "source": [
    "print('the first entry of every element of the middle dimension (axis=1) ')\n",
    "a_tensor[:1,:,:1]"
   ]
  },
  {
   "cell_type": "code",
   "execution_count": 235,
   "id": "6ad8f7de-6419-4aa1-9de9-0ff923e52904",
   "metadata": {},
   "outputs": [
    {
     "name": "stdout",
     "output_type": "stream",
     "text": [
      "the first entry of every element of the inner dimension (axis=2) \n"
     ]
    },
    {
     "data": {
      "text/plain": [
       "<tf.Tensor: shape=(1, 1, 3), dtype=int32, numpy=array([[[1, 2, 3]]])>"
      ]
     },
     "execution_count": 235,
     "metadata": {},
     "output_type": "execute_result"
    }
   ],
   "source": [
    "print('the first entry of every element of the inner dimension (axis=2) ')\n",
    "a_tensor[:1,:1,:]"
   ]
  },
  {
   "cell_type": "code",
   "execution_count": null,
   "id": "07d0e062-98f2-4fe1-8faa-73417ef2ce41",
   "metadata": {},
   "outputs": [],
   "source": []
  }
 ],
 "metadata": {
  "kernelspec": {
   "display_name": "Python 3 (ipykernel)",
   "language": "python",
   "name": "python3"
  },
  "language_info": {
   "codemirror_mode": {
    "name": "ipython",
    "version": 3
   },
   "file_extension": ".py",
   "mimetype": "text/x-python",
   "name": "python",
   "nbconvert_exporter": "python",
   "pygments_lexer": "ipython3",
   "version": "3.8.12"
  }
 },
 "nbformat": 4,
 "nbformat_minor": 5
}
