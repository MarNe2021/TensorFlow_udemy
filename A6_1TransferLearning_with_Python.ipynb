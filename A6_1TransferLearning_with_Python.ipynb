{
  "nbformat": 4,
  "nbformat_minor": 0,
  "metadata": {
    "colab": {
      "name": "A6-1TransferLearning with Python.ipynb",
      "provenance": [],
      "authorship_tag": "ABX9TyPiIIxMFhRP8HqLhqfc+6Yd",
      "include_colab_link": true
    },
    "kernelspec": {
      "name": "python3",
      "display_name": "Python 3"
    },
    "language_info": {
      "name": "python"
    }
  },
  "cells": [
    {
      "cell_type": "markdown",
      "metadata": {
        "id": "view-in-github",
        "colab_type": "text"
      },
      "source": [
        "<a href=\"https://colab.research.google.com/github/MarNe2021/TensorFlow_udemy/blob/main/A6_1TransferLearning_with_Python.ipynb\" target=\"_parent\"><img src=\"https://colab.research.google.com/assets/colab-badge.svg\" alt=\"Open In Colab\"/></a>"
      ]
    },
    {
      "cell_type": "markdown",
      "source": [
        "# Transfer Learning with TensorFlow: \n",
        "### 1. Feature Extraction\n",
        "\n",
        "Transfer Learning is leveraging a working model's existing architecture and learned patterns for our own problem.\n",
        "\n",
        "There are two main benefits:\n",
        "1. Can leverage an existing neural network architecture proven to work on problems similar to our own\n",
        "2. Can leverage an existing neural network architecture which has already learned patterns on similar data to our own, then we can adapt those patterns to our own data"
      ],
      "metadata": {
        "id": "zYhSJyxkTr7j"
      }
    },
    {
      "cell_type": "markdown",
      "source": [
        ""
      ],
      "metadata": {
        "id": "VTvFQc83S0h-"
      }
    },
    {
      "cell_type": "markdown",
      "source": [
        "## Loading and exploring the data\n",
        "\n",
        "10% of Food101"
      ],
      "metadata": {
        "id": "RpbBrkahTzI2"
      }
    },
    {
      "cell_type": "code",
      "source": [
        "import tensorflow as tf\n",
        "import numpy as np\n",
        "import matplotlib.pyplot as plt\n",
        "import matplotlib.image as mpimg\n",
        "import pandas as pd\n",
        "import pathlib\n",
        "import os"
      ],
      "metadata": {
        "id": "nIS68cRrSwAb"
      },
      "execution_count": 2,
      "outputs": []
    },
    {
      "cell_type": "code",
      "source": [
        ""
      ],
      "metadata": {
        "id": "MN8f51BUUCde"
      },
      "execution_count": null,
      "outputs": []
    }
  ]
}