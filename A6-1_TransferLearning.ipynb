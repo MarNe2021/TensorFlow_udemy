{
 "cells": [
  {
   "cell_type": "markdown",
   "id": "08afac08-c5b2-459b-817b-0662268b3990",
   "metadata": {},
   "source": [
    "# Transfer Learning with TensorFlow: \n",
    "### 1. Feature Extraction\n",
    "\n",
    "Transfer Learning is leveraging a working model's existing architecture and learned patterns for our own problem.\n",
    "\n",
    "There are two main benefits:\n",
    "1. Can leverage an existing neural network architecture proven to work on problems similar to our own\n",
    "2. Can leverage an existing neural network architecture which has already learned patterns on similar data to our own, then we can adapt those patterns to our own data"
   ]
  },
  {
   "cell_type": "markdown",
   "id": "49b8a105-fbf4-413b-84c6-983d0a01c371",
   "metadata": {},
   "source": [
    "## Loading and exploring the data\n",
    "\n",
    "10% of Food101"
   ]
  },
  {
   "cell_type": "code",
   "execution_count": 1,
   "id": "9a86897b-59d6-42f8-82f2-debc35ecea4c",
   "metadata": {},
   "outputs": [],
   "source": [
    "import tensorflow as tf\n",
    "import numpy as np\n",
    "import matplotlib.pyplot as plt\n",
    "import matplotlib.image as mpimg\n",
    "import pandas as pd\n",
    "import pathlib\n",
    "import os"
   ]
  },
  {
   "cell_type": "code",
   "execution_count": 2,
   "id": "b8a31b16-c89a-48bf-8f2b-67e5d90d22fe",
   "metadata": {},
   "outputs": [
    {
     "name": "stdout",
     "output_type": "stream",
     "text": [
      "There are 2 directories and 0 images in '10_food_classes_10_percent'.\n",
      "There are 10 directories and 0 images in '10_food_classes_10_percent\\test'.\n",
      "There are 0 directories and 250 images in '10_food_classes_10_percent\\test\\chicken_curry'.\n",
      "There are 0 directories and 250 images in '10_food_classes_10_percent\\test\\chicken_wings'.\n",
      "There are 0 directories and 250 images in '10_food_classes_10_percent\\test\\fried_rice'.\n",
      "There are 0 directories and 250 images in '10_food_classes_10_percent\\test\\grilled_salmon'.\n",
      "There are 0 directories and 250 images in '10_food_classes_10_percent\\test\\hamburger'.\n",
      "There are 0 directories and 250 images in '10_food_classes_10_percent\\test\\ice_cream'.\n",
      "There are 0 directories and 250 images in '10_food_classes_10_percent\\test\\pizza'.\n",
      "There are 0 directories and 250 images in '10_food_classes_10_percent\\test\\ramen'.\n",
      "There are 0 directories and 250 images in '10_food_classes_10_percent\\test\\steak'.\n",
      "There are 0 directories and 250 images in '10_food_classes_10_percent\\test\\sushi'.\n",
      "There are 10 directories and 0 images in '10_food_classes_10_percent\\train'.\n",
      "There are 0 directories and 75 images in '10_food_classes_10_percent\\train\\chicken_curry'.\n",
      "There are 0 directories and 75 images in '10_food_classes_10_percent\\train\\chicken_wings'.\n",
      "There are 0 directories and 75 images in '10_food_classes_10_percent\\train\\fried_rice'.\n",
      "There are 0 directories and 75 images in '10_food_classes_10_percent\\train\\grilled_salmon'.\n",
      "There are 0 directories and 75 images in '10_food_classes_10_percent\\train\\hamburger'.\n",
      "There are 0 directories and 75 images in '10_food_classes_10_percent\\train\\ice_cream'.\n",
      "There are 0 directories and 75 images in '10_food_classes_10_percent\\train\\pizza'.\n",
      "There are 0 directories and 75 images in '10_food_classes_10_percent\\train\\ramen'.\n",
      "There are 0 directories and 75 images in '10_food_classes_10_percent\\train\\steak'.\n",
      "There are 0 directories and 75 images in '10_food_classes_10_percent\\train\\sushi'.\n"
     ]
    }
   ],
   "source": [
    "for dirpath, dirnames, filenames in os.walk('10_food_classes_10_percent'):\n",
    "    print(f\"There are {len(dirnames)} directories and {len(filenames)} images in '{dirpath}'.\")"
   ]
  },
  {
   "cell_type": "markdown",
   "id": "ca0926b3-2eb0-492f-8890-cb9e1df8c4bf",
   "metadata": {},
   "source": [
    "### Creating data loaders (preparing the data)"
   ]
  },
  {
   "cell_type": "code",
   "execution_count": 3,
   "id": "545339a7-dd1c-4ba2-8b51-fc29f2d0114a",
   "metadata": {},
   "outputs": [
    {
     "name": "stdout",
     "output_type": "stream",
     "text": [
      "Training images:\n",
      "Found 750 images belonging to 10 classes.\n",
      "Testing images:\n",
      "Found 2500 images belonging to 10 classes.\n"
     ]
    }
   ],
   "source": [
    "from tensorflow.keras.preprocessing.image import ImageDataGenerator\n",
    "\n",
    "IMAGE_SHAPE = (224,224)\n",
    "BATCH_SIZE = 32\n",
    "EPOCHS = 5\n",
    "\n",
    "train_dir = \"10_food_classes_10_percent/train\"\n",
    "test_dir =  \"10_food_classes_10_percent/test\"\n",
    "\n",
    "train_datagen = ImageDataGenerator(rescale=1/255.)\n",
    "test_datagen = ImageDataGenerator(rescale=1/255.)\n",
    "\n",
    "print(\"Training images:\")\n",
    "train_data_10_precent = train_datagen.flow_from_directory(train_dir,\n",
    "                                     target_size=IMAGE_SHAPE,\n",
    "                                     batch_size=BATCH_SIZE,\n",
    "                                     class_mode=\"categorical\")\n",
    "\n",
    "print(\"Testing images:\")\n",
    "test_data = train_datagen.flow_from_directory(test_dir,\n",
    "                                     target_size=IMAGE_SHAPE,\n",
    "                                     batch_size=BATCH_SIZE,\n",
    "                                     class_mode=\"categorical\")\n"
   ]
  },
  {
   "cell_type": "markdown",
   "id": "9599e47d-ade9-4f25-8235-6c35ed018cde",
   "metadata": {},
   "source": [
    "### Setting up callbacks (things to runwhile our model trains)\n",
    "\n",
    "Callbacks are extra functionality you can add to your models to perform during or after training. Some of the most popular callbacks:\n",
    "\n",
    "* Tracking experiments with the TensorBoard callback\n",
    "* Model checkpoint with the Model Checkpoint callback\n",
    "* Stopping a model from training to prevent overfitting with the EarlyStopping callback"
   ]
  },
  {
   "cell_type": "code",
   "execution_count": 4,
   "id": "bd25e79e-ca47-47e3-974f-077f483949d7",
   "metadata": {},
   "outputs": [],
   "source": [
    "# Create TensorBoard callback (functionized because we need to create a new one for each model)\n",
    "import datetime\n",
    "\n",
    "def create_tensorboard_callback(dir_name, experiment_name):\n",
    "    log_dir = os.path.join(dir_name, experiment_name, datetime.datetime.now().strftime(\"%Y%m%d-%H%M%S\"))\n",
    "    tensorborad_callbck = tf.keras.callbacks.TensorBoard(log_dir = log_dir)\n",
    "    print(f\"Saving TensorBoard log files to : {log_dir} \")\n",
    "    return tensorboard_callback"
   ]
  },
  {
   "cell_type": "markdown",
   "id": "0fd33f0f-cc47-4887-8f05-b10a33fb13b7",
   "metadata": {},
   "source": [
    "### Creating models using TensorFlow Hub\n",
    "\n",
    "trained models can be found here https://tfhub.dev/\n",
    "\n",
    "Let's compare the following tow models:\n",
    "1. https://tfhub.dev/tensorflow/efficientnet/b0/feature-vector/1\n",
    "2. https://tfhub.dev/google/imagenet/resnet_v2_50/feature_vector/5"
   ]
  },
  {
   "cell_type": "code",
   "execution_count": null,
   "id": "2e4a638d-b134-4804-9a0e-1351c8910265",
   "metadata": {},
   "outputs": [],
   "source": []
  },
  {
   "cell_type": "code",
   "execution_count": null,
   "id": "723d94db-8b2b-449b-8910-738f57954e94",
   "metadata": {},
   "outputs": [],
   "source": []
  },
  {
   "cell_type": "code",
   "execution_count": null,
   "id": "69768dc0-5900-4d03-8d05-51c5d30a6011",
   "metadata": {},
   "outputs": [],
   "source": []
  },
  {
   "cell_type": "code",
   "execution_count": null,
   "id": "98e46cc8-c136-467e-aa1b-3df96529acf6",
   "metadata": {},
   "outputs": [],
   "source": []
  },
  {
   "cell_type": "code",
   "execution_count": null,
   "id": "3152987f-976e-49bc-8918-f5cb09a60292",
   "metadata": {},
   "outputs": [],
   "source": []
  },
  {
   "cell_type": "code",
   "execution_count": null,
   "id": "7a723294-b966-4df9-9b16-f5b22f61b966",
   "metadata": {},
   "outputs": [],
   "source": []
  }
 ],
 "metadata": {
  "kernelspec": {
   "display_name": "Python 3 (ipykernel)",
   "language": "python",
   "name": "python3"
  },
  "language_info": {
   "codemirror_mode": {
    "name": "ipython",
    "version": 3
   },
   "file_extension": ".py",
   "mimetype": "text/x-python",
   "name": "python",
   "nbconvert_exporter": "python",
   "pygments_lexer": "ipython3",
   "version": "3.8.12"
  }
 },
 "nbformat": 4,
 "nbformat_minor": 5
}
