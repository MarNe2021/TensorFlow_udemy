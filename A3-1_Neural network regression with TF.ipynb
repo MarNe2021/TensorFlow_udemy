{
 "cells": [
  {
   "cell_type": "markdown",
   "id": "04dc0d1b-dff7-4dad-a1e3-0af717ebd8a1",
   "metadata": {},
   "source": [
    "# Introduction to regression problems with neural networks"
   ]
  },
  {
   "cell_type": "code",
   "execution_count": null,
   "id": "82abd2fd-becd-40a1-b3ae-0df5031d244e",
   "metadata": {},
   "outputs": [],
   "source": [
    "\n"
   ]
  },
  {
   "cell_type": "code",
   "execution_count": 1,
   "id": "971517c7-75f3-473c-a9a5-bb4eded85343",
   "metadata": {},
   "outputs": [
    {
     "name": "stdout",
     "output_type": "stream",
     "text": [
      "2.3.0\n"
     ]
    }
   ],
   "source": [
    "import tensorflow as tf\n",
    "print(tf.__version__)"
   ]
  },
  {
   "cell_type": "markdown",
   "id": "f9ae3e7e-8fdb-48bf-91d0-f32e40a258a5",
   "metadata": {},
   "source": [
    "### Creating some data"
   ]
  },
  {
   "cell_type": "code",
   "execution_count": 2,
   "id": "2e4d2b4d-bb5f-4031-980f-b2818e62d2a4",
   "metadata": {},
   "outputs": [],
   "source": [
    "import numpy as np\n",
    "import matplotlib.pyplot as plt"
   ]
  },
  {
   "cell_type": "code",
   "execution_count": 3,
   "id": "54ff7aab-ca99-47f3-a826-c3b7b3da2dbc",
   "metadata": {},
   "outputs": [],
   "source": [
    "# X are features\n",
    "X = np.array([-7.,-4.,-1.,2.,5.,8.,11.,14.])\n",
    "# y is the label\n",
    "y= np.array([3.,6.,9.,12.,15.,18.,21., 24.])"
   ]
  },
  {
   "cell_type": "code",
   "execution_count": 4,
   "id": "765a7d98-bad2-426b-923c-11f99d564056",
   "metadata": {},
   "outputs": [
    {
     "data": {
      "text/plain": [
       "<matplotlib.collections.PathCollection at 0x29d22f24c10>"
      ]
     },
     "execution_count": 4,
     "metadata": {},
     "output_type": "execute_result"
    },
    {
     "data": {
      "image/png": "[encoded data removed]",
      "text/plain": [
       "<Figure size 432x288 with 1 Axes>"
      ]
     },
     "metadata": {
      "needs_background": "light"
     },
     "output_type": "display_data"
    }
   ],
   "source": [
    "plt.scatter(X,y)"
   ]
  },
  {
   "cell_type": "code",
   "execution_count": 5,
   "id": "e3f56e85-61a0-415f-9a0b-3f63ed9421c6",
   "metadata": {},
   "outputs": [
    {
     "data": {
      "text/plain": [
       "8"
      ]
     },
     "execution_count": 5,
     "metadata": {},
     "output_type": "execute_result"
    }
   ],
   "source": [
    "(y == X +10).sum()"
   ]
  },
  {
   "cell_type": "code",
   "execution_count": 6,
   "id": "abfa0094-f2fb-4c7c-b28a-9524734d3c9a",
   "metadata": {},
   "outputs": [
    {
     "data": {
      "text/plain": [
       "(<tf.Tensor: shape=(3,), dtype=string, numpy=array([b'bedroom', b'bathroom', b'garage'], dtype=object)>,\n",
       " <tf.Tensor: shape=(1,), dtype=int32, numpy=array([939700])>)"
      ]
     },
     "execution_count": 6,
     "metadata": {},
     "output_type": "execute_result"
    }
   ],
   "source": [
    "# Create a demotensor for our housing price prediction problem\n",
    "house_info = tf.constant(['bedroom', 'bathroom', 'garage'])\n",
    "house_price = tf.constant([939700])\n",
    "house_info, house_price"
   ]
  },
  {
   "cell_type": "code",
   "execution_count": 7,
   "id": "43f3fe5c-63ca-4d8b-a716-2ee4fc69ddeb",
   "metadata": {},
   "outputs": [
    {
     "data": {
      "text/plain": [
       "((), ())"
      ]
     },
     "execution_count": 7,
     "metadata": {},
     "output_type": "execute_result"
    }
   ],
   "source": [
    "input_shape = X[0].shape\n",
    "output_shape = y[0].shape\n",
    "input_shape, output_shape"
   ]
  },
  {
   "cell_type": "code",
   "execution_count": 8,
   "id": "9bab00bb-c8b8-4acd-b5d8-722429c796cf",
   "metadata": {},
   "outputs": [
    {
     "data": {
      "text/plain": [
       "0"
      ]
     },
     "execution_count": 8,
     "metadata": {},
     "output_type": "execute_result"
    }
   ],
   "source": [
    "X[0].ndim"
   ]
  },
  {
   "cell_type": "code",
   "execution_count": 9,
   "id": "c030c553-cb16-4432-bd60-57f033d17f9e",
   "metadata": {},
   "outputs": [
    {
     "data": {
      "text/plain": [
       "(-7.0, 3.0)"
      ]
     },
     "execution_count": 9,
     "metadata": {},
     "output_type": "execute_result"
    }
   ],
   "source": [
    "X[0], y[0]"
   ]
  },
  {
   "cell_type": "code",
   "execution_count": 10,
   "id": "ab7b6196-1bac-4f40-a769-743f1569cb1d",
   "metadata": {},
   "outputs": [],
   "source": [
    "# Turn NumPy array into tensors\n",
    "X = tf.cast(tf.constant(X), dtype=tf.float32)\n",
    "y= tf.cast(tf.constant(y), dtype = tf.float32)\n",
    "pred_X = tf.constant([17])"
   ]
  },
  {
   "cell_type": "code",
   "execution_count": 11,
   "id": "4e4ffea8-cdd5-4930-8e6b-3347554c7910",
   "metadata": {},
   "outputs": [
    {
     "data": {
      "text/plain": [
       "(<tf.Tensor: shape=(8,), dtype=float32, numpy=array([-7., -4., -1.,  2.,  5.,  8., 11., 14.], dtype=float32)>,\n",
       " <tf.Tensor: shape=(8,), dtype=float32, numpy=array([ 3.,  6.,  9., 12., 15., 18., 21., 24.], dtype=float32)>,\n",
       " <tf.Tensor: shape=(1,), dtype=int32, numpy=array([17])>)"
      ]
     },
     "execution_count": 11,
     "metadata": {},
     "output_type": "execute_result"
    }
   ],
   "source": [
    "X,y, pred_X"
   ]
  },
  {
   "cell_type": "code",
   "execution_count": 12,
   "id": "4932863b-b8b7-4027-966b-99e6314b5207",
   "metadata": {},
   "outputs": [
    {
     "data": {
      "text/plain": [
       "(TensorShape([]), TensorShape([]))"
      ]
     },
     "execution_count": 12,
     "metadata": {},
     "output_type": "execute_result"
    }
   ],
   "source": [
    "input_shape = X[0].shape\n",
    "output_shape = y[0].shape\n",
    "input_shape, output_shape"
   ]
  },
  {
   "cell_type": "markdown",
   "id": "57805e86-78b7-48b8-8803-3497499cc002",
   "metadata": {},
   "source": [
    "### Steps in modelling with TensorFlow\n",
    "1. **Creating a model** (define input, hidden and output layers)\n",
    "2. **Compiling a model** (define a loss function and an optimizer to reduce the loss)\n",
    "3. **Fitting a model** ( let the model try to find a pattern between features and labels)"
   ]
  },
  {
   "cell_type": "code",
   "execution_count": 13,
   "id": "4886a536-b011-4498-a12a-281699ca50af",
   "metadata": {},
   "outputs": [],
   "source": [
    "tf.random.set_seed(42)\n"
   ]
  },
  {
   "cell_type": "code",
   "execution_count": 14,
   "id": "4892907f-f9a8-40df-a389-ed9727170066",
   "metadata": {},
   "outputs": [
    {
     "name": "stdout",
     "output_type": "stream",
     "text": [
      "Epoch 1/5\n",
      "1/1 [==============================] - 0s 1ms/step - loss: 11.5048 - mae: 11.5048\n",
      "Epoch 2/5\n",
      "1/1 [==============================] - 0s 1000us/step - loss: 11.3723 - mae: 11.3723\n",
      "Epoch 3/5\n",
      "1/1 [==============================] - 0s 0s/step - loss: 11.2398 - mae: 11.2398\n",
      "Epoch 4/5\n",
      "1/1 [==============================] - 0s 999us/step - loss: 11.1073 - mae: 11.1073\n",
      "Epoch 5/5\n",
      "1/1 [==============================] - 0s 1ms/step - loss: 10.9748 - mae: 10.9748\n"
     ]
    },
    {
     "data": {
      "text/plain": [
       "<tensorflow.python.keras.callbacks.History at 0x29d2329cbe0>"
      ]
     },
     "execution_count": 14,
     "metadata": {},
     "output_type": "execute_result"
    }
   ],
   "source": [
    "# 1. Create a model\n",
    "model = tf.keras.Sequential([\n",
    "    tf.keras.layers.Dense(1)\n",
    "])\n",
    "\n",
    "# 2. Compile\n",
    "model.compile(optimizer=\"SGD\", loss=\"mae\", metrics=[\"mae\"])\n",
    "\n",
    "# 3. Fit\n",
    "\n",
    "model.fit(X,y, epochs = 5)\n",
    "\n"
   ]
  },
  {
   "cell_type": "code",
   "execution_count": 15,
   "id": "ef9aa9e8-b759-4c43-9ff3-2b864e8c8870",
   "metadata": {},
   "outputs": [
    {
     "data": {
      "text/plain": [
       "<matplotlib.collections.PathCollection at 0x29d247f1fa0>"
      ]
     },
     "execution_count": 15,
     "metadata": {},
     "output_type": "execute_result"
    },
    {
     "data": {
      "image/png": "[encoded data removed]",
      "text/plain": [
       "<Figure size 432x288 with 1 Axes>"
      ]
     },
     "metadata": {
      "needs_background": "light"
     },
     "output_type": "display_data"
    }
   ],
   "source": [
    "y_pred = model.predict(X)\n",
    "\n",
    "plt.scatter(X,y_pred)\n",
    "plt.scatter(X,y, marker='*')"
   ]
  },
  {
   "cell_type": "code",
   "execution_count": 16,
   "id": "91bca8ca-23e4-4234-9b26-b24098bba906",
   "metadata": {},
   "outputs": [
    {
     "data": {
      "text/plain": [
       "(<tf.Tensor: shape=(8,), dtype=float32, numpy=array([-7., -4., -1.,  2.,  5.,  8., 11., 14.], dtype=float32)>,\n",
       " <tf.Tensor: shape=(8,), dtype=float32, numpy=array([ 3.,  6.,  9., 12., 15., 18., 21., 24.], dtype=float32)>)"
      ]
     },
     "execution_count": 16,
     "metadata": {},
     "output_type": "execute_result"
    }
   ],
   "source": [
    "# Check out X and y\n",
    "X, y"
   ]
  },
  {
   "cell_type": "code",
   "execution_count": 17,
   "id": "50f7c1f1-1f7a-4e47-978b-7b4a9160bca1",
   "metadata": {},
   "outputs": [],
   "source": [
    "y_pred = model.predict(pred_X)"
   ]
  },
  {
   "cell_type": "code",
   "execution_count": 18,
   "id": "41322797-bbd8-465b-a2ef-adf2698dbca7",
   "metadata": {},
   "outputs": [
    {
     "data": {
      "text/plain": [
       "array([[12.716021]], dtype=float32)"
      ]
     },
     "execution_count": 18,
     "metadata": {},
     "output_type": "execute_result"
    }
   ],
   "source": [
    "y_pred"
   ]
  },
  {
   "cell_type": "markdown",
   "id": "1fe9dcfe-aa9c-41ac-90c5-4be8b5ed774d",
   "metadata": {},
   "source": [
    "# Improving our model\n",
    "* creating a model -> add more layers, increase the number of neurons, change the activation function\n",
    "* compiling a model -> change optimization function, learning rate\n",
    "* fitting a model -> more epochs, more data"
   ]
  },
  {
   "cell_type": "markdown",
   "id": "b24efede-9885-4872-ad61-11511081be28",
   "metadata": {},
   "source": [
    "1) more epochs"
   ]
  },
  {
   "cell_type": "code",
   "execution_count": 19,
   "id": "a026872d-6384-43d1-8c0e-101e3e03cea7",
   "metadata": {},
   "outputs": [
    {
     "data": {
      "text/plain": [
       "<tensorflow.python.keras.callbacks.History at 0x29d248d9a00>"
      ]
     },
     "execution_count": 19,
     "metadata": {},
     "output_type": "execute_result"
    }
   ],
   "source": [
    "# 1. Create a model\n",
    "model = tf.keras.Sequential([\n",
    "    tf.keras.layers.Dense(1)\n",
    "])\n",
    "\n",
    "# 2. Compile\n",
    "model.compile(optimizer=\"SGD\", loss=\"mae\", metrics=[\"mae\"])\n",
    "\n",
    "# 3. Fit\n",
    "\n",
    "model.fit(X,y, epochs = 100, verbose=0)"
   ]
  },
  {
   "cell_type": "code",
   "execution_count": 20,
   "id": "646db434-41ae-4cd9-be99-5472c5fe5b43",
   "metadata": {},
   "outputs": [
    {
     "data": {
      "text/plain": [
       "array([[29.739855]], dtype=float32)"
      ]
     },
     "execution_count": 20,
     "metadata": {},
     "output_type": "execute_result"
    }
   ],
   "source": [
    "pred_value = model.predict(pred_X)\n",
    "pred_value"
   ]
  },
  {
   "cell_type": "code",
   "execution_count": 21,
   "id": "3fca52c9-cd70-4467-a223-70aff6b0d7e7",
   "metadata": {},
   "outputs": [
    {
     "data": {
      "text/plain": [
       "<matplotlib.collections.PathCollection at 0x29d23282730>"
      ]
     },
     "execution_count": 21,
     "metadata": {},
     "output_type": "execute_result"
    },
    {
     "data": {
      "image/png": "[encoded data removed]",
      "text/plain": [
       "<Figure size 432x288 with 1 Axes>"
      ]
     },
     "metadata": {
      "needs_background": "light"
     },
     "output_type": "display_data"
    }
   ],
   "source": [
    "y_pred = model.predict(X)\n",
    "\n",
    "plt.scatter(X,y_pred)\n",
    "plt.scatter(X,y, marker = '*')\n",
    "plt.scatter(pred_X, pred_value, marker = '+')"
   ]
  },
  {
   "cell_type": "code",
   "execution_count": null,
   "id": "8445b720-b35d-45e2-bf01-7ec5f9f5d59c",
   "metadata": {},
   "outputs": [],
   "source": []
  },
  {
   "cell_type": "markdown",
   "id": "69bc9115-7f94-4e25-b573-c151abcfff7c",
   "metadata": {},
   "source": [
    "2. add an additional layer with 5 neurons"
   ]
  },
  {
   "cell_type": "code",
   "execution_count": 22,
   "id": "b8c17364-ba82-4a13-97ab-96697232655e",
   "metadata": {},
   "outputs": [
    {
     "data": {
      "text/plain": [
       "<tensorflow.python.keras.callbacks.History at 0x29d24aefdf0>"
      ]
     },
     "execution_count": 22,
     "metadata": {},
     "output_type": "execute_result"
    }
   ],
   "source": [
    "model = tf.keras.Sequential([\n",
    "    tf.keras.layers.Dense(5, activation='relu'),\n",
    "    tf.keras.layers.Dense(1)\n",
    "])\n",
    "\n",
    "# 2. Compile\n",
    "model.compile(optimizer=\"SGD\", loss=\"mae\", metrics=[\"mae\"])\n",
    "\n",
    "# 3. Fit\n",
    "\n",
    "model.fit(X,y, epochs = 100, verbose=0)"
   ]
  },
  {
   "cell_type": "code",
   "execution_count": 23,
   "id": "775852d7-84b9-4491-8e76-937caf08c8cc",
   "metadata": {},
   "outputs": [
    {
     "name": "stdout",
     "output_type": "stream",
     "text": [
      "WARNING:tensorflow:5 out of the last 5 calls to <function Model.make_predict_function.<locals>.predict_function at 0x0000029D24CC5430> triggered tf.function retracing. Tracing is expensive and the excessive number of tracings could be due to (1) creating @tf.function repeatedly in a loop, (2) passing tensors with different shapes, (3) passing Python objects instead of tensors. For (1), please define your @tf.function outside of the loop. For (2), @tf.function has experimental_relax_shapes=True option that relaxes argument shapes that can avoid unnecessary retracing. For (3), please refer to https://www.tensorflow.org/tutorials/customization/performance#python_or_tensor_args and https://www.tensorflow.org/api_docs/python/tf/function for  more details.\n"
     ]
    },
    {
     "data": {
      "text/plain": [
       "array([[32.40436]], dtype=float32)"
      ]
     },
     "execution_count": 23,
     "metadata": {},
     "output_type": "execute_result"
    }
   ],
   "source": [
    "pred_value = model.predict(pred_X)\n",
    "pred_value"
   ]
  },
  {
   "cell_type": "code",
   "execution_count": 24,
   "id": "718f1c0f-efe4-42d0-9efa-c922808dfc3d",
   "metadata": {},
   "outputs": [
    {
     "name": "stdout",
     "output_type": "stream",
     "text": [
      "WARNING:tensorflow:6 out of the last 6 calls to <function Model.make_predict_function.<locals>.predict_function at 0x0000029D24CC5430> triggered tf.function retracing. Tracing is expensive and the excessive number of tracings could be due to (1) creating @tf.function repeatedly in a loop, (2) passing tensors with different shapes, (3) passing Python objects instead of tensors. For (1), please define your @tf.function outside of the loop. For (2), @tf.function has experimental_relax_shapes=True option that relaxes argument shapes that can avoid unnecessary retracing. For (3), please refer to https://www.tensorflow.org/tutorials/customization/performance#python_or_tensor_args and https://www.tensorflow.org/api_docs/python/tf/function for  more details.\n"
     ]
    },
    {
     "data": {
      "text/plain": [
       "<matplotlib.collections.PathCollection at 0x29d24d85be0>"
      ]
     },
     "execution_count": 24,
     "metadata": {},
     "output_type": "execute_result"
    },
    {
     "data": {
      "image/png": "[encoded data removed]",
      "text/plain": [
       "<Figure size 432x288 with 1 Axes>"
      ]
     },
     "metadata": {
      "needs_background": "light"
     },
     "output_type": "display_data"
    }
   ],
   "source": [
    "y_pred = model.predict(X)\n",
    "\n",
    "plt.scatter(X,y_pred)\n",
    "plt.scatter(X,y, marker = '*')\n",
    "plt.scatter(pred_X, pred_value, marker = '+')"
   ]
  },
  {
   "cell_type": "markdown",
   "id": "b29e9c40-cf9a-409c-b45e-0c6ebaefeaaa",
   "metadata": {},
   "source": [
    "3. another layer with and increase the neurons in both layers to 5"
   ]
  },
  {
   "cell_type": "code",
   "execution_count": 25,
   "id": "6a50e024-78f2-4b2e-ad6d-32e911915e2e",
   "metadata": {},
   "outputs": [
    {
     "name": "stdout",
     "output_type": "stream",
     "text": [
      "WARNING:tensorflow:7 out of the last 7 calls to <function Model.make_predict_function.<locals>.predict_function at 0x0000029D24F35700> triggered tf.function retracing. Tracing is expensive and the excessive number of tracings could be due to (1) creating @tf.function repeatedly in a loop, (2) passing tensors with different shapes, (3) passing Python objects instead of tensors. For (1), please define your @tf.function outside of the loop. For (2), @tf.function has experimental_relax_shapes=True option that relaxes argument shapes that can avoid unnecessary retracing. For (3), please refer to https://www.tensorflow.org/tutorials/customization/performance#python_or_tensor_args and https://www.tensorflow.org/api_docs/python/tf/function for  more details.\n",
      "WARNING:tensorflow:8 out of the last 8 calls to <function Model.make_predict_function.<locals>.predict_function at 0x0000029D24F35700> triggered tf.function retracing. Tracing is expensive and the excessive number of tracings could be due to (1) creating @tf.function repeatedly in a loop, (2) passing tensors with different shapes, (3) passing Python objects instead of tensors. For (1), please define your @tf.function outside of the loop. For (2), @tf.function has experimental_relax_shapes=True option that relaxes argument shapes that can avoid unnecessary retracing. For (3), please refer to https://www.tensorflow.org/tutorials/customization/performance#python_or_tensor_args and https://www.tensorflow.org/api_docs/python/tf/function for  more details.\n"
     ]
    },
    {
     "data": {
      "text/plain": [
       "<matplotlib.collections.PathCollection at 0x29d260c5e20>"
      ]
     },
     "execution_count": 25,
     "metadata": {},
     "output_type": "execute_result"
    },
    {
     "data": {
      "image/png": "[encoded data removed]",
      "text/plain": [
       "<Figure size 432x288 with 1 Axes>"
      ]
     },
     "metadata": {
      "needs_background": "light"
     },
     "output_type": "display_data"
    }
   ],
   "source": [
    "model = tf.keras.Sequential([\n",
    "    tf.keras.layers.Dense(5, activation='relu'),\n",
    "    tf.keras.layers.Dense(5, activation='relu'),\n",
    "    tf.keras.layers.Dense(1)\n",
    "])\n",
    "\n",
    "# 2. Compile\n",
    "model.compile(optimizer=\"SGD\", loss=\"mae\", metrics=[\"mae\"])\n",
    "\n",
    "# 3. Fit\n",
    "\n",
    "model.fit(X,y, epochs = 100, verbose=0)\n",
    "\n",
    "pred_value = model.predict(pred_X)\n",
    "pred_value\n",
    "\n",
    "y_pred = model.predict(X)\n",
    "\n",
    "plt.scatter(X,y_pred)\n",
    "plt.scatter(X,y, marker = '*')\n",
    "plt.scatter(pred_X, pred_value, marker = '+')"
   ]
  },
  {
   "cell_type": "markdown",
   "id": "f561af57-0429-43be-abdc-fa47f1d1c290",
   "metadata": {},
   "source": [
    "3. increase the amount of data"
   ]
  },
  {
   "cell_type": "code",
   "execution_count": 26,
   "id": "99bb1bfd-2460-44c4-8972-f85ec2231756",
   "metadata": {},
   "outputs": [],
   "source": [
    "X = np.arange(-10, 100, .5)\n",
    "y = X+10\n",
    "X = tf.cast(tf.constant(X), dtype=tf.float32)\n",
    "y= tf.cast(tf.constant(y), dtype = tf.float32)\n",
    "pred_X = tf.constant([17])"
   ]
  },
  {
   "cell_type": "code",
   "execution_count": 27,
   "id": "2a99c028-abec-4a47-a621-65e438fef86c",
   "metadata": {},
   "outputs": [
    {
     "name": "stdout",
     "output_type": "stream",
     "text": [
      "WARNING:tensorflow:9 out of the last 9 calls to <function Model.make_predict_function.<locals>.predict_function at 0x0000029D261A3790> triggered tf.function retracing. Tracing is expensive and the excessive number of tracings could be due to (1) creating @tf.function repeatedly in a loop, (2) passing tensors with different shapes, (3) passing Python objects instead of tensors. For (1), please define your @tf.function outside of the loop. For (2), @tf.function has experimental_relax_shapes=True option that relaxes argument shapes that can avoid unnecessary retracing. For (3), please refer to https://www.tensorflow.org/tutorials/customization/performance#python_or_tensor_args and https://www.tensorflow.org/api_docs/python/tf/function for  more details.\n",
      "WARNING:tensorflow:10 out of the last 10 calls to <function Model.make_predict_function.<locals>.predict_function at 0x0000029D261A3790> triggered tf.function retracing. Tracing is expensive and the excessive number of tracings could be due to (1) creating @tf.function repeatedly in a loop, (2) passing tensors with different shapes, (3) passing Python objects instead of tensors. For (1), please define your @tf.function outside of the loop. For (2), @tf.function has experimental_relax_shapes=True option that relaxes argument shapes that can avoid unnecessary retracing. For (3), please refer to https://www.tensorflow.org/tutorials/customization/performance#python_or_tensor_args and https://www.tensorflow.org/api_docs/python/tf/function for  more details.\n"
     ]
    },
    {
     "data": {
      "text/plain": [
       "<tf.Tensor: shape=(), dtype=float32, numpy=27.499973>"
      ]
     },
     "execution_count": 27,
     "metadata": {},
     "output_type": "execute_result"
    },
    {
     "data": {
      "image/png": "[encoded data removed]",
      "text/plain": [
       "<Figure size 432x288 with 1 Axes>"
      ]
     },
     "metadata": {
      "needs_background": "light"
     },
     "output_type": "display_data"
    }
   ],
   "source": [
    "model = tf.keras.Sequential([\n",
    "    tf.keras.layers.Dense(1)\n",
    "])\n",
    "\n",
    "# 2. Compile\n",
    "model.compile(optimizer=\"SGD\", loss=\"mae\", metrics=[\"mae\"])\n",
    "\n",
    "# 3. Fit\n",
    "\n",
    "model.fit(X,y, epochs = 100, verbose=0)\n",
    "\n",
    "pred_value = model.predict(pred_X)\n",
    "pred_value\n",
    "\n",
    "y_pred = model.predict(X)\n",
    "\n",
    "plt.scatter(X,y_pred, marker = '.')\n",
    "plt.scatter(X,y, marker = '*')\n",
    "plt.scatter(pred_X, pred_value, marker = '+')\n",
    "tf.reduce_min(tf.metrics.mae(y,y_pred))"
   ]
  },
  {
   "cell_type": "code",
   "execution_count": 28,
   "id": "a2051d44-2fea-4822-924a-1515cc5a4352",
   "metadata": {},
   "outputs": [
    {
     "name": "stdout",
     "output_type": "stream",
     "text": [
      "WARNING:tensorflow:5 out of the last 11 calls to <function Model.make_predict_function.<locals>.predict_function at 0x0000029D2663B0D0> triggered tf.function retracing. Tracing is expensive and the excessive number of tracings could be due to (1) creating @tf.function repeatedly in a loop, (2) passing tensors with different shapes, (3) passing Python objects instead of tensors. For (1), please define your @tf.function outside of the loop. For (2), @tf.function has experimental_relax_shapes=True option that relaxes argument shapes that can avoid unnecessary retracing. For (3), please refer to https://www.tensorflow.org/tutorials/customization/performance#python_or_tensor_args and https://www.tensorflow.org/api_docs/python/tf/function for  more details.\n",
      "WARNING:tensorflow:5 out of the last 11 calls to <function Model.make_predict_function.<locals>.predict_function at 0x0000029D2663B0D0> triggered tf.function retracing. Tracing is expensive and the excessive number of tracings could be due to (1) creating @tf.function repeatedly in a loop, (2) passing tensors with different shapes, (3) passing Python objects instead of tensors. For (1), please define your @tf.function outside of the loop. For (2), @tf.function has experimental_relax_shapes=True option that relaxes argument shapes that can avoid unnecessary retracing. For (3), please refer to https://www.tensorflow.org/tutorials/customization/performance#python_or_tensor_args and https://www.tensorflow.org/api_docs/python/tf/function for  more details.\n"
     ]
    },
    {
     "data": {
      "text/plain": [
       "<matplotlib.collections.PathCollection at 0x29d266d47c0>"
      ]
     },
     "execution_count": 28,
     "metadata": {},
     "output_type": "execute_result"
    },
    {
     "data": {
      "image/png": "[encoded data removed]",
      "text/plain": [
       "<Figure size 432x288 with 1 Axes>"
      ]
     },
     "metadata": {
      "needs_background": "light"
     },
     "output_type": "display_data"
    }
   ],
   "source": [
    "model = tf.keras.Sequential([\n",
    "    tf.keras.layers.Dense(100),\n",
    "    tf.keras.layers.Dense(1)\n",
    "])\n",
    "\n",
    "# 2. Compile\n",
    "model.compile(optimizer=\"SGD\", loss=\"mae\", metrics=[\"mae\"])\n",
    "\n",
    "# 3. Fit\n",
    "\n",
    "model.fit(X,y, epochs = 100, verbose=0)\n",
    "\n",
    "pred_value = model.predict(pred_X)\n",
    "pred_value\n",
    "\n",
    "y_pred = model.predict(X)\n",
    "\n",
    "plt.scatter(X,y_pred, marker = '.')\n",
    "plt.scatter(X,y, marker = '*')\n",
    "plt.scatter(pred_X, pred_value, marker = '+')"
   ]
  },
  {
   "cell_type": "code",
   "execution_count": 33,
   "id": "b7d8f57b-0412-4f92-b3c5-0e33ba948d9e",
   "metadata": {},
   "outputs": [
    {
     "name": "stdout",
     "output_type": "stream",
     "text": [
      "tf.Tensor(171, shape=(), dtype=int64)\n",
      "tf.Tensor(27.500044, shape=(), dtype=float32)\n"
     ]
    }
   ],
   "source": [
    "#print(tf.argmin(tf.metrics.mae(y,y_pred)))   #soemthings wrong here, numbers make no sense!!!\n",
    "#print(tf.reduce_min(tf.metrics.mae(y,y_pred)))"
   ]
  },
  {
   "cell_type": "code",
   "execution_count": 43,
   "id": "65fedb1c-698b-43ec-ad61-5505c282fe40",
   "metadata": {},
   "outputs": [
    {
     "name": "stdout",
     "output_type": "stream",
     "text": [
      "WARNING:tensorflow:5 out of the last 17 calls to <function Model.make_predict_function.<locals>.predict_function at 0x0000029D28CB61F0> triggered tf.function retracing. Tracing is expensive and the excessive number of tracings could be due to (1) creating @tf.function repeatedly in a loop, (2) passing tensors with different shapes, (3) passing Python objects instead of tensors. For (1), please define your @tf.function outside of the loop. For (2), @tf.function has experimental_relax_shapes=True option that relaxes argument shapes that can avoid unnecessary retracing. For (3), please refer to https://www.tensorflow.org/tutorials/customization/performance#python_or_tensor_args and https://www.tensorflow.org/api_docs/python/tf/function for  more details.\n",
      "[[26.980034]]\n"
     ]
    },
    {
     "data": {
      "image/png": "[encoded data removed]",
      "text/plain": [
       "<Figure size 432x288 with 1 Axes>"
      ]
     },
     "metadata": {
      "needs_background": "light"
     },
     "output_type": "display_data"
    }
   ],
   "source": [
    "model = tf.keras.Sequential([\n",
    "    tf.keras.layers.Dense(5),\n",
    "    tf.keras.layers.Dense(1)\n",
    "])\n",
    "\n",
    "# 2. Compile\n",
    "model.compile(optimizer=tf.keras.optimizers.Adam(lr = 0.04), loss=\"mae\", metrics=[\"mae\"])\n",
    "\n",
    "# 3. Fit\n",
    "\n",
    "model.fit(X,y, epochs = 100, verbose=0)\n",
    "\n",
    "pred_value = model.predict(pred_X)\n",
    "pred_value\n",
    "\n",
    "y_pred = model.predict(X)\n",
    "\n",
    "plt.scatter(X,y_pred, marker = '.')\n",
    "plt.scatter(X,y)\n",
    "plt.scatter(pred_X, pred_value, marker = '+')\n",
    "print(pred_value)\n",
    "#print(tf.argmin(tf.metrics.mae(y,y_pred)).numpy())\n",
    "#print(tf.reduce_min(tf.metrics.mae(y,y_pred)).numpy())"
   ]
  }
 ],
 "metadata": {
  "kernelspec": {
   "display_name": "Python 3 (ipykernel)",
   "language": "python",
   "name": "python3"
  },
  "language_info": {
   "codemirror_mode": {
    "name": "ipython",
    "version": 3
   },
   "file_extension": ".py",
   "mimetype": "text/x-python",
   "name": "python",
   "nbconvert_exporter": "python",
   "pygments_lexer": "ipython3",
   "version": "3.8.12"
  }
 },
 "nbformat": 4,
 "nbformat_minor": 5
}
