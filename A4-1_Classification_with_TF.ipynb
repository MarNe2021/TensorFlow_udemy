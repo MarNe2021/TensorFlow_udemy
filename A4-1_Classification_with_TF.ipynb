{
 "cells": [
  {
   "cell_type": "code",
   "execution_count": null,
   "id": "2415e8af-08bf-47fc-9afa-41d3dc531e5e",
   "metadata": {},
   "outputs": [],
   "source": []
  },
  {
   "cell_type": "markdown",
   "id": "56709447-17d4-4087-bb12-03477a1c31f4",
   "metadata": {},
   "source": [
    "# Introduction to neural network classification with TensorFlow\n",
    "\n",
    "* binary classificatio\n",
    "* multitype classification\n",
    "* multilabel classification"
   ]
  },
  {
   "cell_type": "markdown",
   "id": "2148a445-90a0-43aa-a75f-fa84d5ed373e",
   "metadata": {},
   "source": [
    "### Creating Data"
   ]
  },
  {
   "cell_type": "code",
   "execution_count": 1,
   "id": "d578ea70-4b8b-4b35-8ec2-8a05e0e77924",
   "metadata": {},
   "outputs": [],
   "source": [
    "from sklearn.datasets import make_circles\n",
    "import matplotlib.pyplot as plt\n",
    "import numpy as np\n",
    "import pandas as pd\n",
    "import tensorflow as tf"
   ]
  },
  {
   "cell_type": "code",
   "execution_count": 2,
   "id": "c9cebbf5-1bff-4cd1-ab3b-5b061f4524df",
   "metadata": {},
   "outputs": [],
   "source": [
    "# 1000 circles\n",
    "\n",
    "n_samples = 1000\n",
    "\n",
    "# https://scikit-learn.org/stable/modules/generated/sklearn.datasets.make_circles.html\n",
    "\n",
    "X,y = make_circles(n_samples,\n",
    "                    noise=0.03,\n",
    "                    random_state=42)"
   ]
  },
  {
   "cell_type": "code",
   "execution_count": 3,
   "id": "3037bedb-2e3d-40d5-8fef-0a2ea81da6f9",
   "metadata": {},
   "outputs": [
    {
     "data": {
      "text/plain": [
       "array([[ 0.75424625,  0.23148074],\n",
       "       [-0.75615888,  0.15325888],\n",
       "       [-0.81539193,  0.17328203],\n",
       "       ...,\n",
       "       [-0.13690036, -0.81001183],\n",
       "       [ 0.67036156, -0.76750154],\n",
       "       [ 0.28105665,  0.96382443]])"
      ]
     },
     "execution_count": 3,
     "metadata": {},
     "output_type": "execute_result"
    }
   ],
   "source": [
    "# check out the features\n",
    "X"
   ]
  },
  {
   "cell_type": "code",
   "execution_count": 4,
   "id": "0e44c1ca-370c-46b4-8e6b-08487f2c972e",
   "metadata": {},
   "outputs": [
    {
     "data": {
      "text/plain": [
       "array([1, 1, 1, 1, 0, 1, 1, 1, 1, 0, 1, 0, 1, 1, 1, 1, 0, 1, 1, 0, 1, 0,\n",
       "       0, 1, 0, 0, 0, 1, 1, 1, 0, 0, 1, 0, 0, 0, 1, 1, 1, 0, 0, 0, 0, 1,\n",
       "       0, 0, 1, 1, 0, 1, 1, 1, 0, 1, 0, 0, 1, 0, 0, 1, 0, 0, 1, 0, 1, 1,\n",
       "       1, 1, 0, 1, 0, 0, 1, 1, 0, 0, 1, 0, 1, 0, 1, 0, 0, 0, 0, 1, 1, 1,\n",
       "       1, 0, 0, 0, 1, 0, 1, 0, 1, 0, 0, 1, 1, 0, 1, 0, 1, 1, 1, 1, 0, 1,\n",
       "       1, 1, 1, 1, 0, 0, 0, 1, 1, 0, 1, 0, 1, 0, 0, 1, 1, 0, 1, 1, 1, 1,\n",
       "       0, 1, 1, 0, 0, 0, 0, 0, 0, 0, 1, 0, 1, 1, 1, 0, 1, 0, 1, 0, 1, 0,\n",
       "       1, 0, 0, 1, 0, 1, 1, 1, 1, 1, 1, 1, 0, 1, 0, 0, 0, 0, 0, 1, 0, 0,\n",
       "       0, 0, 1, 1, 0, 1, 0, 1, 1, 0, 0, 0, 1, 1, 1, 1, 1, 0, 0, 0, 0, 0,\n",
       "       1, 0, 0, 1, 1, 1, 1, 1, 0, 1, 0, 1, 0, 0, 1, 1, 1, 0, 1, 0, 1, 1,\n",
       "       0, 1, 1, 0, 1, 0, 1, 0, 1, 1, 0, 1, 0, 1, 0, 0, 0, 1, 0, 0, 0, 0,\n",
       "       1, 1, 0, 0, 0, 0, 0, 0, 0, 1, 1, 1, 0, 0, 1, 1, 1, 0, 1, 0, 0, 0,\n",
       "       0, 1, 1, 0, 1, 0, 0, 0, 1, 0, 1, 0, 0, 1, 0, 1, 1, 1, 0, 0, 0, 1,\n",
       "       0, 0, 0, 1, 1, 1, 1, 0, 0, 0, 1, 0, 0, 0, 1, 0, 0, 0, 1, 1, 0, 1,\n",
       "       1, 1, 1, 1, 1, 1, 0, 0, 0, 0, 1, 0, 0, 0, 0, 1, 1, 1, 0, 0, 1, 0,\n",
       "       1, 0, 1, 1, 0, 0, 1, 1, 1, 1, 0, 0, 0, 0, 0, 0, 1, 1, 0, 1, 0, 0,\n",
       "       1, 0, 0, 0, 0, 0, 0, 0, 0, 1, 0, 0, 0, 0, 1, 0, 0, 1, 0, 1, 0, 0,\n",
       "       0, 1, 0, 0, 1, 1, 0, 0, 1, 0, 0, 1, 1, 0, 1, 1, 0, 0, 1, 0, 1, 0,\n",
       "       0, 0, 1, 1, 0, 0, 1, 1, 1, 1, 1, 0, 0, 1, 1, 1, 1, 0, 1, 1, 1, 1,\n",
       "       1, 0, 0, 1, 0, 1, 0, 0, 0, 0, 1, 0, 0, 0, 0, 0, 0, 0, 0, 0, 1, 1,\n",
       "       0, 1, 1, 1, 1, 1, 1, 0, 1, 1, 1, 1, 0, 0, 0, 1, 1, 1, 0, 0, 0, 0,\n",
       "       1, 1, 0, 0, 0, 0, 1, 0, 0, 0, 1, 0, 0, 1, 1, 1, 1, 1, 1, 0, 0, 0,\n",
       "       1, 0, 0, 0, 0, 0, 1, 1, 1, 0, 0, 0, 0, 0, 1, 1, 1, 0, 0, 1, 1, 1,\n",
       "       1, 0, 1, 1, 0, 1, 0, 0, 0, 1, 0, 0, 1, 0, 0, 1, 1, 0, 0, 1, 1, 0,\n",
       "       1, 0, 1, 0, 1, 0, 1, 0, 0, 0, 1, 0, 0, 0, 0, 0, 0, 1, 1, 1, 1, 0,\n",
       "       0, 0, 1, 0, 1, 1, 0, 0, 0, 0, 0, 1, 1, 1, 0, 0, 1, 0, 0, 1, 0, 0,\n",
       "       1, 0, 0, 1, 0, 0, 0, 1, 0, 0, 1, 1, 1, 0, 1, 1, 0, 0, 0, 1, 1, 1,\n",
       "       1, 0, 0, 1, 1, 1, 0, 0, 0, 0, 1, 1, 0, 0, 1, 1, 0, 0, 1, 1, 1, 1,\n",
       "       1, 1, 1, 0, 1, 0, 1, 0, 0, 1, 0, 1, 1, 1, 1, 0, 0, 1, 1, 0, 0, 1,\n",
       "       0, 1, 0, 0, 0, 1, 0, 0, 1, 1, 1, 1, 0, 1, 1, 1, 1, 1, 1, 1, 0, 1,\n",
       "       0, 1, 1, 1, 0, 0, 1, 0, 0, 0, 1, 1, 1, 1, 0, 0, 0, 0, 1, 0, 1, 1,\n",
       "       1, 0, 1, 0, 0, 1, 0, 0, 1, 1, 1, 1, 1, 0, 1, 0, 0, 0, 1, 1, 1, 1,\n",
       "       1, 0, 0, 0, 1, 1, 1, 1, 0, 0, 0, 0, 0, 1, 1, 0, 1, 0, 1, 0, 0, 0,\n",
       "       0, 0, 0, 0, 0, 0, 1, 1, 1, 1, 1, 0, 1, 0, 1, 1, 1, 1, 0, 1, 1, 1,\n",
       "       1, 1, 1, 1, 1, 0, 1, 1, 0, 1, 0, 0, 0, 1, 0, 1, 1, 1, 0, 1, 1, 0,\n",
       "       1, 1, 0, 1, 0, 1, 1, 0, 0, 1, 1, 1, 0, 0, 0, 0, 1, 1, 0, 0, 1, 1,\n",
       "       1, 1, 1, 1, 1, 1, 1, 1, 1, 1, 1, 1, 0, 0, 1, 0, 1, 0, 1, 0, 1, 1,\n",
       "       1, 1, 1, 1, 0, 1, 0, 1, 1, 1, 0, 1, 1, 0, 0, 1, 0, 1, 1, 0, 0, 1,\n",
       "       1, 1, 1, 1, 1, 1, 1, 0, 1, 1, 1, 0, 1, 0, 0, 1, 1, 0, 0, 0, 1, 0,\n",
       "       0, 1, 0, 0, 0, 1, 0, 1, 0, 0, 0, 0, 1, 0, 1, 1, 1, 1, 0, 1, 0, 0,\n",
       "       0, 0, 0, 0, 1, 0, 1, 0, 1, 0, 1, 1, 1, 0, 1, 0, 1, 0, 0, 1, 1, 1,\n",
       "       0, 0, 0, 1, 1, 0, 1, 0, 1, 1, 0, 1, 0, 0, 1, 1, 1, 0, 0, 0, 1, 1,\n",
       "       0, 0, 0, 0, 0, 1, 1, 0, 1, 0, 0, 0, 1, 0, 0, 0, 1, 1, 1, 1, 0, 1,\n",
       "       1, 1, 0, 1, 1, 1, 1, 0, 1, 1, 0, 1, 1, 0, 0, 1, 1, 1, 0, 0, 0, 0,\n",
       "       0, 0, 1, 0, 0, 1, 0, 0, 0, 1, 0, 1, 0, 1, 1, 0, 0, 0, 0, 0, 0, 0,\n",
       "       0, 1, 0, 1, 0, 0, 0, 1, 0, 0], dtype=int64)"
      ]
     },
     "execution_count": 4,
     "metadata": {},
     "output_type": "execute_result"
    }
   ],
   "source": [
    "# check the labels\n",
    "y"
   ]
  },
  {
   "cell_type": "code",
   "execution_count": null,
   "id": "3f140d35-5951-43b4-97b9-d496192fb795",
   "metadata": {},
   "outputs": [],
   "source": []
  },
  {
   "cell_type": "markdown",
   "id": "4554b17d-0a9e-440c-8378-e27164c8f77c",
   "metadata": {},
   "source": [
    "Visualize the data"
   ]
  },
  {
   "cell_type": "code",
   "execution_count": 5,
   "id": "4ddab068-79b1-49c4-9770-d98e79d452df",
   "metadata": {},
   "outputs": [],
   "source": [
    "circles = pd.DataFrame({'X0': X[:, 0], 'X1': X[:, 1], 'label':y})"
   ]
  },
  {
   "cell_type": "code",
   "execution_count": 6,
   "id": "5ee17652-eb4c-4337-b7ca-851700b013c9",
   "metadata": {},
   "outputs": [
    {
     "data": {
      "text/html": [
       "<div>\n",
       "<style scoped>\n",
       "    .dataframe tbody tr th:only-of-type {\n",
       "        vertical-align: middle;\n",
       "    }\n",
       "\n",
       "    .dataframe tbody tr th {\n",
       "        vertical-align: top;\n",
       "    }\n",
       "\n",
       "    .dataframe thead th {\n",
       "        text-align: right;\n",
       "    }\n",
       "</style>\n",
       "<table border=\"1\" class=\"dataframe\">\n",
       "  <thead>\n",
       "    <tr style=\"text-align: right;\">\n",
       "      <th></th>\n",
       "      <th>X0</th>\n",
       "      <th>X1</th>\n",
       "      <th>label</th>\n",
       "    </tr>\n",
       "  </thead>\n",
       "  <tbody>\n",
       "    <tr>\n",
       "      <th>0</th>\n",
       "      <td>0.754246</td>\n",
       "      <td>0.231481</td>\n",
       "      <td>1</td>\n",
       "    </tr>\n",
       "    <tr>\n",
       "      <th>1</th>\n",
       "      <td>-0.756159</td>\n",
       "      <td>0.153259</td>\n",
       "      <td>1</td>\n",
       "    </tr>\n",
       "    <tr>\n",
       "      <th>2</th>\n",
       "      <td>-0.815392</td>\n",
       "      <td>0.173282</td>\n",
       "      <td>1</td>\n",
       "    </tr>\n",
       "    <tr>\n",
       "      <th>3</th>\n",
       "      <td>-0.393731</td>\n",
       "      <td>0.692883</td>\n",
       "      <td>1</td>\n",
       "    </tr>\n",
       "    <tr>\n",
       "      <th>4</th>\n",
       "      <td>0.442208</td>\n",
       "      <td>-0.896723</td>\n",
       "      <td>0</td>\n",
       "    </tr>\n",
       "  </tbody>\n",
       "</table>\n",
       "</div>"
      ],
      "text/plain": [
       "         X0        X1  label\n",
       "0  0.754246  0.231481      1\n",
       "1 -0.756159  0.153259      1\n",
       "2 -0.815392  0.173282      1\n",
       "3 -0.393731  0.692883      1\n",
       "4  0.442208 -0.896723      0"
      ]
     },
     "execution_count": 6,
     "metadata": {},
     "output_type": "execute_result"
    }
   ],
   "source": [
    "circles.head()"
   ]
  },
  {
   "cell_type": "code",
   "execution_count": 7,
   "id": "ac029142-1947-491b-8642-70d861e2a8d1",
   "metadata": {},
   "outputs": [
    {
     "data": {
      "text/plain": [
       "<matplotlib.collections.PathCollection at 0x1b464282f10>"
      ]
     },
     "execution_count": 7,
     "metadata": {},
     "output_type": "execute_result"
    },
    {
     "data": {
      "image/png": "[encoded data removed]",
      "text/plain": [
       "<Figure size 432x288 with 1 Axes>"
      ]
     },
     "metadata": {
      "needs_background": "light"
     },
     "output_type": "display_data"
    }
   ],
   "source": [
    "plt.scatter(X[:, 0], X[:,1], c=y, cmap=plt.cm.RdYlBu)"
   ]
  },
  {
   "cell_type": "markdown",
   "id": "1085b9cd-3d2f-4cdb-a577-b6fb0efed553",
   "metadata": {},
   "source": [
    "### Input and output shapes"
   ]
  },
  {
   "cell_type": "code",
   "execution_count": 8,
   "id": "878b4fec-a9da-47ae-9dbf-33fa1f71e228",
   "metadata": {},
   "outputs": [
    {
     "data": {
      "text/plain": [
       "((1000, 2), (1000,))"
      ]
     },
     "execution_count": 8,
     "metadata": {},
     "output_type": "execute_result"
    }
   ],
   "source": [
    "X.shape, y.shape"
   ]
  },
  {
   "cell_type": "code",
   "execution_count": 9,
   "id": "4ec0fef8-7c1e-40a6-8a06-dcbe7431f019",
   "metadata": {},
   "outputs": [
    {
     "data": {
      "text/plain": [
       "(array([0.75424625, 0.23148074]), 1)"
      ]
     },
     "execution_count": 9,
     "metadata": {},
     "output_type": "execute_result"
    }
   ],
   "source": [
    "X[0], y[0]"
   ]
  },
  {
   "cell_type": "markdown",
   "id": "8bcc4a13-d46a-43c9-835b-87a995df6709",
   "metadata": {},
   "source": [
    "### Steps in modelling"
   ]
  },
  {
   "cell_type": "markdown",
   "id": "c1549b00-fbc0-43e7-9697-6a8111199feb",
   "metadata": {},
   "source": [
    "a first try"
   ]
  },
  {
   "cell_type": "code",
   "execution_count": 10,
   "id": "87e64626-b2af-415e-8839-0082a23a8e07",
   "metadata": {},
   "outputs": [
    {
     "name": "stdout",
     "output_type": "stream",
     "text": [
      "32/32 [==============================] - 0s 531us/step - loss: 0.6940 - accuracy: 0.5000\n"
     ]
    },
    {
     "data": {
      "text/plain": [
       "[0.6939972639083862, 0.5]"
      ]
     },
     "execution_count": 10,
     "metadata": {},
     "output_type": "execute_result"
    }
   ],
   "source": [
    "tf.random.set_seed(42)\n",
    "\n",
    "model_00 = tf.keras.Sequential([\n",
    "    tf.keras.layers.Dense(units=10, activation = 'sigmoid', name='input_layer'),\n",
    "    tf.keras.layers.Dense(100, activation='sigmoid'),\n",
    "    tf.keras.layers.Dense(100, activation='sigmoid'),\n",
    "    tf.keras.layers.Dense(1, activation='sigmoid', name='output_layer')\n",
    "])\n",
    "\n",
    "model_00.compile(loss=tf.keras.losses.BinaryCrossentropy(),\n",
    "                optimizer=tf.keras.optimizers.Adam(),\n",
    "                metrics='accuracy')\n",
    "\n",
    "history_00 = model_00.fit(X,y, epochs =100, verbose =0)\n",
    "model_00.evaluate(X,y)"
   ]
  },
  {
   "cell_type": "markdown",
   "id": "3d8d2802-1a1d-4a19-9d8f-954cb860ac37",
   "metadata": {},
   "source": [
    "first course model"
   ]
  },
  {
   "cell_type": "code",
   "execution_count": 11,
   "id": "2c4f531d-fcf7-4cdd-a705-8699fc6f2da1",
   "metadata": {},
   "outputs": [
    {
     "name": "stdout",
     "output_type": "stream",
     "text": [
      "Epoch 1/5\n",
      "32/32 [==============================] - 0s 500us/step - loss: 2.8544 - accuracy: 0.4600\n",
      "Epoch 2/5\n",
      "32/32 [==============================] - 0s 531us/step - loss: 0.7131 - accuracy: 0.5430\n",
      "Epoch 3/5\n",
      "32/32 [==============================] - 0s 531us/step - loss: 0.6973 - accuracy: 0.5090\n",
      "Epoch 4/5\n",
      "32/32 [==============================] - 0s 531us/step - loss: 0.6950 - accuracy: 0.5010\n",
      "Epoch 5/5\n",
      "32/32 [==============================] - 0s 531us/step - loss: 0.6942 - accuracy: 0.4820\n"
     ]
    }
   ],
   "source": [
    "tf.random.set_seed(42)\n",
    "\n",
    "model_01 = tf.keras.Sequential([\n",
    "    tf.keras.layers.Dense(1)\n",
    "])\n",
    "\n",
    "model_01.compile(loss= tf.keras.losses.BinaryCrossentropy(),\n",
    "                optimizer=tf.keras.optimizers.SGD(),\n",
    "                 metrics=['accuracy'])\n",
    "\n",
    "history_01 = model_01.fit(X,y, epochs=5)"
   ]
  },
  {
   "cell_type": "code",
   "execution_count": 12,
   "id": "4bae051c-5ec3-4cc3-9583-8cb4133429d7",
   "metadata": {},
   "outputs": [
    {
     "name": "stdout",
     "output_type": "stream",
     "text": [
      "32/32 [==============================] - 0s 469us/step - loss: 0.6935 - accuracy: 0.5000\n"
     ]
    },
    {
     "data": {
      "text/plain": [
       "[0.6934829950332642, 0.5]"
      ]
     },
     "execution_count": 12,
     "metadata": {},
     "output_type": "execute_result"
    }
   ],
   "source": [
    "# longer training\n",
    "tf.random.set_seed(42)\n",
    "\n",
    "model_02 = tf.keras.Sequential([\n",
    "    tf.keras.layers.Dense(1)\n",
    "])\n",
    "\n",
    "model_02.compile(loss= tf.keras.losses.BinaryCrossentropy(),\n",
    "                optimizer=tf.keras.optimizers.SGD(),\n",
    "                 metrics=['accuracy'])\n",
    "\n",
    "history_02 = model_02.fit(X,y, epochs=200, verbose=0)\n",
    "\n",
    "model_02.evaluate(X,y)"
   ]
  },
  {
   "cell_type": "markdown",
   "id": "0c2dd0e5-cc39-4c9d-b16a-da4688aa2e5f",
   "metadata": {},
   "source": [
    "that's just a guessing perfomence\n",
    "\n",
    "More layers!!!"
   ]
  },
  {
   "cell_type": "code",
   "execution_count": 13,
   "id": "ab846078-2c61-4d52-81af-61c064b33fd9",
   "metadata": {},
   "outputs": [
    {
     "name": "stdout",
     "output_type": "stream",
     "text": [
      "32/32 [==============================] - 0s 469us/step - loss: 0.6936 - accuracy: 0.5000\n"
     ]
    },
    {
     "data": {
      "text/plain": [
       "[0.6935999989509583, 0.5]"
      ]
     },
     "execution_count": 13,
     "metadata": {},
     "output_type": "execute_result"
    }
   ],
   "source": [
    "tf.random.set_seed(42)\n",
    "\n",
    "model_03 = tf.keras.Sequential([\n",
    "    tf.keras.layers.Dense(1),\n",
    "    tf.keras.layers.Dense(1)\n",
    "])\n",
    "\n",
    "model_03.compile(loss= tf.keras.losses.BinaryCrossentropy(),\n",
    "                optimizer=tf.keras.optimizers.SGD(),\n",
    "                 metrics=['accuracy'])\n",
    "\n",
    "history_03 = model_03.fit(X,y, epochs=200, verbose=0)\n",
    "\n",
    "model_03.evaluate(X,y)"
   ]
  },
  {
   "cell_type": "markdown",
   "id": "c17d81db-07f3-4fd2-a903-54a23a9a9a67",
   "metadata": {},
   "source": [
    "### Improving the model\n",
    "\n",
    "* more layers, more units\n",
    "* different optimization\n",
    "* more epochs"
   ]
  },
  {
   "cell_type": "code",
   "execution_count": 14,
   "id": "631ad862-d2cf-4b2c-a063-09eed046e220",
   "metadata": {},
   "outputs": [
    {
     "name": "stdout",
     "output_type": "stream",
     "text": [
      "32/32 [==============================] - 0s 469us/step - loss: 0.6980 - accuracy: 0.5080\n"
     ]
    },
    {
     "data": {
      "text/plain": [
       "[0.6980252861976624, 0.5080000162124634]"
      ]
     },
     "execution_count": 14,
     "metadata": {},
     "output_type": "execute_result"
    }
   ],
   "source": [
    "tf.random.set_seed(42)\n",
    "\n",
    "model_04 = tf.keras.Sequential([\n",
    "    tf.keras.layers.Dense(100),\n",
    "    tf.keras.layers.Dense(10),\n",
    "    tf.keras.layers.Dense(1)\n",
    "])\n",
    "\n",
    "model_04.compile(loss= tf.keras.losses.BinaryCrossentropy(),\n",
    "                optimizer=tf.keras.optimizers.Adam(),\n",
    "                 metrics=['accuracy'])\n",
    "\n",
    "history_04 = model_04.fit(X,y, epochs=100, verbose=0)\n",
    "\n",
    "model_04.evaluate(X,y)"
   ]
  },
  {
   "cell_type": "code",
   "execution_count": 15,
   "id": "ae1de9d4-5f53-4640-8592-11f4e31444d1",
   "metadata": {},
   "outputs": [
    {
     "name": "stdout",
     "output_type": "stream",
     "text": [
      "32/32 [==============================] - 0s 500us/step - loss: 7.6246 - accuracy: 0.5000\n"
     ]
    },
    {
     "data": {
      "text/plain": [
       "[7.6246185302734375, 0.5]"
      ]
     },
     "execution_count": 15,
     "metadata": {},
     "output_type": "execute_result"
    }
   ],
   "source": [
    "tf.random.set_seed(42)\n",
    "\n",
    "model_05 = tf.keras.Sequential([\n",
    "    tf.keras.layers.Dense(100, activation='relu'),\n",
    "    tf.keras.layers.Dense(100, activation='relu'),\n",
    "    tf.keras.layers.Dense(1, activation='softmax')\n",
    "])\n",
    "\n",
    "model_05.compile(loss= tf.keras.losses.BinaryCrossentropy(),\n",
    "                optimizer=tf.keras.optimizers.Adam(),\n",
    "                 metrics=['accuracy'])\n",
    "\n",
    "history_05 = model_05.fit(X,y, epochs=100, verbose=0)\n",
    "\n",
    "model_05.evaluate(X,y)"
   ]
  },
  {
   "cell_type": "markdown",
   "id": "464959bb-1877-4fa9-a8e4-69b58298a2e9",
   "metadata": {},
   "source": [
    "still sucks !\n"
   ]
  },
  {
   "cell_type": "markdown",
   "id": "badfa334-e13e-4326-8373-4eed07658c62",
   "metadata": {},
   "source": [
    "## Visualizing data of Model 04"
   ]
  },
  {
   "cell_type": "markdown",
   "id": "0c7bcf95-85bc-4af9-a473-0c2d83346b33",
   "metadata": {},
   "source": [
    "to visualize our model's prediction write a function **plot_decision_boundary()**\n",
    "\n",
    "* take in a trained model, features X and labels y\n",
    "* Create a meshgrid of the different X values\n",
    "* make predictions across the meshgrd\n",
    "* plot the predictions as well as a line between zones (where each unique class falls)\n"
   ]
  },
  {
   "cell_type": "code",
   "execution_count": 16,
   "id": "fbc53f42-5828-4477-9012-3f49b5fd63eb",
   "metadata": {},
   "outputs": [],
   "source": [
    "def plot_decision_boundary(model, X, y):\n",
    "    '''\n",
    "    Plots the decision boundary created by a model predicting on X\n",
    "    resources   1. madewithml (github)\n",
    "                2. cs231n (github)\n",
    "    '''\n",
    "    # Define the axis boundaries of the plot and create a meshgrid\n",
    "    x_min, x_max = X[:, 0].min() -0.1, X[:, 0].max() + 0.1\n",
    "    y_min, y_max = X[:, 0].min() -0.1, X[:, 0].max() + 0.1\n",
    "    \n",
    "    xx, yy = np.meshgrid(np.linspace(x_min, x_max, 100),\n",
    "                        np.linspace(y_min, y_max, 100))\n",
    "    # Create X value\n",
    "    x_in = np.c_[xx.ravel(), yy.ravel()] # stack 2d arrays together\n",
    "    \n",
    "    #make predictions\n",
    "    y_pred= model.predict(x_in)\n",
    "    \n",
    "    # check for multi-class\n",
    "    if len(y_pred[0]) >1:\n",
    "        print('doing multiclass classification')\n",
    "        # reshape our predictions to get them ready for plotting\n",
    "        y_pred = np.argmax(y_pred, axis=1).reshape(xx.shape)\n",
    "    else:\n",
    "        print('doing binary classification')\n",
    "        y_pred = np.round(y_pred).reshape(xx.shape)\n",
    "            \n",
    "    #Plot the decision boundary\n",
    "    plt.contourf(xx,yy, y_pred, cmap=plt.cm.RdYlBu, alpha=0.7)\n",
    "    plt.scatter(X[:,0], X[:,1], c=y, s=40 , cmap=plt.cm.RdYlBu)\n",
    "    plt.xlim(xx.min(), xx.max())\n",
    "    plt.ylim(yy.min(), yy.max())"
   ]
  },
  {
   "cell_type": "code",
   "execution_count": 17,
   "id": "ab06a3ca-8d16-449f-b0f3-a01d31c31d2e",
   "metadata": {},
   "outputs": [
    {
     "name": "stdout",
     "output_type": "stream",
     "text": [
      "doing binary classification\n"
     ]
    },
    {
     "data": {
      "image/png": "[encoded data removed]",
      "text/plain": [
       "<Figure size 432x288 with 1 Axes>"
      ]
     },
     "metadata": {
      "needs_background": "light"
     },
     "output_type": "display_data"
    }
   ],
   "source": [
    "# check out the predictions our model\n",
    "plot_decision_boundary(model_04, X=X,y=y)"
   ]
  },
  {
   "cell_type": "code",
   "execution_count": 18,
   "id": "6a507632-f131-4d37-a72e-2818983715fb",
   "metadata": {},
   "outputs": [
    {
     "data": {
      "text/plain": [
       "'2.3.0'"
      ]
     },
     "execution_count": 18,
     "metadata": {},
     "output_type": "execute_result"
    }
   ],
   "source": [
    "tf.version.VERSION"
   ]
  },
  {
   "cell_type": "markdown",
   "id": "8a9ddf77-6f82-4fe4-bbdd-239910710210",
   "metadata": {},
   "source": [
    "## Can the model be used for regression data?"
   ]
  },
  {
   "cell_type": "code",
   "execution_count": 20,
   "id": "6c69df78-653b-4b37-8a9e-a5838cd214c0",
   "metadata": {},
   "outputs": [],
   "source": [
    "tf.random.set_seed(42)\n",
    "\n",
    "X_reg = tf.range(0,1000, 5)\n",
    "y_reg = tf.range(100, 1100, 5)\n",
    "\n",
    "#X_reg, y_reg"
   ]
  },
  {
   "cell_type": "code",
   "execution_count": 21,
   "id": "fb8f5440-85a3-4e7e-b520-c3c723e37e39",
   "metadata": {},
   "outputs": [],
   "source": [
    "X_reg_train = X_reg[:150]\n",
    "X_reg_test = X_reg[150:]\n",
    "\n",
    "y_reg_train = y_reg[:150]\n",
    "y_reg_test = y_reg[150:]"
   ]
  },
  {
   "cell_type": "markdown",
   "id": "7a62b3d0-2071-41a4-8195-dd6113ff255d",
   "metadata": {},
   "source": [
    "Since we compiled out model for a binary classification model, not for a lin regression model\n"
   ]
  },
  {
   "cell_type": "code",
   "execution_count": 26,
   "id": "134b06c1-dfc9-4692-86e4-1d841e2d741a",
   "metadata": {},
   "outputs": [
    {
     "name": "stdout",
     "output_type": "stream",
     "text": [
      "2/2 [==============================] - 0s 500us/step - loss: 57.8926 - mae: 57.8926\n"
     ]
    },
    {
     "data": {
      "text/plain": [
       "[57.8925895690918, 57.8925895690918]"
      ]
     },
     "execution_count": 26,
     "metadata": {},
     "output_type": "execute_result"
    }
   ],
   "source": [
    "tf.random.set_seed(42)\n",
    "\n",
    "model_06 = tf.keras.Sequential([\n",
    "    tf.keras.layers.Dense(100),\n",
    "    tf.keras.layers.Dense(10),\n",
    "    tf.keras.layers.Dense(1)\n",
    "])\n",
    "\n",
    "model_06.compile(loss= tf.keras.losses.mae,\n",
    "                optimizer=tf.keras.optimizers.Adam(),\n",
    "                 metrics='mae')\n",
    "\n",
    "history_06 = model_06.fit(X_reg_train,y_reg_train, epochs=100, verbose=0)\n",
    "\n",
    "model_06.evaluate(X_reg_test,y_reg_test)"
   ]
  },
  {
   "cell_type": "code",
   "execution_count": 27,
   "id": "6050a3cb-169d-4328-8598-0dde7344e218",
   "metadata": {},
   "outputs": [
    {
     "data": {
      "text/plain": [
       "<matplotlib.legend.Legend at 0x1b46b87a400>"
      ]
     },
     "execution_count": 27,
     "metadata": {},
     "output_type": "execute_result"
    },
    {
     "data": {
      "image/png": "[encoded data removed]",
      "text/plain": [
       "<Figure size 720x504 with 1 Axes>"
      ]
     },
     "metadata": {
      "needs_background": "light"
     },
     "output_type": "display_data"
    }
   ],
   "source": [
    "y_reg_preds = model_06.predict(X_reg_test)\n",
    "\n",
    "plt.figure(figsize=(10,7))\n",
    "\n",
    "plt.scatter(X_reg_train, y_reg_train, c='b', label = 'training data')\n",
    "plt.scatter(X_reg_test, y_reg_test, c='g', label = 'testing data')\n",
    "plt.scatter(X_reg_test, y_reg_preds, c='r', label = 'prediction data')\n",
    "\n",
    "plt.legend()"
   ]
  },
  {
   "cell_type": "markdown",
   "id": "a6639828-0906-48b5-8ade-8ca976d7e4c2",
   "metadata": {},
   "source": [
    "The missing piece is non-linearity"
   ]
  },
  {
   "cell_type": "code",
   "execution_count": null,
   "id": "256b1592-c4e4-4d57-92fd-63d337379bd6",
   "metadata": {},
   "outputs": [],
   "source": [
    "tf.random.set_seed(42)\n",
    "\n",
    "model_07 = tf.keras.Sequential([\n",
    "    tf.keras.layers.Dense(1, activation=tf.keras.activations.linear)\n",
    "])"
   ]
  }
 ],
 "metadata": {
  "kernelspec": {
   "display_name": "Python 3 (ipykernel)",
   "language": "python",
   "name": "python3"
  },
  "language_info": {
   "codemirror_mode": {
    "name": "ipython",
    "version": 3
   },
   "file_extension": ".py",
   "mimetype": "text/x-python",
   "name": "python",
   "nbconvert_exporter": "python",
   "pygments_lexer": "ipython3",
   "version": "3.8.12"
  }
 },
 "nbformat": 4,
 "nbformat_minor": 5
}
